{
 "cells": [
  {
   "cell_type": "markdown",
   "metadata": {
    "colab_type": "text",
    "id": "view-in-github"
   },
   "source": [
    "<a href=\"https://colab.research.google.com/github/yustiks/statistics_in_python/blob/master/statistics_4.ipynb\" target=\"_parent\"><img src=\"https://colab.research.google.com/assets/colab-badge.svg\" alt=\"Open In Colab\"/></a>"
   ]
  },
  {
   "cell_type": "markdown",
   "metadata": {
    "colab_type": "text",
    "id": "qReP0n9FFw0v"
   },
   "source": [
    "# Итоговая работа"
   ]
  },
  {
   "cell_type": "markdown",
   "metadata": {
    "colab_type": "text",
    "id": "96wQXX6AozHn"
   },
   "source": [
    "Анализ данных он-лайн магазина из Британии"
   ]
  },
  {
   "cell_type": "code",
   "execution_count": 1,
   "metadata": {
    "colab": {},
    "colab_type": "code",
    "id": "_qV_Cb1gqTo5"
   },
   "outputs": [],
   "source": [
    "import numpy as np\n",
    "import matplotlib.pyplot as plt\n",
    "from scipy import stats\n",
    "import pandas as pd\n",
    "import requests\n",
    "import seaborn as sns\n",
    "from datetime import datetime\n",
    "import dateutil.relativedelta\n",
    "%matplotlib inline\n"
   ]
  },
  {
   "cell_type": "code",
   "execution_count": 2,
   "metadata": {
    "colab": {
     "base_uri": "https://localhost:8080/",
     "height": 357
    },
    "colab_type": "code",
    "id": "C7lkKEYzFuQ1",
    "outputId": "9579f1dc-00d2-40b7-ed41-762fcbe55c50"
   },
   "outputs": [
    {
     "name": "stdout",
     "output_type": "stream",
     "text": [
      "   Unnamed: 0 InvoiceNo StockCode                     Description  Quantity  \\\n",
      "0           0    536365    84029E  RED WOOLLY HOTTIE WHITE HEART.         6   \n",
      "1           1    536367     84879   ASSORTED COLOUR BIRD ORNAMENT        32   \n",
      "2           2    536367     21755        LOVE BUILDING BLOCK WORD         3   \n",
      "3           3    536368     22914    BLUE COAT RACK PARIS FASHION         3   \n",
      "4           4    536373    84406B  CREAM CUPID HEARTS COAT HANGER         8   \n",
      "\n",
      "    InvoiceDate UnitPrice  CustomerID         Country UnitPrice_1  \n",
      "0  12/1/10 8:26      3,39     17850.0  United Kingdom        3,39  \n",
      "1  12/1/10 8:34      1,69     13047.0  United Kingdom        1,69  \n",
      "2  12/1/10 8:34      5,95     13047.0  United Kingdom        5,95  \n",
      "3  12/1/10 8:34      4,95     13047.0  United Kingdom        4,95  \n",
      "4  12/1/10 9:02      2,75     17850.0  United Kingdom        2,75  \n"
     ]
    }
   ],
   "source": [
    "data=pd.read_csv('data_retail.csv')\n",
    "print(data.head())"
   ]
  },
  {
   "cell_type": "markdown",
   "metadata": {},
   "source": [
    "Посмотрим на структуру данных"
   ]
  },
  {
   "cell_type": "code",
   "execution_count": 3,
   "metadata": {},
   "outputs": [
    {
     "name": "stdout",
     "output_type": "stream",
     "text": [
      "<class 'pandas.core.frame.DataFrame'>\n",
      "RangeIndex: 54214 entries, 0 to 54213\n",
      "Data columns (total 10 columns):\n",
      "Unnamed: 0     54214 non-null int64\n",
      "InvoiceNo      54214 non-null object\n",
      "StockCode      54214 non-null object\n",
      "Description    54080 non-null object\n",
      "Quantity       54214 non-null int64\n",
      "InvoiceDate    54214 non-null object\n",
      "UnitPrice      54214 non-null object\n",
      "CustomerID     40643 non-null float64\n",
      "Country        54214 non-null object\n",
      "UnitPrice_1    54214 non-null object\n",
      "dtypes: float64(1), int64(2), object(7)\n",
      "memory usage: 4.1+ MB\n"
     ]
    }
   ],
   "source": [
    "data.info()"
   ]
  },
  {
   "cell_type": "code",
   "execution_count": 4,
   "metadata": {},
   "outputs": [],
   "source": [
    "def missingdata(data):\n",
    "    '''\n",
    "    считаем кол-во и долю пропущеных значений\n",
    "    '''\n",
    "    total = data.isnull().sum().sort_values(ascending = False)\n",
    "    percent = (data.isnull().sum()/data.isnull().count()*100).sort_values(ascending = False)\n",
    "    ms=pd.concat([total, percent], axis=1, keys=['Total', 'Percent'])\n",
    "    ms= ms[ms[\"Percent\"] > 0]\n",
    "    return ms"
   ]
  },
  {
   "cell_type": "code",
   "execution_count": 5,
   "metadata": {},
   "outputs": [
    {
     "data": {
      "text/html": [
       "<div>\n",
       "<style scoped>\n",
       "    .dataframe tbody tr th:only-of-type {\n",
       "        vertical-align: middle;\n",
       "    }\n",
       "\n",
       "    .dataframe tbody tr th {\n",
       "        vertical-align: top;\n",
       "    }\n",
       "\n",
       "    .dataframe thead th {\n",
       "        text-align: right;\n",
       "    }\n",
       "</style>\n",
       "<table border=\"1\" class=\"dataframe\">\n",
       "  <thead>\n",
       "    <tr style=\"text-align: right;\">\n",
       "      <th></th>\n",
       "      <th>Total</th>\n",
       "      <th>Percent</th>\n",
       "    </tr>\n",
       "  </thead>\n",
       "  <tbody>\n",
       "    <tr>\n",
       "      <th>CustomerID</th>\n",
       "      <td>13571</td>\n",
       "      <td>25.032279</td>\n",
       "    </tr>\n",
       "    <tr>\n",
       "      <th>Description</th>\n",
       "      <td>134</td>\n",
       "      <td>0.247169</td>\n",
       "    </tr>\n",
       "  </tbody>\n",
       "</table>\n",
       "</div>"
      ],
      "text/plain": [
       "             Total    Percent\n",
       "CustomerID   13571  25.032279\n",
       "Description    134   0.247169"
      ]
     },
     "execution_count": 5,
     "metadata": {},
     "output_type": "execute_result"
    }
   ],
   "source": [
    "missingdata(data)"
   ]
  },
  {
   "cell_type": "markdown",
   "metadata": {},
   "source": [
    "есть пропущенные значения в признаках Description - 0.2% и CustomerID - 25%\n",
    "CustomerID - заполнить значением 9999999-для идентификации в анализе\n",
    "Description - это описание товара, для принятия решения надо исследовать датасет"
   ]
  },
  {
   "cell_type": "markdown",
   "metadata": {},
   "source": [
    "UnitPrice - надо заменить , на . в исходном файле"
   ]
  },
  {
   "cell_type": "code",
   "execution_count": 7,
   "metadata": {},
   "outputs": [],
   "source": [
    "data = pd.read_csv('data_retail.csv', quotechar='\"', decimal=\",\")\n",
    "data.to_csv('data_retail_2.csv', sep=',', encoding='utf-8', quotechar='\"', decimal='.')"
   ]
  },
  {
   "cell_type": "code",
   "execution_count": 9,
   "metadata": {},
   "outputs": [],
   "source": [
    "data=pd.read_csv('data_retail_2.csv')"
   ]
  },
  {
   "cell_type": "code",
   "execution_count": 10,
   "metadata": {},
   "outputs": [
    {
     "data": {
      "text/html": [
       "<div>\n",
       "<style scoped>\n",
       "    .dataframe tbody tr th:only-of-type {\n",
       "        vertical-align: middle;\n",
       "    }\n",
       "\n",
       "    .dataframe tbody tr th {\n",
       "        vertical-align: top;\n",
       "    }\n",
       "\n",
       "    .dataframe thead th {\n",
       "        text-align: right;\n",
       "    }\n",
       "</style>\n",
       "<table border=\"1\" class=\"dataframe\">\n",
       "  <thead>\n",
       "    <tr style=\"text-align: right;\">\n",
       "      <th></th>\n",
       "      <th>Unnamed: 0</th>\n",
       "      <th>Unnamed: 0.1</th>\n",
       "      <th>InvoiceNo</th>\n",
       "      <th>StockCode</th>\n",
       "      <th>Description</th>\n",
       "      <th>Quantity</th>\n",
       "      <th>InvoiceDate</th>\n",
       "      <th>UnitPrice</th>\n",
       "      <th>CustomerID</th>\n",
       "      <th>Country</th>\n",
       "      <th>UnitPrice_1</th>\n",
       "    </tr>\n",
       "  </thead>\n",
       "  <tbody>\n",
       "    <tr>\n",
       "      <th>0</th>\n",
       "      <td>0</td>\n",
       "      <td>0</td>\n",
       "      <td>536365</td>\n",
       "      <td>84029E</td>\n",
       "      <td>RED WOOLLY HOTTIE WHITE HEART.</td>\n",
       "      <td>6</td>\n",
       "      <td>12/1/10 8:26</td>\n",
       "      <td>3.39</td>\n",
       "      <td>17850.0</td>\n",
       "      <td>United Kingdom</td>\n",
       "      <td>3.39</td>\n",
       "    </tr>\n",
       "    <tr>\n",
       "      <th>1</th>\n",
       "      <td>1</td>\n",
       "      <td>1</td>\n",
       "      <td>536367</td>\n",
       "      <td>84879</td>\n",
       "      <td>ASSORTED COLOUR BIRD ORNAMENT</td>\n",
       "      <td>32</td>\n",
       "      <td>12/1/10 8:34</td>\n",
       "      <td>1.69</td>\n",
       "      <td>13047.0</td>\n",
       "      <td>United Kingdom</td>\n",
       "      <td>1.69</td>\n",
       "    </tr>\n",
       "    <tr>\n",
       "      <th>2</th>\n",
       "      <td>2</td>\n",
       "      <td>2</td>\n",
       "      <td>536367</td>\n",
       "      <td>21755</td>\n",
       "      <td>LOVE BUILDING BLOCK WORD</td>\n",
       "      <td>3</td>\n",
       "      <td>12/1/10 8:34</td>\n",
       "      <td>5.95</td>\n",
       "      <td>13047.0</td>\n",
       "      <td>United Kingdom</td>\n",
       "      <td>5.95</td>\n",
       "    </tr>\n",
       "    <tr>\n",
       "      <th>3</th>\n",
       "      <td>3</td>\n",
       "      <td>3</td>\n",
       "      <td>536368</td>\n",
       "      <td>22914</td>\n",
       "      <td>BLUE COAT RACK PARIS FASHION</td>\n",
       "      <td>3</td>\n",
       "      <td>12/1/10 8:34</td>\n",
       "      <td>4.95</td>\n",
       "      <td>13047.0</td>\n",
       "      <td>United Kingdom</td>\n",
       "      <td>4.95</td>\n",
       "    </tr>\n",
       "    <tr>\n",
       "      <th>4</th>\n",
       "      <td>4</td>\n",
       "      <td>4</td>\n",
       "      <td>536373</td>\n",
       "      <td>84406B</td>\n",
       "      <td>CREAM CUPID HEARTS COAT HANGER</td>\n",
       "      <td>8</td>\n",
       "      <td>12/1/10 9:02</td>\n",
       "      <td>2.75</td>\n",
       "      <td>17850.0</td>\n",
       "      <td>United Kingdom</td>\n",
       "      <td>2.75</td>\n",
       "    </tr>\n",
       "  </tbody>\n",
       "</table>\n",
       "</div>"
      ],
      "text/plain": [
       "   Unnamed: 0  Unnamed: 0.1 InvoiceNo StockCode  \\\n",
       "0           0             0    536365    84029E   \n",
       "1           1             1    536367     84879   \n",
       "2           2             2    536367     21755   \n",
       "3           3             3    536368     22914   \n",
       "4           4             4    536373    84406B   \n",
       "\n",
       "                      Description  Quantity   InvoiceDate  UnitPrice  \\\n",
       "0  RED WOOLLY HOTTIE WHITE HEART.         6  12/1/10 8:26       3.39   \n",
       "1   ASSORTED COLOUR BIRD ORNAMENT        32  12/1/10 8:34       1.69   \n",
       "2        LOVE BUILDING BLOCK WORD         3  12/1/10 8:34       5.95   \n",
       "3    BLUE COAT RACK PARIS FASHION         3  12/1/10 8:34       4.95   \n",
       "4  CREAM CUPID HEARTS COAT HANGER         8  12/1/10 9:02       2.75   \n",
       "\n",
       "   CustomerID         Country  UnitPrice_1  \n",
       "0     17850.0  United Kingdom         3.39  \n",
       "1     13047.0  United Kingdom         1.69  \n",
       "2     13047.0  United Kingdom         5.95  \n",
       "3     13047.0  United Kingdom         4.95  \n",
       "4     17850.0  United Kingdom         2.75  "
      ]
     },
     "execution_count": 10,
     "metadata": {},
     "output_type": "execute_result"
    }
   ],
   "source": [
    "data.head()"
   ]
  },
  {
   "cell_type": "code",
   "execution_count": 12,
   "metadata": {},
   "outputs": [],
   "source": [
    "data.drop(data.iloc[:, [0]],axis=1, inplace = True)\n",
    "data.drop(data.iloc[:, [0.1]],axis=1,inplace = True)"
   ]
  },
  {
   "cell_type": "code",
   "execution_count": 13,
   "metadata": {},
   "outputs": [],
   "source": [
    "data.drop(data.iloc[:, [8]], axis=1, inplace = True)"
   ]
  },
  {
   "cell_type": "code",
   "execution_count": 14,
   "metadata": {},
   "outputs": [
    {
     "data": {
      "text/html": [
       "<div>\n",
       "<style scoped>\n",
       "    .dataframe tbody tr th:only-of-type {\n",
       "        vertical-align: middle;\n",
       "    }\n",
       "\n",
       "    .dataframe tbody tr th {\n",
       "        vertical-align: top;\n",
       "    }\n",
       "\n",
       "    .dataframe thead th {\n",
       "        text-align: right;\n",
       "    }\n",
       "</style>\n",
       "<table border=\"1\" class=\"dataframe\">\n",
       "  <thead>\n",
       "    <tr style=\"text-align: right;\">\n",
       "      <th></th>\n",
       "      <th>InvoiceNo</th>\n",
       "      <th>StockCode</th>\n",
       "      <th>Description</th>\n",
       "      <th>Quantity</th>\n",
       "      <th>InvoiceDate</th>\n",
       "      <th>UnitPrice</th>\n",
       "      <th>CustomerID</th>\n",
       "      <th>Country</th>\n",
       "    </tr>\n",
       "  </thead>\n",
       "  <tbody>\n",
       "    <tr>\n",
       "      <th>0</th>\n",
       "      <td>536365</td>\n",
       "      <td>84029E</td>\n",
       "      <td>RED WOOLLY HOTTIE WHITE HEART.</td>\n",
       "      <td>6</td>\n",
       "      <td>12/1/10 8:26</td>\n",
       "      <td>3.39</td>\n",
       "      <td>17850.0</td>\n",
       "      <td>United Kingdom</td>\n",
       "    </tr>\n",
       "    <tr>\n",
       "      <th>1</th>\n",
       "      <td>536367</td>\n",
       "      <td>84879</td>\n",
       "      <td>ASSORTED COLOUR BIRD ORNAMENT</td>\n",
       "      <td>32</td>\n",
       "      <td>12/1/10 8:34</td>\n",
       "      <td>1.69</td>\n",
       "      <td>13047.0</td>\n",
       "      <td>United Kingdom</td>\n",
       "    </tr>\n",
       "    <tr>\n",
       "      <th>2</th>\n",
       "      <td>536367</td>\n",
       "      <td>21755</td>\n",
       "      <td>LOVE BUILDING BLOCK WORD</td>\n",
       "      <td>3</td>\n",
       "      <td>12/1/10 8:34</td>\n",
       "      <td>5.95</td>\n",
       "      <td>13047.0</td>\n",
       "      <td>United Kingdom</td>\n",
       "    </tr>\n",
       "    <tr>\n",
       "      <th>3</th>\n",
       "      <td>536368</td>\n",
       "      <td>22914</td>\n",
       "      <td>BLUE COAT RACK PARIS FASHION</td>\n",
       "      <td>3</td>\n",
       "      <td>12/1/10 8:34</td>\n",
       "      <td>4.95</td>\n",
       "      <td>13047.0</td>\n",
       "      <td>United Kingdom</td>\n",
       "    </tr>\n",
       "    <tr>\n",
       "      <th>4</th>\n",
       "      <td>536373</td>\n",
       "      <td>84406B</td>\n",
       "      <td>CREAM CUPID HEARTS COAT HANGER</td>\n",
       "      <td>8</td>\n",
       "      <td>12/1/10 9:02</td>\n",
       "      <td>2.75</td>\n",
       "      <td>17850.0</td>\n",
       "      <td>United Kingdom</td>\n",
       "    </tr>\n",
       "  </tbody>\n",
       "</table>\n",
       "</div>"
      ],
      "text/plain": [
       "  InvoiceNo StockCode                     Description  Quantity   InvoiceDate  \\\n",
       "0    536365    84029E  RED WOOLLY HOTTIE WHITE HEART.         6  12/1/10 8:26   \n",
       "1    536367     84879   ASSORTED COLOUR BIRD ORNAMENT        32  12/1/10 8:34   \n",
       "2    536367     21755        LOVE BUILDING BLOCK WORD         3  12/1/10 8:34   \n",
       "3    536368     22914    BLUE COAT RACK PARIS FASHION         3  12/1/10 8:34   \n",
       "4    536373    84406B  CREAM CUPID HEARTS COAT HANGER         8  12/1/10 9:02   \n",
       "\n",
       "   UnitPrice  CustomerID         Country  \n",
       "0       3.39     17850.0  United Kingdom  \n",
       "1       1.69     13047.0  United Kingdom  \n",
       "2       5.95     13047.0  United Kingdom  \n",
       "3       4.95     13047.0  United Kingdom  \n",
       "4       2.75     17850.0  United Kingdom  "
      ]
     },
     "execution_count": 14,
     "metadata": {},
     "output_type": "execute_result"
    }
   ],
   "source": [
    "data.head()"
   ]
  },
  {
   "cell_type": "code",
   "execution_count": 15,
   "metadata": {},
   "outputs": [],
   "source": [
    "data['CustomerID'].fillna(99999999, inplace = True)"
   ]
  },
  {
   "cell_type": "code",
   "execution_count": 16,
   "metadata": {},
   "outputs": [
    {
     "data": {
      "text/html": [
       "<div>\n",
       "<style scoped>\n",
       "    .dataframe tbody tr th:only-of-type {\n",
       "        vertical-align: middle;\n",
       "    }\n",
       "\n",
       "    .dataframe tbody tr th {\n",
       "        vertical-align: top;\n",
       "    }\n",
       "\n",
       "    .dataframe thead th {\n",
       "        text-align: right;\n",
       "    }\n",
       "</style>\n",
       "<table border=\"1\" class=\"dataframe\">\n",
       "  <thead>\n",
       "    <tr style=\"text-align: right;\">\n",
       "      <th></th>\n",
       "      <th>Total</th>\n",
       "      <th>Percent</th>\n",
       "    </tr>\n",
       "  </thead>\n",
       "  <tbody>\n",
       "    <tr>\n",
       "      <th>Description</th>\n",
       "      <td>134</td>\n",
       "      <td>0.247169</td>\n",
       "    </tr>\n",
       "  </tbody>\n",
       "</table>\n",
       "</div>"
      ],
      "text/plain": [
       "             Total   Percent\n",
       "Description    134  0.247169"
      ]
     },
     "execution_count": 16,
     "metadata": {},
     "output_type": "execute_result"
    }
   ],
   "source": [
    "missingdata(data)"
   ]
  },
  {
   "cell_type": "code",
   "execution_count": 19,
   "metadata": {},
   "outputs": [],
   "source": [
    "def date_by_date(dataset):\n",
    "    dataset['InvoiceDate_date'] = dataset['InvoiceDate'].apply(\n",
    "        lambda x: (datetime.strptime(x, '%m/%d/%y %H:%M'))) "
   ]
  },
  {
   "cell_type": "code",
   "execution_count": 20,
   "metadata": {},
   "outputs": [],
   "source": [
    "date_by_date(data)"
   ]
  },
  {
   "cell_type": "code",
   "execution_count": 21,
   "metadata": {},
   "outputs": [
    {
     "data": {
      "text/html": [
       "<div>\n",
       "<style scoped>\n",
       "    .dataframe tbody tr th:only-of-type {\n",
       "        vertical-align: middle;\n",
       "    }\n",
       "\n",
       "    .dataframe tbody tr th {\n",
       "        vertical-align: top;\n",
       "    }\n",
       "\n",
       "    .dataframe thead th {\n",
       "        text-align: right;\n",
       "    }\n",
       "</style>\n",
       "<table border=\"1\" class=\"dataframe\">\n",
       "  <thead>\n",
       "    <tr style=\"text-align: right;\">\n",
       "      <th></th>\n",
       "      <th>InvoiceNo</th>\n",
       "      <th>StockCode</th>\n",
       "      <th>Description</th>\n",
       "      <th>Quantity</th>\n",
       "      <th>InvoiceDate</th>\n",
       "      <th>UnitPrice</th>\n",
       "      <th>CustomerID</th>\n",
       "      <th>Country</th>\n",
       "      <th>InvoiceDate_date</th>\n",
       "    </tr>\n",
       "  </thead>\n",
       "  <tbody>\n",
       "    <tr>\n",
       "      <th>0</th>\n",
       "      <td>536365</td>\n",
       "      <td>84029E</td>\n",
       "      <td>RED WOOLLY HOTTIE WHITE HEART.</td>\n",
       "      <td>6</td>\n",
       "      <td>12/1/10 8:26</td>\n",
       "      <td>3.39</td>\n",
       "      <td>17850.0</td>\n",
       "      <td>United Kingdom</td>\n",
       "      <td>2010-12-01 08:26:00</td>\n",
       "    </tr>\n",
       "    <tr>\n",
       "      <th>1</th>\n",
       "      <td>536367</td>\n",
       "      <td>84879</td>\n",
       "      <td>ASSORTED COLOUR BIRD ORNAMENT</td>\n",
       "      <td>32</td>\n",
       "      <td>12/1/10 8:34</td>\n",
       "      <td>1.69</td>\n",
       "      <td>13047.0</td>\n",
       "      <td>United Kingdom</td>\n",
       "      <td>2010-12-01 08:34:00</td>\n",
       "    </tr>\n",
       "    <tr>\n",
       "      <th>2</th>\n",
       "      <td>536367</td>\n",
       "      <td>21755</td>\n",
       "      <td>LOVE BUILDING BLOCK WORD</td>\n",
       "      <td>3</td>\n",
       "      <td>12/1/10 8:34</td>\n",
       "      <td>5.95</td>\n",
       "      <td>13047.0</td>\n",
       "      <td>United Kingdom</td>\n",
       "      <td>2010-12-01 08:34:00</td>\n",
       "    </tr>\n",
       "    <tr>\n",
       "      <th>3</th>\n",
       "      <td>536368</td>\n",
       "      <td>22914</td>\n",
       "      <td>BLUE COAT RACK PARIS FASHION</td>\n",
       "      <td>3</td>\n",
       "      <td>12/1/10 8:34</td>\n",
       "      <td>4.95</td>\n",
       "      <td>13047.0</td>\n",
       "      <td>United Kingdom</td>\n",
       "      <td>2010-12-01 08:34:00</td>\n",
       "    </tr>\n",
       "    <tr>\n",
       "      <th>4</th>\n",
       "      <td>536373</td>\n",
       "      <td>84406B</td>\n",
       "      <td>CREAM CUPID HEARTS COAT HANGER</td>\n",
       "      <td>8</td>\n",
       "      <td>12/1/10 9:02</td>\n",
       "      <td>2.75</td>\n",
       "      <td>17850.0</td>\n",
       "      <td>United Kingdom</td>\n",
       "      <td>2010-12-01 09:02:00</td>\n",
       "    </tr>\n",
       "  </tbody>\n",
       "</table>\n",
       "</div>"
      ],
      "text/plain": [
       "  InvoiceNo StockCode                     Description  Quantity   InvoiceDate  \\\n",
       "0    536365    84029E  RED WOOLLY HOTTIE WHITE HEART.         6  12/1/10 8:26   \n",
       "1    536367     84879   ASSORTED COLOUR BIRD ORNAMENT        32  12/1/10 8:34   \n",
       "2    536367     21755        LOVE BUILDING BLOCK WORD         3  12/1/10 8:34   \n",
       "3    536368     22914    BLUE COAT RACK PARIS FASHION         3  12/1/10 8:34   \n",
       "4    536373    84406B  CREAM CUPID HEARTS COAT HANGER         8  12/1/10 9:02   \n",
       "\n",
       "   UnitPrice  CustomerID         Country    InvoiceDate_date  \n",
       "0       3.39     17850.0  United Kingdom 2010-12-01 08:26:00  \n",
       "1       1.69     13047.0  United Kingdom 2010-12-01 08:34:00  \n",
       "2       5.95     13047.0  United Kingdom 2010-12-01 08:34:00  \n",
       "3       4.95     13047.0  United Kingdom 2010-12-01 08:34:00  \n",
       "4       2.75     17850.0  United Kingdom 2010-12-01 09:02:00  "
      ]
     },
     "execution_count": 21,
     "metadata": {},
     "output_type": "execute_result"
    }
   ],
   "source": [
    "data.head()"
   ]
  },
  {
   "cell_type": "code",
   "execution_count": 24,
   "metadata": {},
   "outputs": [
    {
     "data": {
      "text/plain": [
       "Timestamp('2011-12-09 12:50:00')"
      ]
     },
     "execution_count": 24,
     "metadata": {},
     "output_type": "execute_result"
    }
   ],
   "source": [
    "max(data['InvoiceDate_date'])"
   ]
  },
  {
   "cell_type": "code",
   "execution_count": 25,
   "metadata": {},
   "outputs": [
    {
     "data": {
      "text/plain": [
       "Timestamp('2010-12-01 08:26:00')"
      ]
     },
     "execution_count": 25,
     "metadata": {},
     "output_type": "execute_result"
    }
   ],
   "source": [
    "min(data['InvoiceDate_date'])"
   ]
  },
  {
   "cell_type": "markdown",
   "metadata": {},
   "source": [
    "Большинство признаков - категориальные значения"
   ]
  },
  {
   "cell_type": "code",
   "execution_count": 22,
   "metadata": {
    "colab": {
     "base_uri": "https://localhost:8080/",
     "height": 317
    },
    "colab_type": "code",
    "id": "FT5i9weRLnkE",
    "outputId": "26333192-2290-4611-8232-e914f6bd12a2"
   },
   "outputs": [],
   "source": [
    "object_columns = [i for i in data.columns if data[i].dtype.name == 'object']"
   ]
  },
  {
   "cell_type": "code",
   "execution_count": 23,
   "metadata": {
    "colab": {
     "base_uri": "https://localhost:8080/",
     "height": 317
    },
    "colab_type": "code",
    "id": "FT5i9weRLnkE",
    "outputId": "26333192-2290-4611-8232-e914f6bd12a2"
   },
   "outputs": [
    {
     "data": {
      "text/html": [
       "<div>\n",
       "<style scoped>\n",
       "    .dataframe tbody tr th:only-of-type {\n",
       "        vertical-align: middle;\n",
       "    }\n",
       "\n",
       "    .dataframe tbody tr th {\n",
       "        vertical-align: top;\n",
       "    }\n",
       "\n",
       "    .dataframe thead th {\n",
       "        text-align: right;\n",
       "    }\n",
       "</style>\n",
       "<table border=\"1\" class=\"dataframe\">\n",
       "  <thead>\n",
       "    <tr style=\"text-align: right;\">\n",
       "      <th></th>\n",
       "      <th>InvoiceNo</th>\n",
       "      <th>StockCode</th>\n",
       "      <th>Description</th>\n",
       "      <th>InvoiceDate</th>\n",
       "      <th>Country</th>\n",
       "    </tr>\n",
       "  </thead>\n",
       "  <tbody>\n",
       "    <tr>\n",
       "      <th>count</th>\n",
       "      <td>54214</td>\n",
       "      <td>54214</td>\n",
       "      <td>54080</td>\n",
       "      <td>54214</td>\n",
       "      <td>54214</td>\n",
       "    </tr>\n",
       "    <tr>\n",
       "      <th>unique</th>\n",
       "      <td>14877</td>\n",
       "      <td>3351</td>\n",
       "      <td>3401</td>\n",
       "      <td>14058</td>\n",
       "      <td>37</td>\n",
       "    </tr>\n",
       "    <tr>\n",
       "      <th>top</th>\n",
       "      <td>573585</td>\n",
       "      <td>85123A</td>\n",
       "      <td>WHITE HANGING HEART T-LIGHT HOLDER</td>\n",
       "      <td>10/31/11 14:41</td>\n",
       "      <td>United Kingdom</td>\n",
       "    </tr>\n",
       "    <tr>\n",
       "      <th>freq</th>\n",
       "      <td>127</td>\n",
       "      <td>237</td>\n",
       "      <td>243</td>\n",
       "      <td>127</td>\n",
       "      <td>49602</td>\n",
       "    </tr>\n",
       "  </tbody>\n",
       "</table>\n",
       "</div>"
      ],
      "text/plain": [
       "       InvoiceNo StockCode                         Description  \\\n",
       "count      54214     54214                               54080   \n",
       "unique     14877      3351                                3401   \n",
       "top       573585    85123A  WHITE HANGING HEART T-LIGHT HOLDER   \n",
       "freq         127       237                                 243   \n",
       "\n",
       "           InvoiceDate         Country  \n",
       "count            54214           54214  \n",
       "unique           14058              37  \n",
       "top     10/31/11 14:41  United Kingdom  \n",
       "freq               127           49602  "
      ]
     },
     "execution_count": 23,
     "metadata": {},
     "output_type": "execute_result"
    }
   ],
   "source": [
    "data[object_columns].describe()"
   ]
  },
  {
   "cell_type": "markdown",
   "metadata": {},
   "source": [
    "За период c декабря 2010 по сентябрь 2011 года\n",
    "оформлено 14 877 инвойсов, в одном инвойсе в среднем 4 позиции\n",
    "3351 товаров\n",
    "3401 уникальных описаний товарных позиций\n",
    "37 стран поставки, 91 % - это Великобритания, что ожидаемо, т.к. магазин оттуда"
   ]
  },
  {
   "cell_type": "markdown",
   "metadata": {},
   "source": [
    "Для дальнейшего анализа добавим колонку со значением день недели, час и сумма в деньгах "
   ]
  },
  {
   "cell_type": "code",
   "execution_count": 26,
   "metadata": {},
   "outputs": [],
   "source": [
    "def transaction_by_day(dataset):\n",
    "    dataset['day_of_transaction'] = dataset['InvoiceDate'].apply(\n",
    "        lambda x: (datetime.strptime(x, '%m/%d/%y %H:%M')).strftime('%w')) \n",
    "\n",
    "def transaction_by_hour(dataset):\n",
    "    dataset['hour_of_transaction'] = dataset['InvoiceDate'].apply(\n",
    "        lambda x: (datetime.strptime(x, '%m/%d/%y %H:%M')).strftime('%H')) "
   ]
  },
  {
   "cell_type": "code",
   "execution_count": 27,
   "metadata": {},
   "outputs": [],
   "source": [
    "transaction_by_hour(data)"
   ]
  },
  {
   "cell_type": "code",
   "execution_count": 28,
   "metadata": {},
   "outputs": [],
   "source": [
    "transaction_by_day(data)"
   ]
  },
  {
   "cell_type": "code",
   "execution_count": 30,
   "metadata": {},
   "outputs": [],
   "source": [
    "data['Sum_position'] = data['Quantity']*data['UnitPrice']"
   ]
  },
  {
   "cell_type": "code",
   "execution_count": 32,
   "metadata": {},
   "outputs": [
    {
     "data": {
      "text/html": [
       "<div>\n",
       "<style scoped>\n",
       "    .dataframe tbody tr th:only-of-type {\n",
       "        vertical-align: middle;\n",
       "    }\n",
       "\n",
       "    .dataframe tbody tr th {\n",
       "        vertical-align: top;\n",
       "    }\n",
       "\n",
       "    .dataframe thead th {\n",
       "        text-align: right;\n",
       "    }\n",
       "</style>\n",
       "<table border=\"1\" class=\"dataframe\">\n",
       "  <thead>\n",
       "    <tr style=\"text-align: right;\">\n",
       "      <th></th>\n",
       "      <th>InvoiceNo</th>\n",
       "      <th>StockCode</th>\n",
       "      <th>Description</th>\n",
       "      <th>Quantity</th>\n",
       "      <th>InvoiceDate</th>\n",
       "      <th>UnitPrice</th>\n",
       "      <th>CustomerID</th>\n",
       "      <th>Country</th>\n",
       "      <th>InvoiceDate_date</th>\n",
       "      <th>hour_of_transaction</th>\n",
       "      <th>day_of_transaction</th>\n",
       "      <th>Sum_position</th>\n",
       "    </tr>\n",
       "  </thead>\n",
       "  <tbody>\n",
       "    <tr>\n",
       "      <th>0</th>\n",
       "      <td>536365</td>\n",
       "      <td>84029E</td>\n",
       "      <td>RED WOOLLY HOTTIE WHITE HEART.</td>\n",
       "      <td>6</td>\n",
       "      <td>12/1/10 8:26</td>\n",
       "      <td>3.39</td>\n",
       "      <td>17850.0</td>\n",
       "      <td>United Kingdom</td>\n",
       "      <td>2010-12-01 08:26:00</td>\n",
       "      <td>08</td>\n",
       "      <td>3</td>\n",
       "      <td>20.34</td>\n",
       "    </tr>\n",
       "    <tr>\n",
       "      <th>1</th>\n",
       "      <td>536367</td>\n",
       "      <td>84879</td>\n",
       "      <td>ASSORTED COLOUR BIRD ORNAMENT</td>\n",
       "      <td>32</td>\n",
       "      <td>12/1/10 8:34</td>\n",
       "      <td>1.69</td>\n",
       "      <td>13047.0</td>\n",
       "      <td>United Kingdom</td>\n",
       "      <td>2010-12-01 08:34:00</td>\n",
       "      <td>08</td>\n",
       "      <td>3</td>\n",
       "      <td>54.08</td>\n",
       "    </tr>\n",
       "    <tr>\n",
       "      <th>2</th>\n",
       "      <td>536367</td>\n",
       "      <td>21755</td>\n",
       "      <td>LOVE BUILDING BLOCK WORD</td>\n",
       "      <td>3</td>\n",
       "      <td>12/1/10 8:34</td>\n",
       "      <td>5.95</td>\n",
       "      <td>13047.0</td>\n",
       "      <td>United Kingdom</td>\n",
       "      <td>2010-12-01 08:34:00</td>\n",
       "      <td>08</td>\n",
       "      <td>3</td>\n",
       "      <td>17.85</td>\n",
       "    </tr>\n",
       "  </tbody>\n",
       "</table>\n",
       "</div>"
      ],
      "text/plain": [
       "  InvoiceNo StockCode                     Description  Quantity   InvoiceDate  \\\n",
       "0    536365    84029E  RED WOOLLY HOTTIE WHITE HEART.         6  12/1/10 8:26   \n",
       "1    536367     84879   ASSORTED COLOUR BIRD ORNAMENT        32  12/1/10 8:34   \n",
       "2    536367     21755        LOVE BUILDING BLOCK WORD         3  12/1/10 8:34   \n",
       "\n",
       "   UnitPrice  CustomerID         Country    InvoiceDate_date  \\\n",
       "0       3.39     17850.0  United Kingdom 2010-12-01 08:26:00   \n",
       "1       1.69     13047.0  United Kingdom 2010-12-01 08:34:00   \n",
       "2       5.95     13047.0  United Kingdom 2010-12-01 08:34:00   \n",
       "\n",
       "  hour_of_transaction day_of_transaction  Sum_position  \n",
       "0                  08                  3         20.34  \n",
       "1                  08                  3         54.08  \n",
       "2                  08                  3         17.85  "
      ]
     },
     "execution_count": 32,
     "metadata": {},
     "output_type": "execute_result"
    }
   ],
   "source": [
    "data.head(3)"
   ]
  },
  {
   "cell_type": "markdown",
   "metadata": {},
   "source": [
    "Рассмотрим числовые признаки"
   ]
  },
  {
   "cell_type": "code",
   "execution_count": 33,
   "metadata": {},
   "outputs": [
    {
     "data": {
      "text/plain": [
       "<matplotlib.axes._subplots.AxesSubplot at 0x1bff61615f8>"
      ]
     },
     "execution_count": 33,
     "metadata": {},
     "output_type": "execute_result"
    },
    {
     "data": {
      "image/png": "[encoded data removed]",
      "text/plain": [
       "<Figure size 432x288 with 1 Axes>"
      ]
     },
     "metadata": {
      "needs_background": "light"
     },
     "output_type": "display_data"
    }
   ],
   "source": [
    "data['Quantity'].hist()"
   ]
  },
  {
   "cell_type": "code",
   "execution_count": 257,
   "metadata": {},
   "outputs": [
    {
     "data": {
      "image/png": "[encoded data removed]",
      "text/plain": [
       "<Figure size 1440x720 with 1 Axes>"
      ]
     },
     "metadata": {
      "needs_background": "light"
     },
     "output_type": "display_data"
    }
   ],
   "source": [
    "sns.boxplot(data=(data['Quantity']))\n",
    "fig=plt.gcf()\n",
    "fig.set_size_inches(20,10)\n",
    "plt.show()"
   ]
  },
  {
   "cell_type": "code",
   "execution_count": 38,
   "metadata": {},
   "outputs": [
    {
     "data": {
      "text/plain": [
       "count    54214.000000\n",
       "mean         9.610802\n",
       "std         57.358422\n",
       "min      -9600.000000\n",
       "25%          1.000000\n",
       "50%          3.000000\n",
       "75%         10.000000\n",
       "max       2400.000000\n",
       "Name: Quantity, dtype: float64"
      ]
     },
     "execution_count": 38,
     "metadata": {},
     "output_type": "execute_result"
    }
   ],
   "source": [
    "data['Quantity'].describe()"
   ]
  },
  {
   "cell_type": "markdown",
   "metadata": {},
   "source": [
    "У признака количество есть отрицательные значения. Будем считать, что это возвраты товара\n",
    "Есть много выбросов по минимальному (отрицательному) и максимальному значениям - возможно это ошибки в данных, природу которых необходимо уточнять. Судя по медиане и квантилям - это мелкооптовый магазин и розница"
   ]
  },
  {
   "cell_type": "code",
   "execution_count": 36,
   "metadata": {},
   "outputs": [
    {
     "data": {
      "text/plain": [
       "<matplotlib.axes._subplots.AxesSubplot at 0x1bff66802b0>"
      ]
     },
     "execution_count": 36,
     "metadata": {},
     "output_type": "execute_result"
    },
    {
     "data": {
      "image/png": "[encoded data removed]",
      "text/plain": [
       "<Figure size 432x288 with 1 Axes>"
      ]
     },
     "metadata": {
      "needs_background": "light"
     },
     "output_type": "display_data"
    }
   ],
   "source": [
    "data['UnitPrice'].hist()"
   ]
  },
  {
   "cell_type": "code",
   "execution_count": 37,
   "metadata": {},
   "outputs": [
    {
     "data": {
      "text/plain": [
       "count    54214.000000\n",
       "mean         4.307341\n",
       "std         47.834496\n",
       "min          0.000000\n",
       "25%          1.250000\n",
       "50%          2.080000\n",
       "75%          4.130000\n",
       "max       6930.000000\n",
       "Name: UnitPrice, dtype: float64"
      ]
     },
     "execution_count": 37,
     "metadata": {},
     "output_type": "execute_result"
    }
   ],
   "source": [
    "data['UnitPrice'].describe()"
   ]
  },
  {
   "cell_type": "code",
   "execution_count": 256,
   "metadata": {},
   "outputs": [
    {
     "data": {
      "image/png": "[encoded data removed]",
      "text/plain": [
       "<Figure size 1440x720 with 1 Axes>"
      ]
     },
     "metadata": {
      "needs_background": "light"
     },
     "output_type": "display_data"
    }
   ],
   "source": [
    "sns.boxplot(data=(data['UnitPrice']))\n",
    "fig=plt.gcf()\n",
    "fig.set_size_inches(20,10)\n",
    "plt.show()"
   ]
  },
  {
   "cell_type": "markdown",
   "metadata": {},
   "source": [
    "есть цена 0, посмотрим, что это за товары по их описанию"
   ]
  },
  {
   "cell_type": "code",
   "execution_count": 41,
   "metadata": {},
   "outputs": [
    {
     "data": {
      "text/plain": [
       "wrongly sold as sets    1.0\n",
       "found                   1.0\n",
       "damages                 1.0\n",
       "damaged                 1.0\n",
       "counted                 1.0\n",
       "Name: Description, dtype: float64"
      ]
     },
     "execution_count": 41,
     "metadata": {},
     "output_type": "execute_result"
    }
   ],
   "source": [
    "price = (data[data['UnitPrice'] == 0]['Description'].value_counts())/(data['Description'].value_counts())\n",
    "price.sort_values(ascending = False).head()"
   ]
  },
  {
   "cell_type": "code",
   "execution_count": 46,
   "metadata": {},
   "outputs": [
    {
     "data": {
      "text/plain": [
       "?                                      1.000000\n",
       "??                                     1.000000\n",
       "AMAZON                                 1.000000\n",
       "Adjustment                             1.000000\n",
       "Amazon                                 1.000000\n",
       "Damaged                                1.000000\n",
       "Damages                                1.000000\n",
       "FOUND                                  1.000000\n",
       "Found                                  1.000000\n",
       "RETRO \"TEA FOR ONE\"                    0.333333\n",
       "Unsaleable, destroyed.                 1.000000\n",
       "adjustment                             1.000000\n",
       "check                                  1.000000\n",
       "counted                                1.000000\n",
       "damaged                                1.000000\n",
       "damages                                1.000000\n",
       "dotcom sales                           1.000000\n",
       "found                                  1.000000\n",
       "had been put aside                     1.000000\n",
       "historic computer difference?....se    1.000000\n",
       "lost in space                          1.000000\n",
       "mailout                                1.000000\n",
       "missing                                1.000000\n",
       "mixed up                               1.000000\n",
       "printing smudges/thrown away           1.000000\n",
       "rcvd be air temp fix for dotcom sit    1.000000\n",
       "smashed                                1.000000\n",
       "sold as set by dotcom                  1.000000\n",
       "sold as set on dotcom                  1.000000\n",
       "stock creditted wrongly                1.000000\n",
       "taig adjust no stock                   1.000000\n",
       "thrown away-can't sell.                1.000000\n",
       "wet/rusty                              1.000000\n",
       "wrong barcode (22467)                  1.000000\n",
       "wrong code?                            1.000000\n",
       "wrongly marked 23343                   1.000000\n",
       "wrongly sold as sets                   1.000000\n",
       "Name: Description, dtype: float64"
      ]
     },
     "execution_count": 46,
     "metadata": {},
     "output_type": "execute_result"
    }
   ],
   "source": [
    "price[price >0.3]"
   ]
  },
  {
   "cell_type": "markdown",
   "metadata": {},
   "source": [
    "Там где отсутствует цена - это либо ошибки в работе или некорректный ввод данных в систему\n",
    "Проверим пропущенных значения для Description"
   ]
  },
  {
   "cell_type": "code",
   "execution_count": 48,
   "metadata": {},
   "outputs": [
    {
     "data": {
      "text/plain": [
       "0.0"
      ]
     },
     "execution_count": 48,
     "metadata": {},
     "output_type": "execute_result"
    }
   ],
   "source": [
    "data[data['Description'].isnull()].sum()['UnitPrice']"
   ]
  },
  {
   "cell_type": "code",
   "execution_count": 50,
   "metadata": {},
   "outputs": [
    {
     "data": {
      "text/plain": [
       "-1349"
      ]
     },
     "execution_count": 50,
     "metadata": {},
     "output_type": "execute_result"
    }
   ],
   "source": [
    "data[data['Description'].isnull()].sum()['Quantity']"
   ]
  },
  {
   "cell_type": "markdown",
   "metadata": {},
   "source": [
    "Там где нет описания, цена = 0, и в кол-ве значения отрицательные (много возвратов). Заполним эти значения как unknown"
   ]
  },
  {
   "cell_type": "code",
   "execution_count": 52,
   "metadata": {},
   "outputs": [],
   "source": [
    "data['Description'].fillna('unknown', inplace = True)"
   ]
  },
  {
   "cell_type": "markdown",
   "metadata": {},
   "source": [
    "Все пропущенные значения заполнили"
   ]
  },
  {
   "cell_type": "code",
   "execution_count": 53,
   "metadata": {},
   "outputs": [
    {
     "data": {
      "text/html": [
       "<div>\n",
       "<style scoped>\n",
       "    .dataframe tbody tr th:only-of-type {\n",
       "        vertical-align: middle;\n",
       "    }\n",
       "\n",
       "    .dataframe tbody tr th {\n",
       "        vertical-align: top;\n",
       "    }\n",
       "\n",
       "    .dataframe thead th {\n",
       "        text-align: right;\n",
       "    }\n",
       "</style>\n",
       "<table border=\"1\" class=\"dataframe\">\n",
       "  <thead>\n",
       "    <tr style=\"text-align: right;\">\n",
       "      <th></th>\n",
       "      <th>Total</th>\n",
       "      <th>Percent</th>\n",
       "    </tr>\n",
       "  </thead>\n",
       "  <tbody>\n",
       "  </tbody>\n",
       "</table>\n",
       "</div>"
      ],
      "text/plain": [
       "Empty DataFrame\n",
       "Columns: [Total, Percent]\n",
       "Index: []"
      ]
     },
     "execution_count": 53,
     "metadata": {},
     "output_type": "execute_result"
    }
   ],
   "source": [
    "missingdata(data)"
   ]
  },
  {
   "cell_type": "code",
   "execution_count": 135,
   "metadata": {},
   "outputs": [],
   "source": [
    "def returnn(data):\n",
    "    '''\n",
    "    заполняем флаг возврат\n",
    "    '''\n",
    "    if data<0:\n",
    "        return 'Return'\n",
    "    else:\n",
    "        return 'Saled'"
   ]
  },
  {
   "cell_type": "code",
   "execution_count": 136,
   "metadata": {},
   "outputs": [],
   "source": [
    "data['Return'] = data['Quantity'].apply(returnn)"
   ]
  },
  {
   "cell_type": "code",
   "execution_count": 137,
   "metadata": {},
   "outputs": [
    {
     "data": {
      "text/html": [
       "<div>\n",
       "<style scoped>\n",
       "    .dataframe tbody tr th:only-of-type {\n",
       "        vertical-align: middle;\n",
       "    }\n",
       "\n",
       "    .dataframe tbody tr th {\n",
       "        vertical-align: top;\n",
       "    }\n",
       "\n",
       "    .dataframe thead th {\n",
       "        text-align: right;\n",
       "    }\n",
       "</style>\n",
       "<table border=\"1\" class=\"dataframe\">\n",
       "  <thead>\n",
       "    <tr style=\"text-align: right;\">\n",
       "      <th></th>\n",
       "      <th>InvoiceNo</th>\n",
       "      <th>StockCode</th>\n",
       "      <th>Description</th>\n",
       "      <th>Quantity</th>\n",
       "      <th>InvoiceDate</th>\n",
       "      <th>UnitPrice</th>\n",
       "      <th>CustomerID</th>\n",
       "      <th>Country</th>\n",
       "      <th>InvoiceDate_date</th>\n",
       "      <th>hour_of_transaction</th>\n",
       "      <th>day_of_transaction</th>\n",
       "      <th>Sum_position</th>\n",
       "      <th>Return</th>\n",
       "    </tr>\n",
       "  </thead>\n",
       "  <tbody>\n",
       "    <tr>\n",
       "      <th>53765</th>\n",
       "      <td>C581322</td>\n",
       "      <td>22666</td>\n",
       "      <td>RECIPE BOX PANTRY YELLOW DESIGN</td>\n",
       "      <td>-1</td>\n",
       "      <td>12/8/11 11:51</td>\n",
       "      <td>2.95</td>\n",
       "      <td>18223.0</td>\n",
       "      <td>United Kingdom</td>\n",
       "      <td>2011-12-08 11:51:00</td>\n",
       "      <td>11</td>\n",
       "      <td>4</td>\n",
       "      <td>-2.95</td>\n",
       "      <td>Return</td>\n",
       "    </tr>\n",
       "    <tr>\n",
       "      <th>53770</th>\n",
       "      <td>C581330</td>\n",
       "      <td>22959</td>\n",
       "      <td>WRAP CHRISTMAS VILLAGE</td>\n",
       "      <td>-25</td>\n",
       "      <td>12/8/11 11:57</td>\n",
       "      <td>0.42</td>\n",
       "      <td>15877.0</td>\n",
       "      <td>United Kingdom</td>\n",
       "      <td>2011-12-08 11:57:00</td>\n",
       "      <td>11</td>\n",
       "      <td>4</td>\n",
       "      <td>-10.50</td>\n",
       "      <td>Return</td>\n",
       "    </tr>\n",
       "    <tr>\n",
       "      <th>53998</th>\n",
       "      <td>C581465</td>\n",
       "      <td>22171</td>\n",
       "      <td>3 HOOK PHOTO SHELF ANTIQUE WHITE</td>\n",
       "      <td>-1</td>\n",
       "      <td>12/8/11 18:59</td>\n",
       "      <td>8.50</td>\n",
       "      <td>15755.0</td>\n",
       "      <td>United Kingdom</td>\n",
       "      <td>2011-12-08 18:59:00</td>\n",
       "      <td>18</td>\n",
       "      <td>4</td>\n",
       "      <td>-8.50</td>\n",
       "      <td>Return</td>\n",
       "    </tr>\n",
       "  </tbody>\n",
       "</table>\n",
       "</div>"
      ],
      "text/plain": [
       "      InvoiceNo StockCode                       Description  Quantity  \\\n",
       "53765   C581322     22666   RECIPE BOX PANTRY YELLOW DESIGN        -1   \n",
       "53770   C581330     22959            WRAP CHRISTMAS VILLAGE       -25   \n",
       "53998   C581465     22171  3 HOOK PHOTO SHELF ANTIQUE WHITE        -1   \n",
       "\n",
       "         InvoiceDate  UnitPrice  CustomerID         Country  \\\n",
       "53765  12/8/11 11:51       2.95     18223.0  United Kingdom   \n",
       "53770  12/8/11 11:57       0.42     15877.0  United Kingdom   \n",
       "53998  12/8/11 18:59       8.50     15755.0  United Kingdom   \n",
       "\n",
       "         InvoiceDate_date hour_of_transaction day_of_transaction  \\\n",
       "53765 2011-12-08 11:51:00                  11                  4   \n",
       "53770 2011-12-08 11:57:00                  11                  4   \n",
       "53998 2011-12-08 18:59:00                  18                  4   \n",
       "\n",
       "       Sum_position  Return  \n",
       "53765         -2.95  Return  \n",
       "53770        -10.50  Return  \n",
       "53998         -8.50  Return  "
      ]
     },
     "execution_count": 137,
     "metadata": {},
     "output_type": "execute_result"
    }
   ],
   "source": [
    "data[data['Quantity']<0].tail(3)"
   ]
  },
  {
   "cell_type": "code",
   "execution_count": 154,
   "metadata": {},
   "outputs": [],
   "source": [
    "def positive(data):\n",
    "    '''\n",
    "    '''\n",
    "    if data<0:\n",
    "        return data*-1\n",
    "    else:\n",
    "        return data*1"
   ]
  },
  {
   "cell_type": "code",
   "execution_count": 155,
   "metadata": {},
   "outputs": [],
   "source": [
    "data['Sum_positive'] = data['Sum_position'].apply(positive)"
   ]
  },
  {
   "cell_type": "code",
   "execution_count": 156,
   "metadata": {},
   "outputs": [
    {
     "data": {
      "text/html": [
       "<div>\n",
       "<style scoped>\n",
       "    .dataframe tbody tr th:only-of-type {\n",
       "        vertical-align: middle;\n",
       "    }\n",
       "\n",
       "    .dataframe tbody tr th {\n",
       "        vertical-align: top;\n",
       "    }\n",
       "\n",
       "    .dataframe thead th {\n",
       "        text-align: right;\n",
       "    }\n",
       "</style>\n",
       "<table border=\"1\" class=\"dataframe\">\n",
       "  <thead>\n",
       "    <tr style=\"text-align: right;\">\n",
       "      <th></th>\n",
       "      <th>InvoiceNo</th>\n",
       "      <th>StockCode</th>\n",
       "      <th>Description</th>\n",
       "      <th>Quantity</th>\n",
       "      <th>InvoiceDate</th>\n",
       "      <th>UnitPrice</th>\n",
       "      <th>CustomerID</th>\n",
       "      <th>Country</th>\n",
       "      <th>InvoiceDate_date</th>\n",
       "      <th>hour_of_transaction</th>\n",
       "      <th>day_of_transaction</th>\n",
       "      <th>Sum_position</th>\n",
       "      <th>Return</th>\n",
       "      <th>Sum_positive</th>\n",
       "    </tr>\n",
       "  </thead>\n",
       "  <tbody>\n",
       "    <tr>\n",
       "      <th>53765</th>\n",
       "      <td>C581322</td>\n",
       "      <td>22666</td>\n",
       "      <td>RECIPE BOX PANTRY YELLOW DESIGN</td>\n",
       "      <td>-1</td>\n",
       "      <td>12/8/11 11:51</td>\n",
       "      <td>2.95</td>\n",
       "      <td>18223.0</td>\n",
       "      <td>United Kingdom</td>\n",
       "      <td>2011-12-08 11:51:00</td>\n",
       "      <td>11</td>\n",
       "      <td>4</td>\n",
       "      <td>-2.95</td>\n",
       "      <td>Return</td>\n",
       "      <td>2.95</td>\n",
       "    </tr>\n",
       "    <tr>\n",
       "      <th>53770</th>\n",
       "      <td>C581330</td>\n",
       "      <td>22959</td>\n",
       "      <td>WRAP CHRISTMAS VILLAGE</td>\n",
       "      <td>-25</td>\n",
       "      <td>12/8/11 11:57</td>\n",
       "      <td>0.42</td>\n",
       "      <td>15877.0</td>\n",
       "      <td>United Kingdom</td>\n",
       "      <td>2011-12-08 11:57:00</td>\n",
       "      <td>11</td>\n",
       "      <td>4</td>\n",
       "      <td>-10.50</td>\n",
       "      <td>Return</td>\n",
       "      <td>10.50</td>\n",
       "    </tr>\n",
       "    <tr>\n",
       "      <th>53998</th>\n",
       "      <td>C581465</td>\n",
       "      <td>22171</td>\n",
       "      <td>3 HOOK PHOTO SHELF ANTIQUE WHITE</td>\n",
       "      <td>-1</td>\n",
       "      <td>12/8/11 18:59</td>\n",
       "      <td>8.50</td>\n",
       "      <td>15755.0</td>\n",
       "      <td>United Kingdom</td>\n",
       "      <td>2011-12-08 18:59:00</td>\n",
       "      <td>18</td>\n",
       "      <td>4</td>\n",
       "      <td>-8.50</td>\n",
       "      <td>Return</td>\n",
       "      <td>8.50</td>\n",
       "    </tr>\n",
       "  </tbody>\n",
       "</table>\n",
       "</div>"
      ],
      "text/plain": [
       "      InvoiceNo StockCode                       Description  Quantity  \\\n",
       "53765   C581322     22666   RECIPE BOX PANTRY YELLOW DESIGN        -1   \n",
       "53770   C581330     22959            WRAP CHRISTMAS VILLAGE       -25   \n",
       "53998   C581465     22171  3 HOOK PHOTO SHELF ANTIQUE WHITE        -1   \n",
       "\n",
       "         InvoiceDate  UnitPrice  CustomerID         Country  \\\n",
       "53765  12/8/11 11:51       2.95     18223.0  United Kingdom   \n",
       "53770  12/8/11 11:57       0.42     15877.0  United Kingdom   \n",
       "53998  12/8/11 18:59       8.50     15755.0  United Kingdom   \n",
       "\n",
       "         InvoiceDate_date hour_of_transaction day_of_transaction  \\\n",
       "53765 2011-12-08 11:51:00                  11                  4   \n",
       "53770 2011-12-08 11:57:00                  11                  4   \n",
       "53998 2011-12-08 18:59:00                  18                  4   \n",
       "\n",
       "       Sum_position  Return  Sum_positive  \n",
       "53765         -2.95  Return          2.95  \n",
       "53770        -10.50  Return         10.50  \n",
       "53998         -8.50  Return          8.50  "
      ]
     },
     "execution_count": 156,
     "metadata": {},
     "output_type": "execute_result"
    }
   ],
   "source": [
    "data[data['Quantity']<0].tail(3)"
   ]
  },
  {
   "cell_type": "markdown",
   "metadata": {},
   "source": [
    "### Метрики для коммерческого директора"
   ]
  },
  {
   "cell_type": "markdown",
   "metadata": {},
   "source": [
    "#### 1. Динамика выручки по периодам\n",
    "Сформируем график по неделям (W)\n",
    "для дней вводим D\n",
    "для месяцев - M"
   ]
  },
  {
   "cell_type": "code",
   "execution_count": 111,
   "metadata": {},
   "outputs": [
    {
     "name": "stdout",
     "output_type": "stream",
     "text": [
      "W\n"
     ]
    },
    {
     "data": {
      "image/png": "[encoded data removed]",
      "text/plain": [
       "<Figure size 432x288 with 1 Axes>"
      ]
     },
     "metadata": {
      "needs_background": "light"
     },
     "output_type": "display_data"
    }
   ],
   "source": [
    "a = input()\n",
    "din = (data.groupby(pd.Grouper(key='InvoiceDate_date', freq=a))['Sum_position'].sum())\n",
    "din.plot()\n",
    "plt.ylabel('Sum sales')\n",
    "plt.title('Dynamics sum sales')\n",
    "plt.grid()"
   ]
  },
  {
   "cell_type": "markdown",
   "metadata": {},
   "source": [
    "#### 2. Сумма возвратов vs сумма поступления за период (месяц)"
   ]
  },
  {
   "cell_type": "code",
   "execution_count": 176,
   "metadata": {},
   "outputs": [
    {
     "name": "stdout",
     "output_type": "stream",
     "text": [
      "M\n"
     ]
    },
    {
     "data": {
      "text/plain": [
       "Text(0.5, 1.0, 'Return vs sales')"
      ]
     },
     "execution_count": 176,
     "metadata": {},
     "output_type": "execute_result"
    },
    {
     "data": {
      "image/png": "[encoded data removed]",
      "text/plain": [
       "<Figure size 432x288 with 1 Axes>"
      ]
     },
     "metadata": {
      "needs_background": "light"
     },
     "output_type": "display_data"
    }
   ],
   "source": [
    "b = input()\n",
    "df1 = (data.groupby([(pd.Grouper(key='InvoiceDate_date', freq=b)), 'Return']).sum()['Sum_positive'])\n",
    "\n",
    "df1.unstack().plot(kind='area', rot=45, stacked=False)\n",
    "plt.ylabel('Sum')\n",
    "plt.title('Return vs sales')"
   ]
  },
  {
   "cell_type": "markdown",
   "metadata": {},
   "source": [
    "#### 3. Рейтинг товаров по сумме дохода за 6 месяцев, 3 месяца, 1 месяц, 2 недели и 1 недели\n",
    "Отсортирован"
   ]
  },
  {
   "cell_type": "code",
   "execution_count": 230,
   "metadata": {},
   "outputs": [],
   "source": [
    "def date_(data):\n",
    "    index=range(0,1)\n",
    "    columns=['last6m', 'last3m', 'last1m','last2w', 'last1w']\n",
    "    ret_df = pd.DataFrame(index=index, columns=columns)\n",
    "    counter = data.shape[0]\n",
    "    \n",
    "    ret_df['last6m'] = data[data['InvoiceDate_date'] > max(data['InvoiceDate_date']) - dateutil.relativedelta.relativedelta(month=6)]['Sum_position'].sum()\n",
    "    ret_df['last3m'] = data[data['InvoiceDate_date'] > max(data['InvoiceDate_date']) - dateutil.relativedelta.relativedelta(month=3)]['Sum_position'].sum()\n",
    "    ret_df['last1m'] = data[data['InvoiceDate_date'] > max(data['InvoiceDate_date']) - dateutil.relativedelta.relativedelta(months=1)]['Sum_position'].sum()\n",
    "    ret_df['last2w'] = data[data['InvoiceDate_date'] > max(data['InvoiceDate_date']) - dateutil.relativedelta.relativedelta(weeks=2)]['Sum_position'].sum()\n",
    "    ret_df['last1w'] = data[data['InvoiceDate_date'] > max(data['InvoiceDate_date']) - dateutil.relativedelta.relativedelta(weeks=1)]['Sum_position'].sum()\n",
    "  \n",
    "    return ret_df"
   ]
  },
  {
   "cell_type": "code",
   "execution_count": 231,
   "metadata": {},
   "outputs": [],
   "source": [
    "data_top = data.groupby(['StockCode']).apply(date_)"
   ]
  },
  {
   "cell_type": "code",
   "execution_count": 232,
   "metadata": {},
   "outputs": [
    {
     "data": {
      "text/html": [
       "<div>\n",
       "<style scoped>\n",
       "    .dataframe tbody tr th:only-of-type {\n",
       "        vertical-align: middle;\n",
       "    }\n",
       "\n",
       "    .dataframe tbody tr th {\n",
       "        vertical-align: top;\n",
       "    }\n",
       "\n",
       "    .dataframe thead th {\n",
       "        text-align: right;\n",
       "    }\n",
       "</style>\n",
       "<table border=\"1\" class=\"dataframe\">\n",
       "  <thead>\n",
       "    <tr style=\"text-align: right;\">\n",
       "      <th></th>\n",
       "      <th></th>\n",
       "      <th>last6m</th>\n",
       "      <th>last3m</th>\n",
       "      <th>last1m</th>\n",
       "      <th>last2w</th>\n",
       "      <th>last1w</th>\n",
       "    </tr>\n",
       "    <tr>\n",
       "      <th>StockCode</th>\n",
       "      <th></th>\n",
       "      <th></th>\n",
       "      <th></th>\n",
       "      <th></th>\n",
       "      <th></th>\n",
       "      <th></th>\n",
       "    </tr>\n",
       "  </thead>\n",
       "  <tbody>\n",
       "    <tr>\n",
       "      <th>10002</th>\n",
       "      <th>0</th>\n",
       "      <td>0.00</td>\n",
       "      <td>0.00</td>\n",
       "      <td>3.40</td>\n",
       "      <td>3.40</td>\n",
       "      <td>3.40</td>\n",
       "    </tr>\n",
       "    <tr>\n",
       "      <th>10080</th>\n",
       "      <th>0</th>\n",
       "      <td>14.04</td>\n",
       "      <td>14.04</td>\n",
       "      <td>9.36</td>\n",
       "      <td>9.36</td>\n",
       "      <td>9.36</td>\n",
       "    </tr>\n",
       "    <tr>\n",
       "      <th>10120</th>\n",
       "      <th>0</th>\n",
       "      <td>0.21</td>\n",
       "      <td>0.21</td>\n",
       "      <td>0.21</td>\n",
       "      <td>0.21</td>\n",
       "      <td>0.21</td>\n",
       "    </tr>\n",
       "    <tr>\n",
       "      <th>10124A</th>\n",
       "      <th>0</th>\n",
       "      <td>0.00</td>\n",
       "      <td>0.00</td>\n",
       "      <td>0.42</td>\n",
       "      <td>0.42</td>\n",
       "      <td>0.42</td>\n",
       "    </tr>\n",
       "    <tr>\n",
       "      <th>10125</th>\n",
       "      <th>0</th>\n",
       "      <td>85.00</td>\n",
       "      <td>89.25</td>\n",
       "      <td>68.00</td>\n",
       "      <td>17.00</td>\n",
       "      <td>17.00</td>\n",
       "    </tr>\n",
       "  </tbody>\n",
       "</table>\n",
       "</div>"
      ],
      "text/plain": [
       "             last6m  last3m  last1m  last2w  last1w\n",
       "StockCode                                          \n",
       "10002     0    0.00    0.00    3.40    3.40    3.40\n",
       "10080     0   14.04   14.04    9.36    9.36    9.36\n",
       "10120     0    0.21    0.21    0.21    0.21    0.21\n",
       "10124A    0    0.00    0.00    0.42    0.42    0.42\n",
       "10125     0   85.00   89.25   68.00   17.00   17.00"
      ]
     },
     "execution_count": 232,
     "metadata": {},
     "output_type": "execute_result"
    }
   ],
   "source": [
    "data_top.head()"
   ]
  },
  {
   "cell_type": "markdown",
   "metadata": {},
   "source": [
    "Лучшие товары"
   ]
  },
  {
   "cell_type": "code",
   "execution_count": 277,
   "metadata": {
    "scrolled": true
   },
   "outputs": [
    {
     "data": {
      "text/html": [
       "<style  type=\"text/css\" >\n",
       "    #T_799df390_b6de_11e9_b799_e8039acf6c77row0_col1 {\n",
       "            background-color:  blue;\n",
       "        }    #T_799df390_b6de_11e9_b799_e8039acf6c77row1_col1 {\n",
       "            background-color:  blue;\n",
       "        }    #T_799df390_b6de_11e9_b799_e8039acf6c77row2_col0 {\n",
       "            background-color:  blue;\n",
       "        }    #T_799df390_b6de_11e9_b799_e8039acf6c77row2_col1 {\n",
       "            background-color:  blue;\n",
       "        }    #T_799df390_b6de_11e9_b799_e8039acf6c77row3_col1 {\n",
       "            background-color:  blue;\n",
       "        }    #T_799df390_b6de_11e9_b799_e8039acf6c77row4_col1 {\n",
       "            background-color:  blue;\n",
       "        }    #T_799df390_b6de_11e9_b799_e8039acf6c77row5_col1 {\n",
       "            background-color:  blue;\n",
       "        }    #T_799df390_b6de_11e9_b799_e8039acf6c77row6_col1 {\n",
       "            background-color:  blue;\n",
       "        }    #T_799df390_b6de_11e9_b799_e8039acf6c77row7_col1 {\n",
       "            background-color:  blue;\n",
       "        }    #T_799df390_b6de_11e9_b799_e8039acf6c77row7_col2 {\n",
       "            background-color:  blue;\n",
       "        }    #T_799df390_b6de_11e9_b799_e8039acf6c77row7_col3 {\n",
       "            background-color:  blue;\n",
       "        }    #T_799df390_b6de_11e9_b799_e8039acf6c77row7_col4 {\n",
       "            background-color:  blue;\n",
       "        }    #T_799df390_b6de_11e9_b799_e8039acf6c77row8_col0 {\n",
       "            background-color:  blue;\n",
       "        }    #T_799df390_b6de_11e9_b799_e8039acf6c77row8_col1 {\n",
       "            background-color:  blue;\n",
       "        }    #T_799df390_b6de_11e9_b799_e8039acf6c77row9_col1 {\n",
       "            background-color:  blue;\n",
       "        }    #T_799df390_b6de_11e9_b799_e8039acf6c77row10_col1 {\n",
       "            background-color:  blue;\n",
       "        }    #T_799df390_b6de_11e9_b799_e8039acf6c77row11_col1 {\n",
       "            background-color:  blue;\n",
       "        }    #T_799df390_b6de_11e9_b799_e8039acf6c77row12_col1 {\n",
       "            background-color:  blue;\n",
       "        }    #T_799df390_b6de_11e9_b799_e8039acf6c77row13_col1 {\n",
       "            background-color:  blue;\n",
       "        }    #T_799df390_b6de_11e9_b799_e8039acf6c77row14_col1 {\n",
       "            background-color:  blue;\n",
       "        }    #T_799df390_b6de_11e9_b799_e8039acf6c77row15_col0 {\n",
       "            background-color:  blue;\n",
       "        }    #T_799df390_b6de_11e9_b799_e8039acf6c77row15_col1 {\n",
       "            background-color:  blue;\n",
       "        }    #T_799df390_b6de_11e9_b799_e8039acf6c77row16_col1 {\n",
       "            background-color:  blue;\n",
       "        }    #T_799df390_b6de_11e9_b799_e8039acf6c77row17_col1 {\n",
       "            background-color:  blue;\n",
       "        }    #T_799df390_b6de_11e9_b799_e8039acf6c77row18_col1 {\n",
       "            background-color:  blue;\n",
       "        }    #T_799df390_b6de_11e9_b799_e8039acf6c77row19_col1 {\n",
       "            background-color:  blue;\n",
       "        }    #T_799df390_b6de_11e9_b799_e8039acf6c77row20_col0 {\n",
       "            background-color:  blue;\n",
       "        }    #T_799df390_b6de_11e9_b799_e8039acf6c77row20_col1 {\n",
       "            background-color:  blue;\n",
       "        }    #T_799df390_b6de_11e9_b799_e8039acf6c77row21_col0 {\n",
       "            background-color:  blue;\n",
       "        }    #T_799df390_b6de_11e9_b799_e8039acf6c77row21_col1 {\n",
       "            background-color:  blue;\n",
       "        }    #T_799df390_b6de_11e9_b799_e8039acf6c77row22_col1 {\n",
       "            background-color:  blue;\n",
       "        }    #T_799df390_b6de_11e9_b799_e8039acf6c77row23_col0 {\n",
       "            background-color:  blue;\n",
       "        }    #T_799df390_b6de_11e9_b799_e8039acf6c77row23_col1 {\n",
       "            background-color:  blue;\n",
       "        }    #T_799df390_b6de_11e9_b799_e8039acf6c77row24_col1 {\n",
       "            background-color:  blue;\n",
       "        }    #T_799df390_b6de_11e9_b799_e8039acf6c77row25_col1 {\n",
       "            background-color:  blue;\n",
       "        }    #T_799df390_b6de_11e9_b799_e8039acf6c77row26_col1 {\n",
       "            background-color:  blue;\n",
       "        }    #T_799df390_b6de_11e9_b799_e8039acf6c77row27_col1 {\n",
       "            background-color:  blue;\n",
       "        }    #T_799df390_b6de_11e9_b799_e8039acf6c77row28_col0 {\n",
       "            background-color:  blue;\n",
       "        }    #T_799df390_b6de_11e9_b799_e8039acf6c77row28_col1 {\n",
       "            background-color:  blue;\n",
       "        }    #T_799df390_b6de_11e9_b799_e8039acf6c77row28_col2 {\n",
       "            background-color:  blue;\n",
       "        }    #T_799df390_b6de_11e9_b799_e8039acf6c77row29_col1 {\n",
       "            background-color:  blue;\n",
       "        }</style>  \n",
       "<table id=\"T_799df390_b6de_11e9_b799_e8039acf6c77\" > \n",
       "<thead>    <tr> \n",
       "        <th class=\"blank\" ></th> \n",
       "        <th class=\"blank level0\" ></th> \n",
       "        <th class=\"col_heading level0 col0\" >last6m</th> \n",
       "        <th class=\"col_heading level0 col1\" >last3m</th> \n",
       "        <th class=\"col_heading level0 col2\" >last1m</th> \n",
       "        <th class=\"col_heading level0 col3\" >last2w</th> \n",
       "        <th class=\"col_heading level0 col4\" >last1w</th> \n",
       "    </tr>    <tr> \n",
       "        <th class=\"index_name level0\" >StockCode</th> \n",
       "        <th class=\"index_name level1\" ></th> \n",
       "        <th class=\"blank\" ></th> \n",
       "        <th class=\"blank\" ></th> \n",
       "        <th class=\"blank\" ></th> \n",
       "        <th class=\"blank\" ></th> \n",
       "        <th class=\"blank\" ></th> \n",
       "    </tr></thead> \n",
       "<tbody>    <tr> \n",
       "        <th id=\"T_799df390_b6de_11e9_b799_e8039acf6c77level0_row0\" class=\"row_heading level0 row0\" >DOT</th> \n",
       "        <th id=\"T_799df390_b6de_11e9_b799_e8039acf6c77level1_row0\" class=\"row_heading level1 row0\" >0</th> \n",
       "        <td id=\"T_799df390_b6de_11e9_b799_e8039acf6c77row0_col0\" class=\"data row0 col0\" >12016.5</td> \n",
       "        <td id=\"T_799df390_b6de_11e9_b799_e8039acf6c77row0_col1\" class=\"data row0 col1\" >15241.5</td> \n",
       "        <td id=\"T_799df390_b6de_11e9_b799_e8039acf6c77row0_col2\" class=\"data row0 col2\" >6494.61</td> \n",
       "        <td id=\"T_799df390_b6de_11e9_b799_e8039acf6c77row0_col3\" class=\"data row0 col3\" >5290.27</td> \n",
       "        <td id=\"T_799df390_b6de_11e9_b799_e8039acf6c77row0_col4\" class=\"data row0 col4\" >3342.57</td> \n",
       "    </tr>    <tr> \n",
       "        <th id=\"T_799df390_b6de_11e9_b799_e8039acf6c77level0_row1\" class=\"row_heading level0 row1\" >22413</th> \n",
       "        <th id=\"T_799df390_b6de_11e9_b799_e8039acf6c77level1_row1\" class=\"row_heading level1 row1\" >0</th> \n",
       "        <td id=\"T_799df390_b6de_11e9_b799_e8039acf6c77row1_col0\" class=\"data row1 col0\" >4232.37</td> \n",
       "        <td id=\"T_799df390_b6de_11e9_b799_e8039acf6c77row1_col1\" class=\"data row1 col1\" >4409.37</td> \n",
       "        <td id=\"T_799df390_b6de_11e9_b799_e8039acf6c77row1_col2\" class=\"data row1 col2\" >3949.5</td> \n",
       "        <td id=\"T_799df390_b6de_11e9_b799_e8039acf6c77row1_col3\" class=\"data row1 col3\" >3872.8</td> \n",
       "        <td id=\"T_799df390_b6de_11e9_b799_e8039acf6c77row1_col4\" class=\"data row1 col4\" >3872.8</td> \n",
       "    </tr>    <tr> \n",
       "        <th id=\"T_799df390_b6de_11e9_b799_e8039acf6c77level0_row2\" class=\"row_heading level0 row2\" >23543</th> \n",
       "        <th id=\"T_799df390_b6de_11e9_b799_e8039acf6c77level1_row2\" class=\"row_heading level1 row2\" >0</th> \n",
       "        <td id=\"T_799df390_b6de_11e9_b799_e8039acf6c77row2_col0\" class=\"data row2 col0\" >3278.07</td> \n",
       "        <td id=\"T_799df390_b6de_11e9_b799_e8039acf6c77row2_col1\" class=\"data row2 col1\" >3278.07</td> \n",
       "        <td id=\"T_799df390_b6de_11e9_b799_e8039acf6c77row2_col2\" class=\"data row2 col2\" >2966.85</td> \n",
       "        <td id=\"T_799df390_b6de_11e9_b799_e8039acf6c77row2_col3\" class=\"data row2 col3\" >2917.35</td> \n",
       "        <td id=\"T_799df390_b6de_11e9_b799_e8039acf6c77row2_col4\" class=\"data row2 col4\" >2900.85</td> \n",
       "    </tr>    <tr> \n",
       "        <th id=\"T_799df390_b6de_11e9_b799_e8039acf6c77level0_row3\" class=\"row_heading level0 row3\" >22086</th> \n",
       "        <th id=\"T_799df390_b6de_11e9_b799_e8039acf6c77level1_row3\" class=\"row_heading level1 row3\" >0</th> \n",
       "        <td id=\"T_799df390_b6de_11e9_b799_e8039acf6c77row3_col0\" class=\"data row3 col0\" >4985.69</td> \n",
       "        <td id=\"T_799df390_b6de_11e9_b799_e8039acf6c77row3_col1\" class=\"data row3 col1\" >5029.83</td> \n",
       "        <td id=\"T_799df390_b6de_11e9_b799_e8039acf6c77row3_col2\" class=\"data row3 col2\" >2663.16</td> \n",
       "        <td id=\"T_799df390_b6de_11e9_b799_e8039acf6c77row3_col3\" class=\"data row3 col3\" >1324.19</td> \n",
       "        <td id=\"T_799df390_b6de_11e9_b799_e8039acf6c77row3_col4\" class=\"data row3 col4\" >727.05</td> \n",
       "    </tr>    <tr> \n",
       "        <th id=\"T_799df390_b6de_11e9_b799_e8039acf6c77level0_row4\" class=\"row_heading level0 row4\" >79321</th> \n",
       "        <th id=\"T_799df390_b6de_11e9_b799_e8039acf6c77level1_row4\" class=\"row_heading level1 row4\" >0</th> \n",
       "        <td id=\"T_799df390_b6de_11e9_b799_e8039acf6c77row4_col0\" class=\"data row4 col0\" >3594.95</td> \n",
       "        <td id=\"T_799df390_b6de_11e9_b799_e8039acf6c77row4_col1\" class=\"data row4 col1\" >3732.95</td> \n",
       "        <td id=\"T_799df390_b6de_11e9_b799_e8039acf6c77row4_col2\" class=\"data row4 col2\" >2617.52</td> \n",
       "        <td id=\"T_799df390_b6de_11e9_b799_e8039acf6c77row4_col3\" class=\"data row4 col3\" >766.52</td> \n",
       "        <td id=\"T_799df390_b6de_11e9_b799_e8039acf6c77row4_col4\" class=\"data row4 col4\" >47.92</td> \n",
       "    </tr>    <tr> \n",
       "        <th id=\"T_799df390_b6de_11e9_b799_e8039acf6c77level0_row5\" class=\"row_heading level0 row5\" >23084</th> \n",
       "        <th id=\"T_799df390_b6de_11e9_b799_e8039acf6c77level1_row5\" class=\"row_heading level1 row5\" >0</th> \n",
       "        <td id=\"T_799df390_b6de_11e9_b799_e8039acf6c77row5_col0\" class=\"data row5 col0\" >4133.83</td> \n",
       "        <td id=\"T_799df390_b6de_11e9_b799_e8039acf6c77row5_col1\" class=\"data row5 col1\" >4297.28</td> \n",
       "        <td id=\"T_799df390_b6de_11e9_b799_e8039acf6c77row5_col2\" class=\"data row5 col2\" >2534.46</td> \n",
       "        <td id=\"T_799df390_b6de_11e9_b799_e8039acf6c77row5_col3\" class=\"data row5 col3\" >793.26</td> \n",
       "        <td id=\"T_799df390_b6de_11e9_b799_e8039acf6c77row5_col4\" class=\"data row5 col4\" >327.76</td> \n",
       "    </tr>    <tr> \n",
       "        <th id=\"T_799df390_b6de_11e9_b799_e8039acf6c77level0_row6\" class=\"row_heading level0 row6\" >21915</th> \n",
       "        <th id=\"T_799df390_b6de_11e9_b799_e8039acf6c77level1_row6\" class=\"row_heading level1 row6\" >0</th> \n",
       "        <td id=\"T_799df390_b6de_11e9_b799_e8039acf6c77row6_col0\" class=\"data row6 col0\" >3952.87</td> \n",
       "        <td id=\"T_799df390_b6de_11e9_b799_e8039acf6c77row6_col1\" class=\"data row6 col1\" >4045.33</td> \n",
       "        <td id=\"T_799df390_b6de_11e9_b799_e8039acf6c77row6_col2\" class=\"data row6 col2\" >2506.69</td> \n",
       "        <td id=\"T_799df390_b6de_11e9_b799_e8039acf6c77row6_col3\" class=\"data row6 col3\" >44.52</td> \n",
       "        <td id=\"T_799df390_b6de_11e9_b799_e8039acf6c77row6_col4\" class=\"data row6 col4\" >29.52</td> \n",
       "    </tr>    <tr> \n",
       "        <th id=\"T_799df390_b6de_11e9_b799_e8039acf6c77level0_row7\" class=\"row_heading level0 row7\" >22783</th> \n",
       "        <th id=\"T_799df390_b6de_11e9_b799_e8039acf6c77level1_row7\" class=\"row_heading level1 row7\" >0</th> \n",
       "        <td id=\"T_799df390_b6de_11e9_b799_e8039acf6c77row7_col0\" class=\"data row7 col0\" >0</td> \n",
       "        <td id=\"T_799df390_b6de_11e9_b799_e8039acf6c77row7_col1\" class=\"data row7 col1\" >2496</td> \n",
       "        <td id=\"T_799df390_b6de_11e9_b799_e8039acf6c77row7_col2\" class=\"data row7 col2\" >2496</td> \n",
       "        <td id=\"T_799df390_b6de_11e9_b799_e8039acf6c77row7_col3\" class=\"data row7 col3\" >2496</td> \n",
       "        <td id=\"T_799df390_b6de_11e9_b799_e8039acf6c77row7_col4\" class=\"data row7 col4\" >2496</td> \n",
       "    </tr>    <tr> \n",
       "        <th id=\"T_799df390_b6de_11e9_b799_e8039acf6c77level0_row8\" class=\"row_heading level0 row8\" >23344</th> \n",
       "        <th id=\"T_799df390_b6de_11e9_b799_e8039acf6c77level1_row8\" class=\"row_heading level1 row8\" >0</th> \n",
       "        <td id=\"T_799df390_b6de_11e9_b799_e8039acf6c77row8_col0\" class=\"data row8 col0\" >4621.52</td> \n",
       "        <td id=\"T_799df390_b6de_11e9_b799_e8039acf6c77row8_col1\" class=\"data row8 col1\" >4621.52</td> \n",
       "        <td id=\"T_799df390_b6de_11e9_b799_e8039acf6c77row8_col2\" class=\"data row8 col2\" >2495.04</td> \n",
       "        <td id=\"T_799df390_b6de_11e9_b799_e8039acf6c77row8_col3\" class=\"data row8 col3\" >186.96</td> \n",
       "        <td id=\"T_799df390_b6de_11e9_b799_e8039acf6c77row8_col4\" class=\"data row8 col4\" >76.81</td> \n",
       "    </tr>    <tr> \n",
       "        <th id=\"T_799df390_b6de_11e9_b799_e8039acf6c77level0_row9\" class=\"row_heading level0 row9\" >84879</th> \n",
       "        <th id=\"T_799df390_b6de_11e9_b799_e8039acf6c77level1_row9\" class=\"row_heading level1 row9\" >0</th> \n",
       "        <td id=\"T_799df390_b6de_11e9_b799_e8039acf6c77row9_col0\" class=\"data row9 col0\" >4959.02</td> \n",
       "        <td id=\"T_799df390_b6de_11e9_b799_e8039acf6c77row9_col1\" class=\"data row9 col1\" >5844.58</td> \n",
       "        <td id=\"T_799df390_b6de_11e9_b799_e8039acf6c77row9_col2\" class=\"data row9 col2\" >2381.11</td> \n",
       "        <td id=\"T_799df390_b6de_11e9_b799_e8039acf6c77row9_col3\" class=\"data row9 col3\" >378.25</td> \n",
       "        <td id=\"T_799df390_b6de_11e9_b799_e8039acf6c77row9_col4\" class=\"data row9 col4\" >283.61</td> \n",
       "    </tr>    <tr> \n",
       "        <th id=\"T_799df390_b6de_11e9_b799_e8039acf6c77level0_row10\" class=\"row_heading level0 row10\" >22423</th> \n",
       "        <th id=\"T_799df390_b6de_11e9_b799_e8039acf6c77level1_row10\" class=\"row_heading level1 row10\" >0</th> \n",
       "        <td id=\"T_799df390_b6de_11e9_b799_e8039acf6c77row10_col0\" class=\"data row10 col0\" >6793.38</td> \n",
       "        <td id=\"T_799df390_b6de_11e9_b799_e8039acf6c77row10_col1\" class=\"data row10 col1\" >11966.5</td> \n",
       "        <td id=\"T_799df390_b6de_11e9_b799_e8039acf6c77row10_col2\" class=\"data row10 col2\" >1793.43</td> \n",
       "        <td id=\"T_799df390_b6de_11e9_b799_e8039acf6c77row10_col3\" class=\"data row10 col3\" >780.18</td> \n",
       "        <td id=\"T_799df390_b6de_11e9_b799_e8039acf6c77row10_col4\" class=\"data row10 col4\" >716.43</td> \n",
       "    </tr>    <tr> \n",
       "        <th id=\"T_799df390_b6de_11e9_b799_e8039acf6c77level0_row11\" class=\"row_heading level0 row11\" >22617</th> \n",
       "        <th id=\"T_799df390_b6de_11e9_b799_e8039acf6c77level1_row11\" class=\"row_heading level1 row11\" >0</th> \n",
       "        <td id=\"T_799df390_b6de_11e9_b799_e8039acf6c77row11_col0\" class=\"data row11 col0\" >1711.77</td> \n",
       "        <td id=\"T_799df390_b6de_11e9_b799_e8039acf6c77row11_col1\" class=\"data row11 col1\" >1800.87</td> \n",
       "        <td id=\"T_799df390_b6de_11e9_b799_e8039acf6c77row11_col2\" class=\"data row11 col2\" >1310.1</td> \n",
       "        <td id=\"T_799df390_b6de_11e9_b799_e8039acf6c77row11_col3\" class=\"data row11 col3\" >54.45</td> \n",
       "        <td id=\"T_799df390_b6de_11e9_b799_e8039acf6c77row11_col4\" class=\"data row11 col4\" >19.8</td> \n",
       "    </tr>    <tr> \n",
       "        <th id=\"T_799df390_b6de_11e9_b799_e8039acf6c77level0_row12\" class=\"row_heading level0 row12\" >23201</th> \n",
       "        <th id=\"T_799df390_b6de_11e9_b799_e8039acf6c77level1_row12\" class=\"row_heading level1 row12\" >0</th> \n",
       "        <td id=\"T_799df390_b6de_11e9_b799_e8039acf6c77row12_col0\" class=\"data row12 col0\" >4075.88</td> \n",
       "        <td id=\"T_799df390_b6de_11e9_b799_e8039acf6c77row12_col1\" class=\"data row12 col1\" >4396.16</td> \n",
       "        <td id=\"T_799df390_b6de_11e9_b799_e8039acf6c77row12_col2\" class=\"data row12 col2\" >1188.73</td> \n",
       "        <td id=\"T_799df390_b6de_11e9_b799_e8039acf6c77row12_col3\" class=\"data row12 col3\" >162.06</td> \n",
       "        <td id=\"T_799df390_b6de_11e9_b799_e8039acf6c77row12_col4\" class=\"data row12 col4\" >41.51</td> \n",
       "    </tr>    <tr> \n",
       "        <th id=\"T_799df390_b6de_11e9_b799_e8039acf6c77level0_row13\" class=\"row_heading level0 row13\" >22476</th> \n",
       "        <th id=\"T_799df390_b6de_11e9_b799_e8039acf6c77level1_row13\" class=\"row_heading level1 row13\" >0</th> \n",
       "        <td id=\"T_799df390_b6de_11e9_b799_e8039acf6c77row13_col0\" class=\"data row13 col0\" >1230.34</td> \n",
       "        <td id=\"T_799df390_b6de_11e9_b799_e8039acf6c77row13_col1\" class=\"data row13 col1\" >1256.87</td> \n",
       "        <td id=\"T_799df390_b6de_11e9_b799_e8039acf6c77row13_col2\" class=\"data row13 col2\" >1179.9</td> \n",
       "        <td id=\"T_799df390_b6de_11e9_b799_e8039acf6c77row13_col3\" class=\"data row13 col3\" >1170</td> \n",
       "        <td id=\"T_799df390_b6de_11e9_b799_e8039acf6c77row13_col4\" class=\"data row13 col4\" >1170</td> \n",
       "    </tr>    <tr> \n",
       "        <th id=\"T_799df390_b6de_11e9_b799_e8039acf6c77level0_row14\" class=\"row_heading level0 row14\" >22112</th> \n",
       "        <th id=\"T_799df390_b6de_11e9_b799_e8039acf6c77level1_row14\" class=\"row_heading level1 row14\" >0</th> \n",
       "        <td id=\"T_799df390_b6de_11e9_b799_e8039acf6c77row14_col0\" class=\"data row14 col0\" >2196.98</td> \n",
       "        <td id=\"T_799df390_b6de_11e9_b799_e8039acf6c77row14_col1\" class=\"data row14 col1\" >2326.91</td> \n",
       "        <td id=\"T_799df390_b6de_11e9_b799_e8039acf6c77row14_col2\" class=\"data row14 col2\" >1129.41</td> \n",
       "        <td id=\"T_799df390_b6de_11e9_b799_e8039acf6c77row14_col3\" class=\"data row14 col3\" >633.36</td> \n",
       "        <td id=\"T_799df390_b6de_11e9_b799_e8039acf6c77row14_col4\" class=\"data row14 col4\" >230.2</td> \n",
       "    </tr>    <tr> \n",
       "        <th id=\"T_799df390_b6de_11e9_b799_e8039acf6c77level0_row15\" class=\"row_heading level0 row15\" >22130</th> \n",
       "        <th id=\"T_799df390_b6de_11e9_b799_e8039acf6c77level1_row15\" class=\"row_heading level1 row15\" >0</th> \n",
       "        <td id=\"T_799df390_b6de_11e9_b799_e8039acf6c77row15_col0\" class=\"data row15 col0\" >1267.32</td> \n",
       "        <td id=\"T_799df390_b6de_11e9_b799_e8039acf6c77row15_col1\" class=\"data row15 col1\" >1267.32</td> \n",
       "        <td id=\"T_799df390_b6de_11e9_b799_e8039acf6c77row15_col2\" class=\"data row15 col2\" >1124.52</td> \n",
       "        <td id=\"T_799df390_b6de_11e9_b799_e8039acf6c77row15_col3\" class=\"data row15 col3\" >30.6</td> \n",
       "        <td id=\"T_799df390_b6de_11e9_b799_e8039acf6c77row15_col4\" class=\"data row15 col4\" >30.6</td> \n",
       "    </tr>    <tr> \n",
       "        <th id=\"T_799df390_b6de_11e9_b799_e8039acf6c77level0_row16\" class=\"row_heading level0 row16\" >22189</th> \n",
       "        <th id=\"T_799df390_b6de_11e9_b799_e8039acf6c77level1_row16\" class=\"row_heading level1 row16\" >0</th> \n",
       "        <td id=\"T_799df390_b6de_11e9_b799_e8039acf6c77row16_col0\" class=\"data row16 col0\" >2437.46</td> \n",
       "        <td id=\"T_799df390_b6de_11e9_b799_e8039acf6c77row16_col1\" class=\"data row16 col1\" >2726.98</td> \n",
       "        <td id=\"T_799df390_b6de_11e9_b799_e8039acf6c77row16_col2\" class=\"data row16 col2\" >1114.55</td> \n",
       "        <td id=\"T_799df390_b6de_11e9_b799_e8039acf6c77row16_col3\" class=\"data row16 col3\" >1098.36</td> \n",
       "        <td id=\"T_799df390_b6de_11e9_b799_e8039acf6c77row16_col4\" class=\"data row16 col4\" >1098.36</td> \n",
       "    </tr>    <tr> \n",
       "        <th id=\"T_799df390_b6de_11e9_b799_e8039acf6c77level0_row17\" class=\"row_heading level0 row17\" >POST</th> \n",
       "        <th id=\"T_799df390_b6de_11e9_b799_e8039acf6c77level1_row17\" class=\"row_heading level1 row17\" >0</th> \n",
       "        <td id=\"T_799df390_b6de_11e9_b799_e8039acf6c77row17_col0\" class=\"data row17 col0\" >4768.4</td> \n",
       "        <td id=\"T_799df390_b6de_11e9_b799_e8039acf6c77row17_col1\" class=\"data row17 col1\" >6031.89</td> \n",
       "        <td id=\"T_799df390_b6de_11e9_b799_e8039acf6c77row17_col2\" class=\"data row17 col2\" >1104.69</td> \n",
       "        <td id=\"T_799df390_b6de_11e9_b799_e8039acf6c77row17_col3\" class=\"data row17 col3\" >393</td> \n",
       "        <td id=\"T_799df390_b6de_11e9_b799_e8039acf6c77row17_col4\" class=\"data row17 col4\" >231</td> \n",
       "    </tr>    <tr> \n",
       "        <th id=\"T_799df390_b6de_11e9_b799_e8039acf6c77level0_row18\" class=\"row_heading level0 row18\" >22355</th> \n",
       "        <th id=\"T_799df390_b6de_11e9_b799_e8039acf6c77level1_row18\" class=\"row_heading level1 row18\" >0</th> \n",
       "        <td id=\"T_799df390_b6de_11e9_b799_e8039acf6c77row18_col0\" class=\"data row18 col0\" >2083.35</td> \n",
       "        <td id=\"T_799df390_b6de_11e9_b799_e8039acf6c77row18_col1\" class=\"data row18 col1\" >2977.29</td> \n",
       "        <td id=\"T_799df390_b6de_11e9_b799_e8039acf6c77row18_col2\" class=\"data row18 col2\" >1018.28</td> \n",
       "        <td id=\"T_799df390_b6de_11e9_b799_e8039acf6c77row18_col3\" class=\"data row18 col3\" >751.26</td> \n",
       "        <td id=\"T_799df390_b6de_11e9_b799_e8039acf6c77row18_col4\" class=\"data row18 col4\" >737.48</td> \n",
       "    </tr>    <tr> \n",
       "        <th id=\"T_799df390_b6de_11e9_b799_e8039acf6c77level0_row19\" class=\"row_heading level0 row19\" >21181</th> \n",
       "        <th id=\"T_799df390_b6de_11e9_b799_e8039acf6c77level1_row19\" class=\"row_heading level1 row19\" >0</th> \n",
       "        <td id=\"T_799df390_b6de_11e9_b799_e8039acf6c77row19_col0\" class=\"data row19 col0\" >2180.88</td> \n",
       "        <td id=\"T_799df390_b6de_11e9_b799_e8039acf6c77row19_col1\" class=\"data row19 col1\" >2659.4</td> \n",
       "        <td id=\"T_799df390_b6de_11e9_b799_e8039acf6c77row19_col2\" class=\"data row19 col2\" >993.46</td> \n",
       "        <td id=\"T_799df390_b6de_11e9_b799_e8039acf6c77row19_col3\" class=\"data row19 col3\" >989.33</td> \n",
       "        <td id=\"T_799df390_b6de_11e9_b799_e8039acf6c77row19_col4\" class=\"data row19 col4\" >205.91</td> \n",
       "    </tr>    <tr> \n",
       "        <th id=\"T_799df390_b6de_11e9_b799_e8039acf6c77level0_row20\" class=\"row_heading level0 row20\" >23215</th> \n",
       "        <th id=\"T_799df390_b6de_11e9_b799_e8039acf6c77level1_row20\" class=\"row_heading level1 row20\" >0</th> \n",
       "        <td id=\"T_799df390_b6de_11e9_b799_e8039acf6c77row20_col0\" class=\"data row20 col0\" >2229.58</td> \n",
       "        <td id=\"T_799df390_b6de_11e9_b799_e8039acf6c77row20_col1\" class=\"data row20 col1\" >2229.58</td> \n",
       "        <td id=\"T_799df390_b6de_11e9_b799_e8039acf6c77row20_col2\" class=\"data row20 col2\" >984.3</td> \n",
       "        <td id=\"T_799df390_b6de_11e9_b799_e8039acf6c77row20_col3\" class=\"data row20 col3\" >882.71</td> \n",
       "        <td id=\"T_799df390_b6de_11e9_b799_e8039acf6c77row20_col4\" class=\"data row20 col4\" >66.47</td> \n",
       "    </tr>    <tr> \n",
       "        <th id=\"T_799df390_b6de_11e9_b799_e8039acf6c77level0_row21\" class=\"row_heading level0 row21\" >22910</th> \n",
       "        <th id=\"T_799df390_b6de_11e9_b799_e8039acf6c77level1_row21\" class=\"row_heading level1 row21\" >0</th> \n",
       "        <td id=\"T_799df390_b6de_11e9_b799_e8039acf6c77row21_col0\" class=\"data row21 col0\" >1907.07</td> \n",
       "        <td id=\"T_799df390_b6de_11e9_b799_e8039acf6c77row21_col1\" class=\"data row21 col1\" >1907.07</td> \n",
       "        <td id=\"T_799df390_b6de_11e9_b799_e8039acf6c77row21_col2\" class=\"data row21 col2\" >967.15</td> \n",
       "        <td id=\"T_799df390_b6de_11e9_b799_e8039acf6c77row21_col3\" class=\"data row21 col3\" >638.25</td> \n",
       "        <td id=\"T_799df390_b6de_11e9_b799_e8039acf6c77row21_col4\" class=\"data row21 col4\" >314.48</td> \n",
       "    </tr>    <tr> \n",
       "        <th id=\"T_799df390_b6de_11e9_b799_e8039acf6c77level0_row22\" class=\"row_heading level0 row22\" >23177</th> \n",
       "        <th id=\"T_799df390_b6de_11e9_b799_e8039acf6c77level1_row22\" class=\"row_heading level1 row22\" >0</th> \n",
       "        <td id=\"T_799df390_b6de_11e9_b799_e8039acf6c77row22_col0\" class=\"data row22 col0\" >1090.82</td> \n",
       "        <td id=\"T_799df390_b6de_11e9_b799_e8039acf6c77row22_col1\" class=\"data row22 col1\" >1124.65</td> \n",
       "        <td id=\"T_799df390_b6de_11e9_b799_e8039acf6c77row22_col2\" class=\"data row22 col2\" >964.58</td> \n",
       "        <td id=\"T_799df390_b6de_11e9_b799_e8039acf6c77row22_col3\" class=\"data row22 col3\" >960.08</td> \n",
       "        <td id=\"T_799df390_b6de_11e9_b799_e8039acf6c77row22_col4\" class=\"data row22 col4\" >960.08</td> \n",
       "    </tr>    <tr> \n",
       "        <th id=\"T_799df390_b6de_11e9_b799_e8039acf6c77level0_row23\" class=\"row_heading level0 row23\" >22114</th> \n",
       "        <th id=\"T_799df390_b6de_11e9_b799_e8039acf6c77level1_row23\" class=\"row_heading level1 row23\" >0</th> \n",
       "        <td id=\"T_799df390_b6de_11e9_b799_e8039acf6c77row23_col0\" class=\"data row23 col0\" >1821.77</td> \n",
       "        <td id=\"T_799df390_b6de_11e9_b799_e8039acf6c77row23_col1\" class=\"data row23 col1\" >1821.77</td> \n",
       "        <td id=\"T_799df390_b6de_11e9_b799_e8039acf6c77row23_col2\" class=\"data row23 col2\" >929.12</td> \n",
       "        <td id=\"T_799df390_b6de_11e9_b799_e8039acf6c77row23_col3\" class=\"data row23 col3\" >434.69</td> \n",
       "        <td id=\"T_799df390_b6de_11e9_b799_e8039acf6c77row23_col4\" class=\"data row23 col4\" >409.19</td> \n",
       "    </tr>    <tr> \n",
       "        <th id=\"T_799df390_b6de_11e9_b799_e8039acf6c77level0_row24\" class=\"row_heading level0 row24\" >23300</th> \n",
       "        <th id=\"T_799df390_b6de_11e9_b799_e8039acf6c77level1_row24\" class=\"row_heading level1 row24\" >0</th> \n",
       "        <td id=\"T_799df390_b6de_11e9_b799_e8039acf6c77row24_col0\" class=\"data row24 col0\" >2306.77</td> \n",
       "        <td id=\"T_799df390_b6de_11e9_b799_e8039acf6c77row24_col1\" class=\"data row24 col1\" >2369.45</td> \n",
       "        <td id=\"T_799df390_b6de_11e9_b799_e8039acf6c77row24_col2\" class=\"data row24 col2\" >894.57</td> \n",
       "        <td id=\"T_799df390_b6de_11e9_b799_e8039acf6c77row24_col3\" class=\"data row24 col3\" >107.17</td> \n",
       "        <td id=\"T_799df390_b6de_11e9_b799_e8039acf6c77row24_col4\" class=\"data row24 col4\" >57.72</td> \n",
       "    </tr>    <tr> \n",
       "        <th id=\"T_799df390_b6de_11e9_b799_e8039acf6c77level0_row25\" class=\"row_heading level0 row25\" >22138</th> \n",
       "        <th id=\"T_799df390_b6de_11e9_b799_e8039acf6c77level1_row25\" class=\"row_heading level1 row25\" >0</th> \n",
       "        <td id=\"T_799df390_b6de_11e9_b799_e8039acf6c77row25_col0\" class=\"data row25 col0\" >1791.1</td> \n",
       "        <td id=\"T_799df390_b6de_11e9_b799_e8039acf6c77row25_col1\" class=\"data row25 col1\" >2517.68</td> \n",
       "        <td id=\"T_799df390_b6de_11e9_b799_e8039acf6c77row25_col2\" class=\"data row25 col2\" >886.48</td> \n",
       "        <td id=\"T_799df390_b6de_11e9_b799_e8039acf6c77row25_col3\" class=\"data row25 col3\" >260.4</td> \n",
       "        <td id=\"T_799df390_b6de_11e9_b799_e8039acf6c77row25_col4\" class=\"data row25 col4\" >176.25</td> \n",
       "    </tr>    <tr> \n",
       "        <th id=\"T_799df390_b6de_11e9_b799_e8039acf6c77level0_row26\" class=\"row_heading level0 row26\" >22749</th> \n",
       "        <th id=\"T_799df390_b6de_11e9_b799_e8039acf6c77level1_row26\" class=\"row_heading level1 row26\" >0</th> \n",
       "        <td id=\"T_799df390_b6de_11e9_b799_e8039acf6c77row26_col0\" class=\"data row26 col0\" >1251.19</td> \n",
       "        <td id=\"T_799df390_b6de_11e9_b799_e8039acf6c77row26_col1\" class=\"data row26 col1\" >1367.4</td> \n",
       "        <td id=\"T_799df390_b6de_11e9_b799_e8039acf6c77row26_col2\" class=\"data row26 col2\" >845.33</td> \n",
       "        <td id=\"T_799df390_b6de_11e9_b799_e8039acf6c77row26_col3\" class=\"data row26 col3\" >104.88</td> \n",
       "        <td id=\"T_799df390_b6de_11e9_b799_e8039acf6c77row26_col4\" class=\"data row26 col4\" >52.38</td> \n",
       "    </tr>    <tr> \n",
       "        <th id=\"T_799df390_b6de_11e9_b799_e8039acf6c77level0_row27\" class=\"row_heading level0 row27\" >22727</th> \n",
       "        <th id=\"T_799df390_b6de_11e9_b799_e8039acf6c77level1_row27\" class=\"row_heading level1 row27\" >0</th> \n",
       "        <td id=\"T_799df390_b6de_11e9_b799_e8039acf6c77row27_col0\" class=\"data row27 col0\" >2232.29</td> \n",
       "        <td id=\"T_799df390_b6de_11e9_b799_e8039acf6c77row27_col1\" class=\"data row27 col1\" >4348.76</td> \n",
       "        <td id=\"T_799df390_b6de_11e9_b799_e8039acf6c77row27_col2\" class=\"data row27 col2\" >814.87</td> \n",
       "        <td id=\"T_799df390_b6de_11e9_b799_e8039acf6c77row27_col3\" class=\"data row27 col3\" >472.32</td> \n",
       "        <td id=\"T_799df390_b6de_11e9_b799_e8039acf6c77row27_col4\" class=\"data row27 col4\" >180.4</td> \n",
       "    </tr>    <tr> \n",
       "        <th id=\"T_799df390_b6de_11e9_b799_e8039acf6c77level0_row28\" class=\"row_heading level0 row28\" >23538</th> \n",
       "        <th id=\"T_799df390_b6de_11e9_b799_e8039acf6c77level1_row28\" class=\"row_heading level1 row28\" >0</th> \n",
       "        <td id=\"T_799df390_b6de_11e9_b799_e8039acf6c77row28_col0\" class=\"data row28 col0\" >812.88</td> \n",
       "        <td id=\"T_799df390_b6de_11e9_b799_e8039acf6c77row28_col1\" class=\"data row28 col1\" >812.88</td> \n",
       "        <td id=\"T_799df390_b6de_11e9_b799_e8039acf6c77row28_col2\" class=\"data row28 col2\" >812.88</td> \n",
       "        <td id=\"T_799df390_b6de_11e9_b799_e8039acf6c77row28_col3\" class=\"data row28 col3\" >9.9</td> \n",
       "        <td id=\"T_799df390_b6de_11e9_b799_e8039acf6c77row28_col4\" class=\"data row28 col4\" >9.9</td> \n",
       "    </tr>    <tr> \n",
       "        <th id=\"T_799df390_b6de_11e9_b799_e8039acf6c77level0_row29\" class=\"row_heading level0 row29\" >22111</th> \n",
       "        <th id=\"T_799df390_b6de_11e9_b799_e8039acf6c77level1_row29\" class=\"row_heading level1 row29\" >0</th> \n",
       "        <td id=\"T_799df390_b6de_11e9_b799_e8039acf6c77row29_col0\" class=\"data row29 col0\" >1882.33</td> \n",
       "        <td id=\"T_799df390_b6de_11e9_b799_e8039acf6c77row29_col1\" class=\"data row29 col1\" >1946.85</td> \n",
       "        <td id=\"T_799df390_b6de_11e9_b799_e8039acf6c77row29_col2\" class=\"data row29 col2\" >807.94</td> \n",
       "        <td id=\"T_799df390_b6de_11e9_b799_e8039acf6c77row29_col3\" class=\"data row29 col3\" >441.47</td> \n",
       "        <td id=\"T_799df390_b6de_11e9_b799_e8039acf6c77row29_col4\" class=\"data row29 col4\" >240.47</td> \n",
       "    </tr></tbody> \n",
       "</table> "
      ],
      "text/plain": [
       "<pandas.io.formats.style.Styler at 0x1bfff473dd8>"
      ]
     },
     "execution_count": 277,
     "metadata": {},
     "output_type": "execute_result"
    }
   ],
   "source": [
    "data_tw.sort_values('last1m', ascending=False).head(30).style.highlight_max(color = 'blue', axis=1)"
   ]
  },
  {
   "cell_type": "markdown",
   "metadata": {},
   "source": [
    "Худшие товары"
   ]
  },
  {
   "cell_type": "code",
   "execution_count": 245,
   "metadata": {
    "scrolled": true
   },
   "outputs": [
    {
     "data": {
      "text/html": [
       "<style  type=\"text/css\" >\n",
       "    #T_7cd0955e_b6d1_11e9_aa26_e8039acf6c77row0_col0 {\n",
       "            background-color:  red;\n",
       "        }    #T_7cd0955e_b6d1_11e9_aa26_e8039acf6c77row0_col1 {\n",
       "            background-color:  red;\n",
       "        }    #T_7cd0955e_b6d1_11e9_aa26_e8039acf6c77row1_col2 {\n",
       "            background-color:  red;\n",
       "        }    #T_7cd0955e_b6d1_11e9_aa26_e8039acf6c77row2_col0 {\n",
       "            background-color:  red;\n",
       "        }    #T_7cd0955e_b6d1_11e9_aa26_e8039acf6c77row2_col1 {\n",
       "            background-color:  red;\n",
       "        }    #T_7cd0955e_b6d1_11e9_aa26_e8039acf6c77row2_col2 {\n",
       "            background-color:  red;\n",
       "        }    #T_7cd0955e_b6d1_11e9_aa26_e8039acf6c77row3_col1 {\n",
       "            background-color:  red;\n",
       "        }    #T_7cd0955e_b6d1_11e9_aa26_e8039acf6c77row3_col2 {\n",
       "            background-color:  red;\n",
       "        }    #T_7cd0955e_b6d1_11e9_aa26_e8039acf6c77row4_col0 {\n",
       "            background-color:  red;\n",
       "        }    #T_7cd0955e_b6d1_11e9_aa26_e8039acf6c77row4_col2 {\n",
       "            background-color:  red;\n",
       "        }    #T_7cd0955e_b6d1_11e9_aa26_e8039acf6c77row4_col3 {\n",
       "            background-color:  red;\n",
       "        }    #T_7cd0955e_b6d1_11e9_aa26_e8039acf6c77row4_col4 {\n",
       "            background-color:  red;\n",
       "        }    #T_7cd0955e_b6d1_11e9_aa26_e8039acf6c77row5_col1 {\n",
       "            background-color:  red;\n",
       "        }    #T_7cd0955e_b6d1_11e9_aa26_e8039acf6c77row6_col0 {\n",
       "            background-color:  red;\n",
       "        }    #T_7cd0955e_b6d1_11e9_aa26_e8039acf6c77row6_col1 {\n",
       "            background-color:  red;\n",
       "        }    #T_7cd0955e_b6d1_11e9_aa26_e8039acf6c77row6_col2 {\n",
       "            background-color:  red;\n",
       "        }    #T_7cd0955e_b6d1_11e9_aa26_e8039acf6c77row6_col3 {\n",
       "            background-color:  red;\n",
       "        }    #T_7cd0955e_b6d1_11e9_aa26_e8039acf6c77row7_col3 {\n",
       "            background-color:  red;\n",
       "        }    #T_7cd0955e_b6d1_11e9_aa26_e8039acf6c77row7_col4 {\n",
       "            background-color:  red;\n",
       "        }    #T_7cd0955e_b6d1_11e9_aa26_e8039acf6c77row8_col2 {\n",
       "            background-color:  red;\n",
       "        }    #T_7cd0955e_b6d1_11e9_aa26_e8039acf6c77row8_col3 {\n",
       "            background-color:  red;\n",
       "        }    #T_7cd0955e_b6d1_11e9_aa26_e8039acf6c77row8_col4 {\n",
       "            background-color:  red;\n",
       "        }    #T_7cd0955e_b6d1_11e9_aa26_e8039acf6c77row9_col2 {\n",
       "            background-color:  red;\n",
       "        }    #T_7cd0955e_b6d1_11e9_aa26_e8039acf6c77row9_col3 {\n",
       "            background-color:  red;\n",
       "        }    #T_7cd0955e_b6d1_11e9_aa26_e8039acf6c77row9_col4 {\n",
       "            background-color:  red;\n",
       "        }    #T_7cd0955e_b6d1_11e9_aa26_e8039acf6c77row10_col2 {\n",
       "            background-color:  red;\n",
       "        }    #T_7cd0955e_b6d1_11e9_aa26_e8039acf6c77row11_col3 {\n",
       "            background-color:  red;\n",
       "        }    #T_7cd0955e_b6d1_11e9_aa26_e8039acf6c77row11_col4 {\n",
       "            background-color:  red;\n",
       "        }    #T_7cd0955e_b6d1_11e9_aa26_e8039acf6c77row12_col2 {\n",
       "            background-color:  red;\n",
       "        }    #T_7cd0955e_b6d1_11e9_aa26_e8039acf6c77row12_col3 {\n",
       "            background-color:  red;\n",
       "        }    #T_7cd0955e_b6d1_11e9_aa26_e8039acf6c77row12_col4 {\n",
       "            background-color:  red;\n",
       "        }    #T_7cd0955e_b6d1_11e9_aa26_e8039acf6c77row13_col2 {\n",
       "            background-color:  red;\n",
       "        }    #T_7cd0955e_b6d1_11e9_aa26_e8039acf6c77row13_col3 {\n",
       "            background-color:  red;\n",
       "        }    #T_7cd0955e_b6d1_11e9_aa26_e8039acf6c77row13_col4 {\n",
       "            background-color:  red;\n",
       "        }    #T_7cd0955e_b6d1_11e9_aa26_e8039acf6c77row14_col2 {\n",
       "            background-color:  red;\n",
       "        }    #T_7cd0955e_b6d1_11e9_aa26_e8039acf6c77row14_col3 {\n",
       "            background-color:  red;\n",
       "        }    #T_7cd0955e_b6d1_11e9_aa26_e8039acf6c77row14_col4 {\n",
       "            background-color:  red;\n",
       "        }    #T_7cd0955e_b6d1_11e9_aa26_e8039acf6c77row15_col3 {\n",
       "            background-color:  red;\n",
       "        }    #T_7cd0955e_b6d1_11e9_aa26_e8039acf6c77row15_col4 {\n",
       "            background-color:  red;\n",
       "        }    #T_7cd0955e_b6d1_11e9_aa26_e8039acf6c77row16_col0 {\n",
       "            background-color:  red;\n",
       "        }    #T_7cd0955e_b6d1_11e9_aa26_e8039acf6c77row16_col1 {\n",
       "            background-color:  red;\n",
       "        }    #T_7cd0955e_b6d1_11e9_aa26_e8039acf6c77row16_col2 {\n",
       "            background-color:  red;\n",
       "        }    #T_7cd0955e_b6d1_11e9_aa26_e8039acf6c77row16_col3 {\n",
       "            background-color:  red;\n",
       "        }    #T_7cd0955e_b6d1_11e9_aa26_e8039acf6c77row16_col4 {\n",
       "            background-color:  red;\n",
       "        }    #T_7cd0955e_b6d1_11e9_aa26_e8039acf6c77row17_col2 {\n",
       "            background-color:  red;\n",
       "        }    #T_7cd0955e_b6d1_11e9_aa26_e8039acf6c77row17_col3 {\n",
       "            background-color:  red;\n",
       "        }    #T_7cd0955e_b6d1_11e9_aa26_e8039acf6c77row17_col4 {\n",
       "            background-color:  red;\n",
       "        }    #T_7cd0955e_b6d1_11e9_aa26_e8039acf6c77row18_col0 {\n",
       "            background-color:  red;\n",
       "        }    #T_7cd0955e_b6d1_11e9_aa26_e8039acf6c77row18_col2 {\n",
       "            background-color:  red;\n",
       "        }    #T_7cd0955e_b6d1_11e9_aa26_e8039acf6c77row19_col0 {\n",
       "            background-color:  red;\n",
       "        }    #T_7cd0955e_b6d1_11e9_aa26_e8039acf6c77row19_col1 {\n",
       "            background-color:  red;\n",
       "        }    #T_7cd0955e_b6d1_11e9_aa26_e8039acf6c77row19_col2 {\n",
       "            background-color:  red;\n",
       "        }    #T_7cd0955e_b6d1_11e9_aa26_e8039acf6c77row19_col3 {\n",
       "            background-color:  red;\n",
       "        }    #T_7cd0955e_b6d1_11e9_aa26_e8039acf6c77row19_col4 {\n",
       "            background-color:  red;\n",
       "        }    #T_7cd0955e_b6d1_11e9_aa26_e8039acf6c77row20_col2 {\n",
       "            background-color:  red;\n",
       "        }    #T_7cd0955e_b6d1_11e9_aa26_e8039acf6c77row20_col3 {\n",
       "            background-color:  red;\n",
       "        }    #T_7cd0955e_b6d1_11e9_aa26_e8039acf6c77row20_col4 {\n",
       "            background-color:  red;\n",
       "        }    #T_7cd0955e_b6d1_11e9_aa26_e8039acf6c77row21_col0 {\n",
       "            background-color:  red;\n",
       "        }    #T_7cd0955e_b6d1_11e9_aa26_e8039acf6c77row21_col2 {\n",
       "            background-color:  red;\n",
       "        }    #T_7cd0955e_b6d1_11e9_aa26_e8039acf6c77row21_col3 {\n",
       "            background-color:  red;\n",
       "        }    #T_7cd0955e_b6d1_11e9_aa26_e8039acf6c77row21_col4 {\n",
       "            background-color:  red;\n",
       "        }    #T_7cd0955e_b6d1_11e9_aa26_e8039acf6c77row22_col2 {\n",
       "            background-color:  red;\n",
       "        }    #T_7cd0955e_b6d1_11e9_aa26_e8039acf6c77row22_col3 {\n",
       "            background-color:  red;\n",
       "        }    #T_7cd0955e_b6d1_11e9_aa26_e8039acf6c77row22_col4 {\n",
       "            background-color:  red;\n",
       "        }    #T_7cd0955e_b6d1_11e9_aa26_e8039acf6c77row23_col0 {\n",
       "            background-color:  red;\n",
       "        }    #T_7cd0955e_b6d1_11e9_aa26_e8039acf6c77row23_col1 {\n",
       "            background-color:  red;\n",
       "        }    #T_7cd0955e_b6d1_11e9_aa26_e8039acf6c77row23_col2 {\n",
       "            background-color:  red;\n",
       "        }    #T_7cd0955e_b6d1_11e9_aa26_e8039acf6c77row23_col3 {\n",
       "            background-color:  red;\n",
       "        }    #T_7cd0955e_b6d1_11e9_aa26_e8039acf6c77row23_col4 {\n",
       "            background-color:  red;\n",
       "        }    #T_7cd0955e_b6d1_11e9_aa26_e8039acf6c77row24_col4 {\n",
       "            background-color:  red;\n",
       "        }    #T_7cd0955e_b6d1_11e9_aa26_e8039acf6c77row25_col2 {\n",
       "            background-color:  red;\n",
       "        }    #T_7cd0955e_b6d1_11e9_aa26_e8039acf6c77row25_col3 {\n",
       "            background-color:  red;\n",
       "        }    #T_7cd0955e_b6d1_11e9_aa26_e8039acf6c77row25_col4 {\n",
       "            background-color:  red;\n",
       "        }    #T_7cd0955e_b6d1_11e9_aa26_e8039acf6c77row26_col0 {\n",
       "            background-color:  red;\n",
       "        }    #T_7cd0955e_b6d1_11e9_aa26_e8039acf6c77row26_col1 {\n",
       "            background-color:  red;\n",
       "        }    #T_7cd0955e_b6d1_11e9_aa26_e8039acf6c77row26_col2 {\n",
       "            background-color:  red;\n",
       "        }    #T_7cd0955e_b6d1_11e9_aa26_e8039acf6c77row26_col3 {\n",
       "            background-color:  red;\n",
       "        }    #T_7cd0955e_b6d1_11e9_aa26_e8039acf6c77row26_col4 {\n",
       "            background-color:  red;\n",
       "        }    #T_7cd0955e_b6d1_11e9_aa26_e8039acf6c77row27_col3 {\n",
       "            background-color:  red;\n",
       "        }    #T_7cd0955e_b6d1_11e9_aa26_e8039acf6c77row27_col4 {\n",
       "            background-color:  red;\n",
       "        }    #T_7cd0955e_b6d1_11e9_aa26_e8039acf6c77row28_col2 {\n",
       "            background-color:  red;\n",
       "        }    #T_7cd0955e_b6d1_11e9_aa26_e8039acf6c77row28_col3 {\n",
       "            background-color:  red;\n",
       "        }    #T_7cd0955e_b6d1_11e9_aa26_e8039acf6c77row28_col4 {\n",
       "            background-color:  red;\n",
       "        }    #T_7cd0955e_b6d1_11e9_aa26_e8039acf6c77row29_col2 {\n",
       "            background-color:  red;\n",
       "        }    #T_7cd0955e_b6d1_11e9_aa26_e8039acf6c77row29_col3 {\n",
       "            background-color:  red;\n",
       "        }    #T_7cd0955e_b6d1_11e9_aa26_e8039acf6c77row29_col4 {\n",
       "            background-color:  red;\n",
       "        }</style>  \n",
       "<table id=\"T_7cd0955e_b6d1_11e9_aa26_e8039acf6c77\" > \n",
       "<thead>    <tr> \n",
       "        <th class=\"blank\" ></th> \n",
       "        <th class=\"blank level0\" ></th> \n",
       "        <th class=\"col_heading level0 col0\" >last6m</th> \n",
       "        <th class=\"col_heading level0 col1\" >last3m</th> \n",
       "        <th class=\"col_heading level0 col2\" >last1m</th> \n",
       "        <th class=\"col_heading level0 col3\" >last2w</th> \n",
       "        <th class=\"col_heading level0 col4\" >last1w</th> \n",
       "    </tr>    <tr> \n",
       "        <th class=\"index_name level0\" >StockCode</th> \n",
       "        <th class=\"index_name level1\" ></th> \n",
       "        <th class=\"blank\" ></th> \n",
       "        <th class=\"blank\" ></th> \n",
       "        <th class=\"blank\" ></th> \n",
       "        <th class=\"blank\" ></th> \n",
       "        <th class=\"blank\" ></th> \n",
       "    </tr></thead> \n",
       "<tbody>    <tr> \n",
       "        <th id=\"T_7cd0955e_b6d1_11e9_aa26_e8039acf6c77level0_row0\" class=\"row_heading level0 row0\" >AMAZONFEE</th> \n",
       "        <th id=\"T_7cd0955e_b6d1_11e9_aa26_e8039acf6c77level1_row0\" class=\"row_heading level1 row0\" >0</th> \n",
       "        <td id=\"T_7cd0955e_b6d1_11e9_aa26_e8039acf6c77row0_col0\" class=\"data row0 col0\" >-8847.55</td> \n",
       "        <td id=\"T_7cd0955e_b6d1_11e9_aa26_e8039acf6c77row0_col1\" class=\"data row0 col1\" >-8847.55</td> \n",
       "        <td id=\"T_7cd0955e_b6d1_11e9_aa26_e8039acf6c77row0_col2\" class=\"data row0 col2\" >-2185.04</td> \n",
       "        <td id=\"T_7cd0955e_b6d1_11e9_aa26_e8039acf6c77row0_col3\" class=\"data row0 col3\" >-2185.04</td> \n",
       "        <td id=\"T_7cd0955e_b6d1_11e9_aa26_e8039acf6c77row0_col4\" class=\"data row0 col4\" >-2185.04</td> \n",
       "    </tr>    <tr> \n",
       "        <th id=\"T_7cd0955e_b6d1_11e9_aa26_e8039acf6c77level0_row1\" class=\"row_heading level0 row1\" >85232B</th> \n",
       "        <th id=\"T_7cd0955e_b6d1_11e9_aa26_e8039acf6c77level1_row1\" class=\"row_heading level1 row1\" >0</th> \n",
       "        <td id=\"T_7cd0955e_b6d1_11e9_aa26_e8039acf6c77row1_col0\" class=\"data row1 col0\" >0</td> \n",
       "        <td id=\"T_7cd0955e_b6d1_11e9_aa26_e8039acf6c77row1_col1\" class=\"data row1 col1\" >0</td> \n",
       "        <td id=\"T_7cd0955e_b6d1_11e9_aa26_e8039acf6c77row1_col2\" class=\"data row1 col2\" >-1173.15</td> \n",
       "        <td id=\"T_7cd0955e_b6d1_11e9_aa26_e8039acf6c77row1_col3\" class=\"data row1 col3\" >14.85</td> \n",
       "        <td id=\"T_7cd0955e_b6d1_11e9_aa26_e8039acf6c77row1_col4\" class=\"data row1 col4\" >14.85</td> \n",
       "    </tr>    <tr> \n",
       "        <th id=\"T_7cd0955e_b6d1_11e9_aa26_e8039acf6c77level0_row2\" class=\"row_heading level0 row2\" >CRUK</th> \n",
       "        <th id=\"T_7cd0955e_b6d1_11e9_aa26_e8039acf6c77level1_row2\" class=\"row_heading level1 row2\" >0</th> \n",
       "        <td id=\"T_7cd0955e_b6d1_11e9_aa26_e8039acf6c77row2_col0\" class=\"data row2 col0\" >-512.81</td> \n",
       "        <td id=\"T_7cd0955e_b6d1_11e9_aa26_e8039acf6c77row2_col1\" class=\"data row2 col1\" >-512.81</td> \n",
       "        <td id=\"T_7cd0955e_b6d1_11e9_aa26_e8039acf6c77row2_col2\" class=\"data row2 col2\" >-512.81</td> \n",
       "        <td id=\"T_7cd0955e_b6d1_11e9_aa26_e8039acf6c77row2_col3\" class=\"data row2 col3\" >-499.8</td> \n",
       "        <td id=\"T_7cd0955e_b6d1_11e9_aa26_e8039acf6c77row2_col4\" class=\"data row2 col4\" >-447.56</td> \n",
       "    </tr>    <tr> \n",
       "        <th id=\"T_7cd0955e_b6d1_11e9_aa26_e8039acf6c77level0_row3\" class=\"row_heading level0 row3\" >22656</th> \n",
       "        <th id=\"T_7cd0955e_b6d1_11e9_aa26_e8039acf6c77level1_row3\" class=\"row_heading level1 row3\" >0</th> \n",
       "        <td id=\"T_7cd0955e_b6d1_11e9_aa26_e8039acf6c77row3_col0\" class=\"data row3 col0\" >0</td> \n",
       "        <td id=\"T_7cd0955e_b6d1_11e9_aa26_e8039acf6c77row3_col1\" class=\"data row3 col1\" >-250</td> \n",
       "        <td id=\"T_7cd0955e_b6d1_11e9_aa26_e8039acf6c77row3_col2\" class=\"data row3 col2\" >-250</td> \n",
       "        <td id=\"T_7cd0955e_b6d1_11e9_aa26_e8039acf6c77row3_col3\" class=\"data row3 col3\" >-125</td> \n",
       "        <td id=\"T_7cd0955e_b6d1_11e9_aa26_e8039acf6c77row3_col4\" class=\"data row3 col4\" >-125</td> \n",
       "    </tr>    <tr> \n",
       "        <th id=\"T_7cd0955e_b6d1_11e9_aa26_e8039acf6c77level0_row4\" class=\"row_heading level0 row4\" >22103</th> \n",
       "        <th id=\"T_7cd0955e_b6d1_11e9_aa26_e8039acf6c77level1_row4\" class=\"row_heading level1 row4\" >0</th> \n",
       "        <td id=\"T_7cd0955e_b6d1_11e9_aa26_e8039acf6c77row4_col0\" class=\"data row4 col0\" >-182.52</td> \n",
       "        <td id=\"T_7cd0955e_b6d1_11e9_aa26_e8039acf6c77row4_col1\" class=\"data row4 col1\" >-152.82</td> \n",
       "        <td id=\"T_7cd0955e_b6d1_11e9_aa26_e8039acf6c77row4_col2\" class=\"data row4 col2\" >-182.52</td> \n",
       "        <td id=\"T_7cd0955e_b6d1_11e9_aa26_e8039acf6c77row4_col3\" class=\"data row4 col3\" >-182.52</td> \n",
       "        <td id=\"T_7cd0955e_b6d1_11e9_aa26_e8039acf6c77row4_col4\" class=\"data row4 col4\" >-182.52</td> \n",
       "    </tr>    <tr> \n",
       "        <th id=\"T_7cd0955e_b6d1_11e9_aa26_e8039acf6c77level0_row5\" class=\"row_heading level0 row5\" >D</th> \n",
       "        <th id=\"T_7cd0955e_b6d1_11e9_aa26_e8039acf6c77level1_row5\" class=\"row_heading level1 row5\" >0</th> \n",
       "        <td id=\"T_7cd0955e_b6d1_11e9_aa26_e8039acf6c77row5_col0\" class=\"data row5 col0\" >-490.25</td> \n",
       "        <td id=\"T_7cd0955e_b6d1_11e9_aa26_e8039acf6c77row5_col1\" class=\"data row5 col1\" >-497.45</td> \n",
       "        <td id=\"T_7cd0955e_b6d1_11e9_aa26_e8039acf6c77row5_col2\" class=\"data row5 col2\" >-134.8</td> \n",
       "        <td id=\"T_7cd0955e_b6d1_11e9_aa26_e8039acf6c77row5_col3\" class=\"data row5 col3\" >-122.96</td> \n",
       "        <td id=\"T_7cd0955e_b6d1_11e9_aa26_e8039acf6c77row5_col4\" class=\"data row5 col4\" >-122.96</td> \n",
       "    </tr>    <tr> \n",
       "        <th id=\"T_7cd0955e_b6d1_11e9_aa26_e8039acf6c77level0_row6\" class=\"row_heading level0 row6\" >S</th> \n",
       "        <th id=\"T_7cd0955e_b6d1_11e9_aa26_e8039acf6c77level1_row6\" class=\"row_heading level1 row6\" >0</th> \n",
       "        <td id=\"T_7cd0955e_b6d1_11e9_aa26_e8039acf6c77row6_col0\" class=\"data row6 col0\" >-131.23</td> \n",
       "        <td id=\"T_7cd0955e_b6d1_11e9_aa26_e8039acf6c77row6_col1\" class=\"data row6 col1\" >-131.23</td> \n",
       "        <td id=\"T_7cd0955e_b6d1_11e9_aa26_e8039acf6c77row6_col2\" class=\"data row6 col2\" >-131.23</td> \n",
       "        <td id=\"T_7cd0955e_b6d1_11e9_aa26_e8039acf6c77row6_col3\" class=\"data row6 col3\" >-131.23</td> \n",
       "        <td id=\"T_7cd0955e_b6d1_11e9_aa26_e8039acf6c77row6_col4\" class=\"data row6 col4\" >-33.05</td> \n",
       "    </tr>    <tr> \n",
       "        <th id=\"T_7cd0955e_b6d1_11e9_aa26_e8039acf6c77level0_row7\" class=\"row_heading level0 row7\" >22781</th> \n",
       "        <th id=\"T_7cd0955e_b6d1_11e9_aa26_e8039acf6c77level1_row7\" class=\"row_heading level1 row7\" >0</th> \n",
       "        <td id=\"T_7cd0955e_b6d1_11e9_aa26_e8039acf6c77row7_col0\" class=\"data row7 col0\" >58.49</td> \n",
       "        <td id=\"T_7cd0955e_b6d1_11e9_aa26_e8039acf6c77row7_col1\" class=\"data row7 col1\" >58.49</td> \n",
       "        <td id=\"T_7cd0955e_b6d1_11e9_aa26_e8039acf6c77row7_col2\" class=\"data row7 col2\" >-116.78</td> \n",
       "        <td id=\"T_7cd0955e_b6d1_11e9_aa26_e8039acf6c77row7_col3\" class=\"data row7 col3\" >-162</td> \n",
       "        <td id=\"T_7cd0955e_b6d1_11e9_aa26_e8039acf6c77row7_col4\" class=\"data row7 col4\" >-162</td> \n",
       "    </tr>    <tr> \n",
       "        <th id=\"T_7cd0955e_b6d1_11e9_aa26_e8039acf6c77level0_row8\" class=\"row_heading level0 row8\" >84616</th> \n",
       "        <th id=\"T_7cd0955e_b6d1_11e9_aa26_e8039acf6c77level1_row8\" class=\"row_heading level1 row8\" >0</th> \n",
       "        <td id=\"T_7cd0955e_b6d1_11e9_aa26_e8039acf6c77row8_col0\" class=\"data row8 col0\" >-1.61</td> \n",
       "        <td id=\"T_7cd0955e_b6d1_11e9_aa26_e8039acf6c77row8_col1\" class=\"data row8 col1\" >58.29</td> \n",
       "        <td id=\"T_7cd0955e_b6d1_11e9_aa26_e8039acf6c77row8_col2\" class=\"data row8 col2\" >-59.9</td> \n",
       "        <td id=\"T_7cd0955e_b6d1_11e9_aa26_e8039acf6c77row8_col3\" class=\"data row8 col3\" >-59.9</td> \n",
       "        <td id=\"T_7cd0955e_b6d1_11e9_aa26_e8039acf6c77row8_col4\" class=\"data row8 col4\" >-59.9</td> \n",
       "    </tr>    <tr> \n",
       "        <th id=\"T_7cd0955e_b6d1_11e9_aa26_e8039acf6c77level0_row9\" class=\"row_heading level0 row9\" >22128</th> \n",
       "        <th id=\"T_7cd0955e_b6d1_11e9_aa26_e8039acf6c77level1_row9\" class=\"row_heading level1 row9\" >0</th> \n",
       "        <td id=\"T_7cd0955e_b6d1_11e9_aa26_e8039acf6c77row9_col0\" class=\"data row9 col0\" >15</td> \n",
       "        <td id=\"T_7cd0955e_b6d1_11e9_aa26_e8039acf6c77row9_col1\" class=\"data row9 col1\" >12.5</td> \n",
       "        <td id=\"T_7cd0955e_b6d1_11e9_aa26_e8039acf6c77row9_col2\" class=\"data row9 col2\" >-52.5</td> \n",
       "        <td id=\"T_7cd0955e_b6d1_11e9_aa26_e8039acf6c77row9_col3\" class=\"data row9 col3\" >-52.5</td> \n",
       "        <td id=\"T_7cd0955e_b6d1_11e9_aa26_e8039acf6c77row9_col4\" class=\"data row9 col4\" >-52.5</td> \n",
       "    </tr>    <tr> \n",
       "        <th id=\"T_7cd0955e_b6d1_11e9_aa26_e8039acf6c77level0_row10\" class=\"row_heading level0 row10\" >21846</th> \n",
       "        <th id=\"T_7cd0955e_b6d1_11e9_aa26_e8039acf6c77level1_row10\" class=\"row_heading level1 row10\" >0</th> \n",
       "        <td id=\"T_7cd0955e_b6d1_11e9_aa26_e8039acf6c77row10_col0\" class=\"data row10 col0\" >-41.21</td> \n",
       "        <td id=\"T_7cd0955e_b6d1_11e9_aa26_e8039acf6c77row10_col1\" class=\"data row10 col1\" >-41.21</td> \n",
       "        <td id=\"T_7cd0955e_b6d1_11e9_aa26_e8039acf6c77row10_col2\" class=\"data row10 col2\" >-46.16</td> \n",
       "        <td id=\"T_7cd0955e_b6d1_11e9_aa26_e8039acf6c77row10_col3\" class=\"data row10 col3\" >8.29</td> \n",
       "        <td id=\"T_7cd0955e_b6d1_11e9_aa26_e8039acf6c77row10_col4\" class=\"data row10 col4\" >8.29</td> \n",
       "    </tr>    <tr> \n",
       "        <th id=\"T_7cd0955e_b6d1_11e9_aa26_e8039acf6c77level0_row11\" class=\"row_heading level0 row11\" >22504</th> \n",
       "        <th id=\"T_7cd0955e_b6d1_11e9_aa26_e8039acf6c77level1_row11\" class=\"row_heading level1 row11\" >0</th> \n",
       "        <td id=\"T_7cd0955e_b6d1_11e9_aa26_e8039acf6c77row11_col0\" class=\"data row11 col0\" >-43.27</td> \n",
       "        <td id=\"T_7cd0955e_b6d1_11e9_aa26_e8039acf6c77row11_col1\" class=\"data row11 col1\" >-43.27</td> \n",
       "        <td id=\"T_7cd0955e_b6d1_11e9_aa26_e8039acf6c77row11_col2\" class=\"data row11 col2\" >-43.27</td> \n",
       "        <td id=\"T_7cd0955e_b6d1_11e9_aa26_e8039acf6c77row11_col3\" class=\"data row11 col3\" >-59.9</td> \n",
       "        <td id=\"T_7cd0955e_b6d1_11e9_aa26_e8039acf6c77row11_col4\" class=\"data row11 col4\" >-59.9</td> \n",
       "    </tr>    <tr> \n",
       "        <th id=\"T_7cd0955e_b6d1_11e9_aa26_e8039acf6c77level0_row12\" class=\"row_heading level0 row12\" >22536</th> \n",
       "        <th id=\"T_7cd0955e_b6d1_11e9_aa26_e8039acf6c77level1_row12\" class=\"row_heading level1 row12\" >0</th> \n",
       "        <td id=\"T_7cd0955e_b6d1_11e9_aa26_e8039acf6c77row12_col0\" class=\"data row12 col0\" >16.76</td> \n",
       "        <td id=\"T_7cd0955e_b6d1_11e9_aa26_e8039acf6c77row12_col1\" class=\"data row12 col1\" >49.1</td> \n",
       "        <td id=\"T_7cd0955e_b6d1_11e9_aa26_e8039acf6c77row12_col2\" class=\"data row12 col2\" >-41.94</td> \n",
       "        <td id=\"T_7cd0955e_b6d1_11e9_aa26_e8039acf6c77row12_col3\" class=\"data row12 col3\" >-41.94</td> \n",
       "        <td id=\"T_7cd0955e_b6d1_11e9_aa26_e8039acf6c77row12_col4\" class=\"data row12 col4\" >-41.94</td> \n",
       "    </tr>    <tr> \n",
       "        <th id=\"T_7cd0955e_b6d1_11e9_aa26_e8039acf6c77level0_row13\" class=\"row_heading level0 row13\" >23250</th> \n",
       "        <th id=\"T_7cd0955e_b6d1_11e9_aa26_e8039acf6c77level1_row13\" class=\"row_heading level1 row13\" >0</th> \n",
       "        <td id=\"T_7cd0955e_b6d1_11e9_aa26_e8039acf6c77row13_col0\" class=\"data row13 col0\" >24.23</td> \n",
       "        <td id=\"T_7cd0955e_b6d1_11e9_aa26_e8039acf6c77row13_col1\" class=\"data row13 col1\" >24.23</td> \n",
       "        <td id=\"T_7cd0955e_b6d1_11e9_aa26_e8039acf6c77row13_col2\" class=\"data row13 col2\" >-39.52</td> \n",
       "        <td id=\"T_7cd0955e_b6d1_11e9_aa26_e8039acf6c77row13_col3\" class=\"data row13 col3\" >-39.52</td> \n",
       "        <td id=\"T_7cd0955e_b6d1_11e9_aa26_e8039acf6c77row13_col4\" class=\"data row13 col4\" >-39.52</td> \n",
       "    </tr>    <tr> \n",
       "        <th id=\"T_7cd0955e_b6d1_11e9_aa26_e8039acf6c77level0_row14\" class=\"row_heading level0 row14\" >22933</th> \n",
       "        <th id=\"T_7cd0955e_b6d1_11e9_aa26_e8039acf6c77level1_row14\" class=\"row_heading level1 row14\" >0</th> \n",
       "        <td id=\"T_7cd0955e_b6d1_11e9_aa26_e8039acf6c77row14_col0\" class=\"data row14 col0\" >0</td> \n",
       "        <td id=\"T_7cd0955e_b6d1_11e9_aa26_e8039acf6c77row14_col1\" class=\"data row14 col1\" >-32.11</td> \n",
       "        <td id=\"T_7cd0955e_b6d1_11e9_aa26_e8039acf6c77row14_col2\" class=\"data row14 col2\" >-35.4</td> \n",
       "        <td id=\"T_7cd0955e_b6d1_11e9_aa26_e8039acf6c77row14_col3\" class=\"data row14 col3\" >-35.4</td> \n",
       "        <td id=\"T_7cd0955e_b6d1_11e9_aa26_e8039acf6c77row14_col4\" class=\"data row14 col4\" >-35.4</td> \n",
       "    </tr>    <tr> \n",
       "        <th id=\"T_7cd0955e_b6d1_11e9_aa26_e8039acf6c77level0_row15\" class=\"row_heading level0 row15\" >21499</th> \n",
       "        <th id=\"T_7cd0955e_b6d1_11e9_aa26_e8039acf6c77level1_row15\" class=\"row_heading level1 row15\" >0</th> \n",
       "        <td id=\"T_7cd0955e_b6d1_11e9_aa26_e8039acf6c77row15_col0\" class=\"data row15 col0\" >75</td> \n",
       "        <td id=\"T_7cd0955e_b6d1_11e9_aa26_e8039acf6c77row15_col1\" class=\"data row15 col1\" >117.84</td> \n",
       "        <td id=\"T_7cd0955e_b6d1_11e9_aa26_e8039acf6c77row15_col2\" class=\"data row15 col2\" >-30</td> \n",
       "        <td id=\"T_7cd0955e_b6d1_11e9_aa26_e8039acf6c77row15_col3\" class=\"data row15 col3\" >-40.5</td> \n",
       "        <td id=\"T_7cd0955e_b6d1_11e9_aa26_e8039acf6c77row15_col4\" class=\"data row15 col4\" >-40.5</td> \n",
       "    </tr>    <tr> \n",
       "        <th id=\"T_7cd0955e_b6d1_11e9_aa26_e8039acf6c77level0_row16\" class=\"row_heading level0 row16\" >21777</th> \n",
       "        <th id=\"T_7cd0955e_b6d1_11e9_aa26_e8039acf6c77level1_row16\" class=\"row_heading level1 row16\" >0</th> \n",
       "        <td id=\"T_7cd0955e_b6d1_11e9_aa26_e8039acf6c77row16_col0\" class=\"data row16 col0\" >-23.85</td> \n",
       "        <td id=\"T_7cd0955e_b6d1_11e9_aa26_e8039acf6c77row16_col1\" class=\"data row16 col1\" >-23.85</td> \n",
       "        <td id=\"T_7cd0955e_b6d1_11e9_aa26_e8039acf6c77row16_col2\" class=\"data row16 col2\" >-23.85</td> \n",
       "        <td id=\"T_7cd0955e_b6d1_11e9_aa26_e8039acf6c77row16_col3\" class=\"data row16 col3\" >-23.85</td> \n",
       "        <td id=\"T_7cd0955e_b6d1_11e9_aa26_e8039acf6c77row16_col4\" class=\"data row16 col4\" >-23.85</td> \n",
       "    </tr>    <tr> \n",
       "        <th id=\"T_7cd0955e_b6d1_11e9_aa26_e8039acf6c77level0_row17\" class=\"row_heading level0 row17\" >90177A</th> \n",
       "        <th id=\"T_7cd0955e_b6d1_11e9_aa26_e8039acf6c77level1_row17\" class=\"row_heading level1 row17\" >0</th> \n",
       "        <td id=\"T_7cd0955e_b6d1_11e9_aa26_e8039acf6c77row17_col0\" class=\"data row17 col0\" >-14.8</td> \n",
       "        <td id=\"T_7cd0955e_b6d1_11e9_aa26_e8039acf6c77row17_col1\" class=\"data row17 col1\" >-14.8</td> \n",
       "        <td id=\"T_7cd0955e_b6d1_11e9_aa26_e8039acf6c77row17_col2\" class=\"data row17 col2\" >-17.7</td> \n",
       "        <td id=\"T_7cd0955e_b6d1_11e9_aa26_e8039acf6c77row17_col3\" class=\"data row17 col3\" >-17.7</td> \n",
       "        <td id=\"T_7cd0955e_b6d1_11e9_aa26_e8039acf6c77row17_col4\" class=\"data row17 col4\" >-17.7</td> \n",
       "    </tr>    <tr> \n",
       "        <th id=\"T_7cd0955e_b6d1_11e9_aa26_e8039acf6c77level0_row18\" class=\"row_heading level0 row18\" >21205</th> \n",
       "        <th id=\"T_7cd0955e_b6d1_11e9_aa26_e8039acf6c77level1_row18\" class=\"row_heading level1 row18\" >0</th> \n",
       "        <td id=\"T_7cd0955e_b6d1_11e9_aa26_e8039acf6c77row18_col0\" class=\"data row18 col0\" >-15.72</td> \n",
       "        <td id=\"T_7cd0955e_b6d1_11e9_aa26_e8039acf6c77row18_col1\" class=\"data row18 col1\" >-5.66</td> \n",
       "        <td id=\"T_7cd0955e_b6d1_11e9_aa26_e8039acf6c77row18_col2\" class=\"data row18 col2\" >-15.72</td> \n",
       "        <td id=\"T_7cd0955e_b6d1_11e9_aa26_e8039acf6c77row18_col3\" class=\"data row18 col3\" >14.88</td> \n",
       "        <td id=\"T_7cd0955e_b6d1_11e9_aa26_e8039acf6c77row18_col4\" class=\"data row18 col4\" >14.88</td> \n",
       "    </tr>    <tr> \n",
       "        <th id=\"T_7cd0955e_b6d1_11e9_aa26_e8039acf6c77level0_row19\" class=\"row_heading level0 row19\" >90050</th> \n",
       "        <th id=\"T_7cd0955e_b6d1_11e9_aa26_e8039acf6c77level1_row19\" class=\"row_heading level1 row19\" >0</th> \n",
       "        <td id=\"T_7cd0955e_b6d1_11e9_aa26_e8039acf6c77row19_col0\" class=\"data row19 col0\" >-13.9</td> \n",
       "        <td id=\"T_7cd0955e_b6d1_11e9_aa26_e8039acf6c77row19_col1\" class=\"data row19 col1\" >-13.9</td> \n",
       "        <td id=\"T_7cd0955e_b6d1_11e9_aa26_e8039acf6c77row19_col2\" class=\"data row19 col2\" >-13.9</td> \n",
       "        <td id=\"T_7cd0955e_b6d1_11e9_aa26_e8039acf6c77row19_col3\" class=\"data row19 col3\" >-13.9</td> \n",
       "        <td id=\"T_7cd0955e_b6d1_11e9_aa26_e8039acf6c77row19_col4\" class=\"data row19 col4\" >-13.9</td> \n",
       "    </tr>    <tr> \n",
       "        <th id=\"T_7cd0955e_b6d1_11e9_aa26_e8039acf6c77level0_row20\" class=\"row_heading level0 row20\" >22248</th> \n",
       "        <th id=\"T_7cd0955e_b6d1_11e9_aa26_e8039acf6c77level1_row20\" class=\"row_heading level1 row20\" >0</th> \n",
       "        <td id=\"T_7cd0955e_b6d1_11e9_aa26_e8039acf6c77row20_col0\" class=\"data row20 col0\" >1.63</td> \n",
       "        <td id=\"T_7cd0955e_b6d1_11e9_aa26_e8039acf6c77row20_col1\" class=\"data row20 col1\" >8.15</td> \n",
       "        <td id=\"T_7cd0955e_b6d1_11e9_aa26_e8039acf6c77row20_col2\" class=\"data row20 col2\" >-13.6</td> \n",
       "        <td id=\"T_7cd0955e_b6d1_11e9_aa26_e8039acf6c77row20_col3\" class=\"data row20 col3\" >-13.6</td> \n",
       "        <td id=\"T_7cd0955e_b6d1_11e9_aa26_e8039acf6c77row20_col4\" class=\"data row20 col4\" >-13.6</td> \n",
       "    </tr>    <tr> \n",
       "        <th id=\"T_7cd0955e_b6d1_11e9_aa26_e8039acf6c77level0_row21\" class=\"row_heading level0 row21\" >21735</th> \n",
       "        <th id=\"T_7cd0955e_b6d1_11e9_aa26_e8039acf6c77level1_row21\" class=\"row_heading level1 row21\" >0</th> \n",
       "        <td id=\"T_7cd0955e_b6d1_11e9_aa26_e8039acf6c77row21_col0\" class=\"data row21 col0\" >-12.75</td> \n",
       "        <td id=\"T_7cd0955e_b6d1_11e9_aa26_e8039acf6c77row21_col1\" class=\"data row21 col1\" >25.5</td> \n",
       "        <td id=\"T_7cd0955e_b6d1_11e9_aa26_e8039acf6c77row21_col2\" class=\"data row21 col2\" >-12.75</td> \n",
       "        <td id=\"T_7cd0955e_b6d1_11e9_aa26_e8039acf6c77row21_col3\" class=\"data row21 col3\" >-12.75</td> \n",
       "        <td id=\"T_7cd0955e_b6d1_11e9_aa26_e8039acf6c77row21_col4\" class=\"data row21 col4\" >-12.75</td> \n",
       "    </tr>    <tr> \n",
       "        <th id=\"T_7cd0955e_b6d1_11e9_aa26_e8039acf6c77level0_row22\" class=\"row_heading level0 row22\" >90148</th> \n",
       "        <th id=\"T_7cd0955e_b6d1_11e9_aa26_e8039acf6c77level1_row22\" class=\"row_heading level1 row22\" >0</th> \n",
       "        <td id=\"T_7cd0955e_b6d1_11e9_aa26_e8039acf6c77row22_col0\" class=\"data row22 col0\" >12.75</td> \n",
       "        <td id=\"T_7cd0955e_b6d1_11e9_aa26_e8039acf6c77row22_col1\" class=\"data row22 col1\" >12.75</td> \n",
       "        <td id=\"T_7cd0955e_b6d1_11e9_aa26_e8039acf6c77row22_col2\" class=\"data row22 col2\" >-12.75</td> \n",
       "        <td id=\"T_7cd0955e_b6d1_11e9_aa26_e8039acf6c77row22_col3\" class=\"data row22 col3\" >-12.75</td> \n",
       "        <td id=\"T_7cd0955e_b6d1_11e9_aa26_e8039acf6c77row22_col4\" class=\"data row22 col4\" >-12.75</td> \n",
       "    </tr>    <tr> \n",
       "        <th id=\"T_7cd0955e_b6d1_11e9_aa26_e8039acf6c77level0_row23\" class=\"row_heading level0 row23\" >23408</th> \n",
       "        <th id=\"T_7cd0955e_b6d1_11e9_aa26_e8039acf6c77level1_row23\" class=\"row_heading level1 row23\" >0</th> \n",
       "        <td id=\"T_7cd0955e_b6d1_11e9_aa26_e8039acf6c77row23_col0\" class=\"data row23 col0\" >-12.48</td> \n",
       "        <td id=\"T_7cd0955e_b6d1_11e9_aa26_e8039acf6c77row23_col1\" class=\"data row23 col1\" >-12.48</td> \n",
       "        <td id=\"T_7cd0955e_b6d1_11e9_aa26_e8039acf6c77row23_col2\" class=\"data row23 col2\" >-12.48</td> \n",
       "        <td id=\"T_7cd0955e_b6d1_11e9_aa26_e8039acf6c77row23_col3\" class=\"data row23 col3\" >-12.48</td> \n",
       "        <td id=\"T_7cd0955e_b6d1_11e9_aa26_e8039acf6c77row23_col4\" class=\"data row23 col4\" >-12.48</td> \n",
       "    </tr>    <tr> \n",
       "        <th id=\"T_7cd0955e_b6d1_11e9_aa26_e8039acf6c77level0_row24\" class=\"row_heading level0 row24\" >79191C</th> \n",
       "        <th id=\"T_7cd0955e_b6d1_11e9_aa26_e8039acf6c77level1_row24\" class=\"row_heading level1 row24\" >0</th> \n",
       "        <td id=\"T_7cd0955e_b6d1_11e9_aa26_e8039acf6c77row24_col0\" class=\"data row24 col0\" >-8.5</td> \n",
       "        <td id=\"T_7cd0955e_b6d1_11e9_aa26_e8039acf6c77row24_col1\" class=\"data row24 col1\" >-8.5</td> \n",
       "        <td id=\"T_7cd0955e_b6d1_11e9_aa26_e8039acf6c77row24_col2\" class=\"data row24 col2\" >-10.2</td> \n",
       "        <td id=\"T_7cd0955e_b6d1_11e9_aa26_e8039acf6c77row24_col3\" class=\"data row24 col3\" >-10.2</td> \n",
       "        <td id=\"T_7cd0955e_b6d1_11e9_aa26_e8039acf6c77row24_col4\" class=\"data row24 col4\" >-20.4</td> \n",
       "    </tr>    <tr> \n",
       "        <th id=\"T_7cd0955e_b6d1_11e9_aa26_e8039acf6c77level0_row25\" class=\"row_heading level0 row25\" >23325</th> \n",
       "        <th id=\"T_7cd0955e_b6d1_11e9_aa26_e8039acf6c77level1_row25\" class=\"row_heading level1 row25\" >0</th> \n",
       "        <td id=\"T_7cd0955e_b6d1_11e9_aa26_e8039acf6c77row25_col0\" class=\"data row25 col0\" >3.3</td> \n",
       "        <td id=\"T_7cd0955e_b6d1_11e9_aa26_e8039acf6c77row25_col1\" class=\"data row25 col1\" >3.3</td> \n",
       "        <td id=\"T_7cd0955e_b6d1_11e9_aa26_e8039acf6c77row25_col2\" class=\"data row25 col2\" >-9.9</td> \n",
       "        <td id=\"T_7cd0955e_b6d1_11e9_aa26_e8039acf6c77row25_col3\" class=\"data row25 col3\" >-9.9</td> \n",
       "        <td id=\"T_7cd0955e_b6d1_11e9_aa26_e8039acf6c77row25_col4\" class=\"data row25 col4\" >-9.9</td> \n",
       "    </tr>    <tr> \n",
       "        <th id=\"T_7cd0955e_b6d1_11e9_aa26_e8039acf6c77level0_row26\" class=\"row_heading level0 row26\" >90059C</th> \n",
       "        <th id=\"T_7cd0955e_b6d1_11e9_aa26_e8039acf6c77level1_row26\" class=\"row_heading level1 row26\" >0</th> \n",
       "        <td id=\"T_7cd0955e_b6d1_11e9_aa26_e8039acf6c77row26_col0\" class=\"data row26 col0\" >-9.9</td> \n",
       "        <td id=\"T_7cd0955e_b6d1_11e9_aa26_e8039acf6c77row26_col1\" class=\"data row26 col1\" >-9.9</td> \n",
       "        <td id=\"T_7cd0955e_b6d1_11e9_aa26_e8039acf6c77row26_col2\" class=\"data row26 col2\" >-9.9</td> \n",
       "        <td id=\"T_7cd0955e_b6d1_11e9_aa26_e8039acf6c77row26_col3\" class=\"data row26 col3\" >-9.9</td> \n",
       "        <td id=\"T_7cd0955e_b6d1_11e9_aa26_e8039acf6c77row26_col4\" class=\"data row26 col4\" >-9.9</td> \n",
       "    </tr>    <tr> \n",
       "        <th id=\"T_7cd0955e_b6d1_11e9_aa26_e8039acf6c77level0_row27\" class=\"row_heading level0 row27\" >90201A</th> \n",
       "        <th id=\"T_7cd0955e_b6d1_11e9_aa26_e8039acf6c77level1_row27\" class=\"row_heading level1 row27\" >0</th> \n",
       "        <td id=\"T_7cd0955e_b6d1_11e9_aa26_e8039acf6c77row27_col0\" class=\"data row27 col0\" >-8.85</td> \n",
       "        <td id=\"T_7cd0955e_b6d1_11e9_aa26_e8039acf6c77row27_col1\" class=\"data row27 col1\" >11.8</td> \n",
       "        <td id=\"T_7cd0955e_b6d1_11e9_aa26_e8039acf6c77row27_col2\" class=\"data row27 col2\" >-8.85</td> \n",
       "        <td id=\"T_7cd0955e_b6d1_11e9_aa26_e8039acf6c77row27_col3\" class=\"data row27 col3\" >-11.8</td> \n",
       "        <td id=\"T_7cd0955e_b6d1_11e9_aa26_e8039acf6c77row27_col4\" class=\"data row27 col4\" >-11.8</td> \n",
       "    </tr>    <tr> \n",
       "        <th id=\"T_7cd0955e_b6d1_11e9_aa26_e8039acf6c77level0_row28\" class=\"row_heading level0 row28\" >84625A</th> \n",
       "        <th id=\"T_7cd0955e_b6d1_11e9_aa26_e8039acf6c77level1_row28\" class=\"row_heading level1 row28\" >0</th> \n",
       "        <td id=\"T_7cd0955e_b6d1_11e9_aa26_e8039acf6c77row28_col0\" class=\"data row28 col0\" >0</td> \n",
       "        <td id=\"T_7cd0955e_b6d1_11e9_aa26_e8039acf6c77row28_col1\" class=\"data row28 col1\" >0</td> \n",
       "        <td id=\"T_7cd0955e_b6d1_11e9_aa26_e8039acf6c77row28_col2\" class=\"data row28 col2\" >-8.85</td> \n",
       "        <td id=\"T_7cd0955e_b6d1_11e9_aa26_e8039acf6c77row28_col3\" class=\"data row28 col3\" >-8.85</td> \n",
       "        <td id=\"T_7cd0955e_b6d1_11e9_aa26_e8039acf6c77row28_col4\" class=\"data row28 col4\" >-8.85</td> \n",
       "    </tr>    <tr> \n",
       "        <th id=\"T_7cd0955e_b6d1_11e9_aa26_e8039acf6c77level0_row29\" class=\"row_heading level0 row29\" >22967</th> \n",
       "        <th id=\"T_7cd0955e_b6d1_11e9_aa26_e8039acf6c77level1_row29\" class=\"row_heading level1 row29\" >0</th> \n",
       "        <td id=\"T_7cd0955e_b6d1_11e9_aa26_e8039acf6c77row29_col0\" class=\"data row29 col0\" >0</td> \n",
       "        <td id=\"T_7cd0955e_b6d1_11e9_aa26_e8039acf6c77row29_col1\" class=\"data row29 col1\" >17.7</td> \n",
       "        <td id=\"T_7cd0955e_b6d1_11e9_aa26_e8039acf6c77row29_col2\" class=\"data row29 col2\" >-8.85</td> \n",
       "        <td id=\"T_7cd0955e_b6d1_11e9_aa26_e8039acf6c77row29_col3\" class=\"data row29 col3\" >-8.85</td> \n",
       "        <td id=\"T_7cd0955e_b6d1_11e9_aa26_e8039acf6c77row29_col4\" class=\"data row29 col4\" >-8.85</td> \n",
       "    </tr></tbody> \n",
       "</table> "
      ],
      "text/plain": [
       "<pandas.io.formats.style.Styler at 0x1bff7a54da0>"
      ]
     },
     "execution_count": 245,
     "metadata": {},
     "output_type": "execute_result"
    }
   ],
   "source": [
    "data_tw.sort_values('last1m', ascending=True).head(30).style.highlight_min(color = 'red', axis=1)"
   ]
  },
  {
   "cell_type": "markdown",
   "metadata": {},
   "source": [
    "#### 4.1 Средний инвойс"
   ]
  },
  {
   "cell_type": "code",
   "execution_count": 263,
   "metadata": {},
   "outputs": [],
   "source": [
    "data_avg = data.groupby(['InvoiceNo']).apply(date_)"
   ]
  },
  {
   "cell_type": "code",
   "execution_count": 302,
   "metadata": {},
   "outputs": [
    {
     "data": {
      "text/html": [
       "<div>\n",
       "<style scoped>\n",
       "    .dataframe tbody tr th:only-of-type {\n",
       "        vertical-align: middle;\n",
       "    }\n",
       "\n",
       "    .dataframe tbody tr th {\n",
       "        vertical-align: top;\n",
       "    }\n",
       "\n",
       "    .dataframe thead th {\n",
       "        text-align: right;\n",
       "    }\n",
       "</style>\n",
       "<table border=\"1\" class=\"dataframe\">\n",
       "  <thead>\n",
       "    <tr style=\"text-align: right;\">\n",
       "      <th></th>\n",
       "      <th></th>\n",
       "      <th>last6m</th>\n",
       "      <th>last3m</th>\n",
       "      <th>last1m</th>\n",
       "      <th>last2w</th>\n",
       "      <th>last1w</th>\n",
       "    </tr>\n",
       "    <tr>\n",
       "      <th>InvoiceNo</th>\n",
       "      <th></th>\n",
       "      <th></th>\n",
       "      <th></th>\n",
       "      <th></th>\n",
       "      <th></th>\n",
       "      <th></th>\n",
       "    </tr>\n",
       "  </thead>\n",
       "  <tbody>\n",
       "    <tr>\n",
       "      <th>C581228</th>\n",
       "      <th>0</th>\n",
       "      <td>-162.00</td>\n",
       "      <td>-162.00</td>\n",
       "      <td>-162.00</td>\n",
       "      <td>-162.00</td>\n",
       "      <td>-162.00</td>\n",
       "    </tr>\n",
       "    <tr>\n",
       "      <th>C581229</th>\n",
       "      <th>0</th>\n",
       "      <td>-25.44</td>\n",
       "      <td>-25.44</td>\n",
       "      <td>-25.44</td>\n",
       "      <td>-25.44</td>\n",
       "      <td>-25.44</td>\n",
       "    </tr>\n",
       "    <tr>\n",
       "      <th>C581322</th>\n",
       "      <th>0</th>\n",
       "      <td>-2.95</td>\n",
       "      <td>-2.95</td>\n",
       "      <td>-2.95</td>\n",
       "      <td>-2.95</td>\n",
       "      <td>-2.95</td>\n",
       "    </tr>\n",
       "    <tr>\n",
       "      <th>C581330</th>\n",
       "      <th>0</th>\n",
       "      <td>-10.50</td>\n",
       "      <td>-10.50</td>\n",
       "      <td>-10.50</td>\n",
       "      <td>-10.50</td>\n",
       "      <td>-10.50</td>\n",
       "    </tr>\n",
       "    <tr>\n",
       "      <th>C581465</th>\n",
       "      <th>0</th>\n",
       "      <td>-8.50</td>\n",
       "      <td>-8.50</td>\n",
       "      <td>-8.50</td>\n",
       "      <td>-8.50</td>\n",
       "      <td>-8.50</td>\n",
       "    </tr>\n",
       "  </tbody>\n",
       "</table>\n",
       "</div>"
      ],
      "text/plain": [
       "             last6m  last3m  last1m  last2w  last1w\n",
       "InvoiceNo                                          \n",
       "C581228   0 -162.00 -162.00 -162.00 -162.00 -162.00\n",
       "C581229   0  -25.44  -25.44  -25.44  -25.44  -25.44\n",
       "C581322   0   -2.95   -2.95   -2.95   -2.95   -2.95\n",
       "C581330   0  -10.50  -10.50  -10.50  -10.50  -10.50\n",
       "C581465   0   -8.50   -8.50   -8.50   -8.50   -8.50"
      ]
     },
     "execution_count": 302,
     "metadata": {},
     "output_type": "execute_result"
    }
   ],
   "source": [
    "data_avg.tail()"
   ]
  },
  {
   "cell_type": "code",
   "execution_count": 279,
   "metadata": {},
   "outputs": [
    {
     "data": {
      "text/plain": [
       "last6m    10.0\n",
       "last3m    23.2\n",
       "last1m    33.0\n",
       "last2w    33.0\n",
       "last1w    33.0\n",
       "dtype: float64"
      ]
     },
     "execution_count": 279,
     "metadata": {},
     "output_type": "execute_result"
    }
   ],
   "source": [
    "data_avg.median()"
   ]
  },
  {
   "cell_type": "code",
   "execution_count": 280,
   "metadata": {},
   "outputs": [
    {
     "data": {
      "text/plain": [
       "last6m    41.675472\n",
       "last3m    54.765790\n",
       "last1m    67.224299\n",
       "last2w    67.224299\n",
       "last1w    67.224299\n",
       "dtype: float64"
      ]
     },
     "execution_count": 280,
     "metadata": {},
     "output_type": "execute_result"
    }
   ],
   "source": [
    "data_avg.mean()"
   ]
  },
  {
   "cell_type": "markdown",
   "metadata": {},
   "source": [
    "Возьмем медианные значения среднего инвойса, так как по кол-ву и цене есть много выбросов в данных"
   ]
  },
  {
   "cell_type": "markdown",
   "metadata": {},
   "source": [
    "data_avg.median().plot(kind='bar', color = 'blue', alpha=0.7)\n",
    "plt.ylabel('Avg_sum')\n",
    "plt.title('Avg_invoice')"
   ]
  },
  {
   "cell_type": "markdown",
   "metadata": {},
   "source": [
    "#### 4.2 Средняя покупка клиента"
   ]
  },
  {
   "cell_type": "code",
   "execution_count": 290,
   "metadata": {},
   "outputs": [],
   "source": [
    "def avg_(data):\n",
    "    index=range(0,1)\n",
    "    columns=['last6m', 'last3m', 'last1m','last2w', 'last1w', 'count_6m', 'count_3m', 'count_1m', 'count_2w', 'count_1w']\n",
    "    avg_df = pd.DataFrame(index=index, columns=columns)\n",
    "    counter = data.shape[0]\n",
    "    \n",
    "    avg_df['last6m'] = data[data['InvoiceDate_date'] > max(data['InvoiceDate_date']) - dateutil.relativedelta.relativedelta(month=6)]['Sum_position'].sum()\n",
    "    avg_df['last3m'] = data[data['InvoiceDate_date'] > max(data['InvoiceDate_date']) - dateutil.relativedelta.relativedelta(month=3)]['Sum_position'].sum()\n",
    "    avg_df['last1m'] = data[data['InvoiceDate_date'] > max(data['InvoiceDate_date']) - dateutil.relativedelta.relativedelta(month=1)]['Sum_position'].sum()\n",
    "    avg_df['last2w'] = data[data['InvoiceDate_date'] > max(data['InvoiceDate_date']) - dateutil.relativedelta.relativedelta(weeks=2)]['Sum_position'].sum()\n",
    "    avg_df['last1w'] = data[data['InvoiceDate_date'] > max(data['InvoiceDate_date']) - dateutil.relativedelta.relativedelta(weeks=1)]['Sum_position'].sum()\n",
    "    \n",
    "    avg_df['count_6m'] = data[data['InvoiceDate_date'] > max(data['InvoiceDate_date']) - dateutil.relativedelta.relativedelta(month=6)]['Sum_position'].count()\n",
    "    avg_df['count_3m'] = data[data['InvoiceDate_date'] > max(data['InvoiceDate_date']) - dateutil.relativedelta.relativedelta(month=3)]['Sum_position'].count()\n",
    "    avg_df['count_1m'] = data[data['InvoiceDate_date'] > max(data['InvoiceDate_date']) - dateutil.relativedelta.relativedelta(months=1)]['Sum_position'].count()\n",
    "    avg_df['count_2w'] = data[data['InvoiceDate_date'] > max(data['InvoiceDate_date']) - dateutil.relativedelta.relativedelta(weeks=2)]['Sum_position'].count()\n",
    "    avg_df['count_1w'] = data[data['InvoiceDate_date'] > max(data['InvoiceDate_date']) - dateutil.relativedelta.relativedelta(weeks=1)]['Sum_position'].count()\n",
    "  \n",
    "    return avg_df"
   ]
  },
  {
   "cell_type": "code",
   "execution_count": 291,
   "metadata": {},
   "outputs": [],
   "source": [
    "client_avg = data.groupby(['CustomerID']).apply(avg_)"
   ]
  },
  {
   "cell_type": "code",
   "execution_count": 293,
   "metadata": {},
   "outputs": [],
   "source": [
    "client_avg['avg_6m'] = client_avg['last6m'] / client_avg['count_6m']\n",
    "client_avg['avg_3m'] = client_avg['last3m'] / client_avg['count_3m']\n",
    "client_avg['avg_1m'] = client_avg['last1m'] / client_avg['count_1m']\n",
    "client_avg['avg_2w'] = client_avg['last2w'] / client_avg['count_2w']\n",
    "client_avg['avg_1w'] = client_avg['last1w'] / client_avg['count_1w']"
   ]
  },
  {
   "cell_type": "code",
   "execution_count": 304,
   "metadata": {},
   "outputs": [
    {
     "data": {
      "text/html": [
       "<div>\n",
       "<style scoped>\n",
       "    .dataframe tbody tr th:only-of-type {\n",
       "        vertical-align: middle;\n",
       "    }\n",
       "\n",
       "    .dataframe tbody tr th {\n",
       "        vertical-align: top;\n",
       "    }\n",
       "\n",
       "    .dataframe thead th {\n",
       "        text-align: right;\n",
       "    }\n",
       "</style>\n",
       "<table border=\"1\" class=\"dataframe\">\n",
       "  <thead>\n",
       "    <tr style=\"text-align: right;\">\n",
       "      <th></th>\n",
       "      <th></th>\n",
       "      <th>last6m</th>\n",
       "      <th>last3m</th>\n",
       "      <th>last1m</th>\n",
       "      <th>last2w</th>\n",
       "      <th>last1w</th>\n",
       "      <th>count_6m</th>\n",
       "      <th>count_3m</th>\n",
       "      <th>count_1m</th>\n",
       "      <th>count_2w</th>\n",
       "      <th>count_1w</th>\n",
       "      <th>avg_6m</th>\n",
       "      <th>avg_3m</th>\n",
       "      <th>avg_1m</th>\n",
       "      <th>avg_2w</th>\n",
       "      <th>avg_1w</th>\n",
       "    </tr>\n",
       "    <tr>\n",
       "      <th>CustomerID</th>\n",
       "      <th></th>\n",
       "      <th></th>\n",
       "      <th></th>\n",
       "      <th></th>\n",
       "      <th></th>\n",
       "      <th></th>\n",
       "      <th></th>\n",
       "      <th></th>\n",
       "      <th></th>\n",
       "      <th></th>\n",
       "      <th></th>\n",
       "      <th></th>\n",
       "      <th></th>\n",
       "      <th></th>\n",
       "      <th></th>\n",
       "      <th></th>\n",
       "    </tr>\n",
       "  </thead>\n",
       "  <tbody>\n",
       "    <tr>\n",
       "      <th>18281.0</th>\n",
       "      <th>0</th>\n",
       "      <td>0.00</td>\n",
       "      <td>16.50</td>\n",
       "      <td>16.50</td>\n",
       "      <td>16.50</td>\n",
       "      <td>16.50</td>\n",
       "      <td>0</td>\n",
       "      <td>1</td>\n",
       "      <td>1</td>\n",
       "      <td>1</td>\n",
       "      <td>1</td>\n",
       "      <td>NaN</td>\n",
       "      <td>16.500000</td>\n",
       "      <td>16.500000</td>\n",
       "      <td>16.500000</td>\n",
       "      <td>16.500000</td>\n",
       "    </tr>\n",
       "    <tr>\n",
       "      <th>18282.0</th>\n",
       "      <th>0</th>\n",
       "      <td>22.95</td>\n",
       "      <td>22.95</td>\n",
       "      <td>22.95</td>\n",
       "      <td>22.95</td>\n",
       "      <td>22.95</td>\n",
       "      <td>1</td>\n",
       "      <td>1</td>\n",
       "      <td>1</td>\n",
       "      <td>1</td>\n",
       "      <td>1</td>\n",
       "      <td>22.950000</td>\n",
       "      <td>22.950000</td>\n",
       "      <td>22.950000</td>\n",
       "      <td>22.950000</td>\n",
       "      <td>22.950000</td>\n",
       "    </tr>\n",
       "    <tr>\n",
       "      <th>18283.0</th>\n",
       "      <th>0</th>\n",
       "      <td>166.56</td>\n",
       "      <td>188.35</td>\n",
       "      <td>215.30</td>\n",
       "      <td>72.20</td>\n",
       "      <td>25.16</td>\n",
       "      <td>48</td>\n",
       "      <td>58</td>\n",
       "      <td>27</td>\n",
       "      <td>18</td>\n",
       "      <td>6</td>\n",
       "      <td>3.470000</td>\n",
       "      <td>3.247414</td>\n",
       "      <td>7.974074</td>\n",
       "      <td>4.011111</td>\n",
       "      <td>4.193333</td>\n",
       "    </tr>\n",
       "    <tr>\n",
       "      <th>18287.0</th>\n",
       "      <th>0</th>\n",
       "      <td>43.68</td>\n",
       "      <td>158.88</td>\n",
       "      <td>158.88</td>\n",
       "      <td>43.68</td>\n",
       "      <td>43.68</td>\n",
       "      <td>2</td>\n",
       "      <td>6</td>\n",
       "      <td>2</td>\n",
       "      <td>2</td>\n",
       "      <td>2</td>\n",
       "      <td>21.840000</td>\n",
       "      <td>26.480000</td>\n",
       "      <td>79.440000</td>\n",
       "      <td>21.840000</td>\n",
       "      <td>21.840000</td>\n",
       "    </tr>\n",
       "    <tr>\n",
       "      <th>99999999.0</th>\n",
       "      <th>0</th>\n",
       "      <td>87761.81</td>\n",
       "      <td>114956.47</td>\n",
       "      <td>135445.90</td>\n",
       "      <td>17639.73</td>\n",
       "      <td>8312.48</td>\n",
       "      <td>7165</td>\n",
       "      <td>9684</td>\n",
       "      <td>2320</td>\n",
       "      <td>1240</td>\n",
       "      <td>684</td>\n",
       "      <td>12.248682</td>\n",
       "      <td>11.870763</td>\n",
       "      <td>58.381853</td>\n",
       "      <td>14.225589</td>\n",
       "      <td>12.152749</td>\n",
       "    </tr>\n",
       "  </tbody>\n",
       "</table>\n",
       "</div>"
      ],
      "text/plain": [
       "                last6m     last3m     last1m    last2w   last1w  count_6m  \\\n",
       "CustomerID                                                                  \n",
       "18281.0    0      0.00      16.50      16.50     16.50    16.50         0   \n",
       "18282.0    0     22.95      22.95      22.95     22.95    22.95         1   \n",
       "18283.0    0    166.56     188.35     215.30     72.20    25.16        48   \n",
       "18287.0    0     43.68     158.88     158.88     43.68    43.68         2   \n",
       "99999999.0 0  87761.81  114956.47  135445.90  17639.73  8312.48      7165   \n",
       "\n",
       "              count_3m  count_1m  count_2w  count_1w     avg_6m     avg_3m  \\\n",
       "CustomerID                                                                   \n",
       "18281.0    0         1         1         1         1        NaN  16.500000   \n",
       "18282.0    0         1         1         1         1  22.950000  22.950000   \n",
       "18283.0    0        58        27        18         6   3.470000   3.247414   \n",
       "18287.0    0         6         2         2         2  21.840000  26.480000   \n",
       "99999999.0 0      9684      2320      1240       684  12.248682  11.870763   \n",
       "\n",
       "                 avg_1m     avg_2w     avg_1w  \n",
       "CustomerID                                     \n",
       "18281.0    0  16.500000  16.500000  16.500000  \n",
       "18282.0    0  22.950000  22.950000  22.950000  \n",
       "18283.0    0   7.974074   4.011111   4.193333  \n",
       "18287.0    0  79.440000  21.840000  21.840000  \n",
       "99999999.0 0  58.381853  14.225589  12.152749  "
      ]
     },
     "execution_count": 304,
     "metadata": {},
     "output_type": "execute_result"
    }
   ],
   "source": [
    "client_avg.tail()"
   ]
  },
  {
   "cell_type": "code",
   "execution_count": 298,
   "metadata": {},
   "outputs": [
    {
     "data": {
      "text/html": [
       "<style  type=\"text/css\" >\n",
       "    #T_16a49764_b6f4_11e9_b4cb_e8039acf6c77row0_col2 {\n",
       "            background-color:  green;\n",
       "        }    #T_16a49764_b6f4_11e9_b4cb_e8039acf6c77row1_col2 {\n",
       "            background-color:  green;\n",
       "        }    #T_16a49764_b6f4_11e9_b4cb_e8039acf6c77row2_col2 {\n",
       "            background-color:  green;\n",
       "        }    #T_16a49764_b6f4_11e9_b4cb_e8039acf6c77row3_col0 {\n",
       "            background-color:  green;\n",
       "        }    #T_16a49764_b6f4_11e9_b4cb_e8039acf6c77row3_col1 {\n",
       "            background-color:  green;\n",
       "        }    #T_16a49764_b6f4_11e9_b4cb_e8039acf6c77row3_col2 {\n",
       "            background-color:  green;\n",
       "        }    #T_16a49764_b6f4_11e9_b4cb_e8039acf6c77row3_col3 {\n",
       "            background-color:  green;\n",
       "        }    #T_16a49764_b6f4_11e9_b4cb_e8039acf6c77row3_col4 {\n",
       "            background-color:  green;\n",
       "        }    #T_16a49764_b6f4_11e9_b4cb_e8039acf6c77row4_col2 {\n",
       "            background-color:  green;\n",
       "        }    #T_16a49764_b6f4_11e9_b4cb_e8039acf6c77row5_col2 {\n",
       "            background-color:  green;\n",
       "        }    #T_16a49764_b6f4_11e9_b4cb_e8039acf6c77row6_col2 {\n",
       "            background-color:  green;\n",
       "        }    #T_16a49764_b6f4_11e9_b4cb_e8039acf6c77row7_col2 {\n",
       "            background-color:  green;\n",
       "        }    #T_16a49764_b6f4_11e9_b4cb_e8039acf6c77row8_col2 {\n",
       "            background-color:  green;\n",
       "        }    #T_16a49764_b6f4_11e9_b4cb_e8039acf6c77row9_col2 {\n",
       "            background-color:  green;\n",
       "        }</style>  \n",
       "<table id=\"T_16a49764_b6f4_11e9_b4cb_e8039acf6c77\" > \n",
       "<thead>    <tr> \n",
       "        <th class=\"blank\" ></th> \n",
       "        <th class=\"blank level0\" ></th> \n",
       "        <th class=\"col_heading level0 col0\" >avg_6m</th> \n",
       "        <th class=\"col_heading level0 col1\" >avg_3m</th> \n",
       "        <th class=\"col_heading level0 col2\" >avg_1m</th> \n",
       "        <th class=\"col_heading level0 col3\" >avg_2w</th> \n",
       "        <th class=\"col_heading level0 col4\" >avg_1w</th> \n",
       "    </tr>    <tr> \n",
       "        <th class=\"index_name level0\" >CustomerID</th> \n",
       "        <th class=\"index_name level1\" ></th> \n",
       "        <th class=\"blank\" ></th> \n",
       "        <th class=\"blank\" ></th> \n",
       "        <th class=\"blank\" ></th> \n",
       "        <th class=\"blank\" ></th> \n",
       "        <th class=\"blank\" ></th> \n",
       "    </tr></thead> \n",
       "<tbody>    <tr> \n",
       "        <th id=\"T_16a49764_b6f4_11e9_b4cb_e8039acf6c77level0_row0\" class=\"row_heading level0 row0\" >18102.0</th> \n",
       "        <th id=\"T_16a49764_b6f4_11e9_b4cb_e8039acf6c77level1_row0\" class=\"row_heading level1 row0\" >0</th> \n",
       "        <td id=\"T_16a49764_b6f4_11e9_b4cb_e8039acf6c77row0_col0\" class=\"data row0 col0\" >588.746</td> \n",
       "        <td id=\"T_16a49764_b6f4_11e9_b4cb_e8039acf6c77row0_col1\" class=\"data row0 col1\" >580.008</td> \n",
       "        <td id=\"T_16a49764_b6f4_11e9_b4cb_e8039acf6c77row0_col2\" class=\"data row0 col2\" >12291.6</td> \n",
       "        <td id=\"T_16a49764_b6f4_11e9_b4cb_e8039acf6c77row0_col3\" class=\"data row0 col3\" >1997.53</td> \n",
       "        <td id=\"T_16a49764_b6f4_11e9_b4cb_e8039acf6c77row0_col4\" class=\"data row0 col4\" >1997.53</td> \n",
       "    </tr>    <tr> \n",
       "        <th id=\"T_16a49764_b6f4_11e9_b4cb_e8039acf6c77level0_row1\" class=\"row_heading level0 row1\" >17949.0</th> \n",
       "        <th id=\"T_16a49764_b6f4_11e9_b4cb_e8039acf6c77level1_row1\" class=\"row_heading level1 row1\" >0</th> \n",
       "        <td id=\"T_16a49764_b6f4_11e9_b4cb_e8039acf6c77row1_col0\" class=\"data row1 col0\" >1273.22</td> \n",
       "        <td id=\"T_16a49764_b6f4_11e9_b4cb_e8039acf6c77row1_col1\" class=\"data row1 col1\" >1506.01</td> \n",
       "        <td id=\"T_16a49764_b6f4_11e9_b4cb_e8039acf6c77row1_col2\" class=\"data row1 col2\" >6024.04</td> \n",
       "        <td id=\"T_16a49764_b6f4_11e9_b4cb_e8039acf6c77row1_col3\" class=\"data row1 col3\" >1272</td> \n",
       "        <td id=\"T_16a49764_b6f4_11e9_b4cb_e8039acf6c77row1_col4\" class=\"data row1 col4\" >1272</td> \n",
       "    </tr>    <tr> \n",
       "        <th id=\"T_16a49764_b6f4_11e9_b4cb_e8039acf6c77level0_row2\" class=\"row_heading level0 row2\" >12415.0</th> \n",
       "        <th id=\"T_16a49764_b6f4_11e9_b4cb_e8039acf6c77level1_row2\" class=\"row_heading level1 row2\" >0</th> \n",
       "        <td id=\"T_16a49764_b6f4_11e9_b4cb_e8039acf6c77row2_col0\" class=\"data row2 col0\" >192.208</td> \n",
       "        <td id=\"T_16a49764_b6f4_11e9_b4cb_e8039acf6c77row2_col1\" class=\"data row2 col1\" >176.783</td> \n",
       "        <td id=\"T_16a49764_b6f4_11e9_b4cb_e8039acf6c77row2_col2\" class=\"data row2 col2\" >4944.28</td> \n",
       "        <td id=\"T_16a49764_b6f4_11e9_b4cb_e8039acf6c77row2_col3\" class=\"data row2 col3\" >223.68</td> \n",
       "        <td id=\"T_16a49764_b6f4_11e9_b4cb_e8039acf6c77row2_col4\" class=\"data row2 col4\" >249.6</td> \n",
       "    </tr>    <tr> \n",
       "        <th id=\"T_16a49764_b6f4_11e9_b4cb_e8039acf6c77level0_row3\" class=\"row_heading level0 row3\" >15195.0</th> \n",
       "        <th id=\"T_16a49764_b6f4_11e9_b4cb_e8039acf6c77level1_row3\" class=\"row_heading level1 row3\" >0</th> \n",
       "        <td id=\"T_16a49764_b6f4_11e9_b4cb_e8039acf6c77row3_col0\" class=\"data row3 col0\" >3861</td> \n",
       "        <td id=\"T_16a49764_b6f4_11e9_b4cb_e8039acf6c77row3_col1\" class=\"data row3 col1\" >3861</td> \n",
       "        <td id=\"T_16a49764_b6f4_11e9_b4cb_e8039acf6c77row3_col2\" class=\"data row3 col2\" >3861</td> \n",
       "        <td id=\"T_16a49764_b6f4_11e9_b4cb_e8039acf6c77row3_col3\" class=\"data row3 col3\" >3861</td> \n",
       "        <td id=\"T_16a49764_b6f4_11e9_b4cb_e8039acf6c77row3_col4\" class=\"data row3 col4\" >3861</td> \n",
       "    </tr>    <tr> \n",
       "        <th id=\"T_16a49764_b6f4_11e9_b4cb_e8039acf6c77level0_row4\" class=\"row_heading level0 row4\" >16333.0</th> \n",
       "        <th id=\"T_16a49764_b6f4_11e9_b4cb_e8039acf6c77level1_row4\" class=\"row_heading level1 row4\" >0</th> \n",
       "        <td id=\"T_16a49764_b6f4_11e9_b4cb_e8039acf6c77row4_col0\" class=\"data row4 col0\" >1484</td> \n",
       "        <td id=\"T_16a49764_b6f4_11e9_b4cb_e8039acf6c77row4_col1\" class=\"data row4 col1\" >1181.73</td> \n",
       "        <td id=\"T_16a49764_b6f4_11e9_b4cb_e8039acf6c77row4_col2\" class=\"data row4 col2\" >3545.2</td> \n",
       "        <td id=\"T_16a49764_b6f4_11e9_b4cb_e8039acf6c77row4_col3\" class=\"data row4 col3\" >2226</td> \n",
       "        <td id=\"T_16a49764_b6f4_11e9_b4cb_e8039acf6c77row4_col4\" class=\"data row4 col4\" >2226</td> \n",
       "    </tr>    <tr> \n",
       "        <th id=\"T_16a49764_b6f4_11e9_b4cb_e8039acf6c77level0_row5\" class=\"row_heading level0 row5\" >17450.0</th> \n",
       "        <th id=\"T_16a49764_b6f4_11e9_b4cb_e8039acf6c77level1_row5\" class=\"row_heading level1 row5\" >0</th> \n",
       "        <td id=\"T_16a49764_b6f4_11e9_b4cb_e8039acf6c77row5_col0\" class=\"data row5 col0\" >346.949</td> \n",
       "        <td id=\"T_16a49764_b6f4_11e9_b4cb_e8039acf6c77row5_col1\" class=\"data row5 col1\" >448.464</td> \n",
       "        <td id=\"T_16a49764_b6f4_11e9_b4cb_e8039acf6c77row5_col2\" class=\"data row5 col2\" >3038.91</td> \n",
       "        <td id=\"T_16a49764_b6f4_11e9_b4cb_e8039acf6c77row5_col3\" class=\"data row5 col3\" >308.256</td> \n",
       "        <td id=\"T_16a49764_b6f4_11e9_b4cb_e8039acf6c77row5_col4\" class=\"data row5 col4\" >300.36</td> \n",
       "    </tr>    <tr> \n",
       "        <th id=\"T_16a49764_b6f4_11e9_b4cb_e8039acf6c77level0_row6\" class=\"row_heading level0 row6\" >14680.0</th> \n",
       "        <th id=\"T_16a49764_b6f4_11e9_b4cb_e8039acf6c77level1_row6\" class=\"row_heading level1 row6\" >0</th> \n",
       "        <td id=\"T_16a49764_b6f4_11e9_b4cb_e8039acf6c77row6_col0\" class=\"data row6 col0\" >145.707</td> \n",
       "        <td id=\"T_16a49764_b6f4_11e9_b4cb_e8039acf6c77row6_col1\" class=\"data row6 col1\" >130.798</td> \n",
       "        <td id=\"T_16a49764_b6f4_11e9_b4cb_e8039acf6c77row6_col2\" class=\"data row6 col2\" >2740.46</td> \n",
       "        <td id=\"T_16a49764_b6f4_11e9_b4cb_e8039acf6c77row6_col3\" class=\"data row6 col3\" >61.2</td> \n",
       "        <td id=\"T_16a49764_b6f4_11e9_b4cb_e8039acf6c77row6_col4\" class=\"data row6 col4\" >61.2</td> \n",
       "    </tr>    <tr> \n",
       "        <th id=\"T_16a49764_b6f4_11e9_b4cb_e8039acf6c77level0_row7\" class=\"row_heading level0 row7\" >13694.0</th> \n",
       "        <th id=\"T_16a49764_b6f4_11e9_b4cb_e8039acf6c77level1_row7\" class=\"row_heading level1 row7\" >0</th> \n",
       "        <td id=\"T_16a49764_b6f4_11e9_b4cb_e8039acf6c77row7_col0\" class=\"data row7 col0\" >145.543</td> \n",
       "        <td id=\"T_16a49764_b6f4_11e9_b4cb_e8039acf6c77row7_col1\" class=\"data row7 col1\" >115.133</td> \n",
       "        <td id=\"T_16a49764_b6f4_11e9_b4cb_e8039acf6c77row7_col2\" class=\"data row7 col2\" >2257.71</td> \n",
       "        <td id=\"T_16a49764_b6f4_11e9_b4cb_e8039acf6c77row7_col3\" class=\"data row7 col3\" >94.08</td> \n",
       "        <td id=\"T_16a49764_b6f4_11e9_b4cb_e8039acf6c77row7_col4\" class=\"data row7 col4\" >94.08</td> \n",
       "    </tr>    <tr> \n",
       "        <th id=\"T_16a49764_b6f4_11e9_b4cb_e8039acf6c77level0_row8\" class=\"row_heading level0 row8\" >17857.0</th> \n",
       "        <th id=\"T_16a49764_b6f4_11e9_b4cb_e8039acf6c77level1_row8\" class=\"row_heading level1 row8\" >0</th> \n",
       "        <td id=\"T_16a49764_b6f4_11e9_b4cb_e8039acf6c77row8_col0\" class=\"data row8 col0\" >499.829</td> \n",
       "        <td id=\"T_16a49764_b6f4_11e9_b4cb_e8039acf6c77row8_col1\" class=\"data row8 col1\" >690.089</td> \n",
       "        <td id=\"T_16a49764_b6f4_11e9_b4cb_e8039acf6c77row8_col2\" class=\"data row8 col2\" >1552.7</td> \n",
       "        <td id=\"T_16a49764_b6f4_11e9_b4cb_e8039acf6c77row8_col3\" class=\"data row8 col3\" >400.075</td> \n",
       "        <td id=\"T_16a49764_b6f4_11e9_b4cb_e8039acf6c77row8_col4\" class=\"data row8 col4\" >456.15</td> \n",
       "    </tr>    <tr> \n",
       "        <th id=\"T_16a49764_b6f4_11e9_b4cb_e8039acf6c77level0_row9\" class=\"row_heading level0 row9\" >16684.0</th> \n",
       "        <th id=\"T_16a49764_b6f4_11e9_b4cb_e8039acf6c77level1_row9\" class=\"row_heading level1 row9\" >0</th> \n",
       "        <td id=\"T_16a49764_b6f4_11e9_b4cb_e8039acf6c77row9_col0\" class=\"data row9 col0\" >321.303</td> \n",
       "        <td id=\"T_16a49764_b6f4_11e9_b4cb_e8039acf6c77row9_col1\" class=\"data row9 col1\" >289.713</td> \n",
       "        <td id=\"T_16a49764_b6f4_11e9_b4cb_e8039acf6c77row9_col2\" class=\"data row9 col2\" >1461.24</td> \n",
       "        <td id=\"T_16a49764_b6f4_11e9_b4cb_e8039acf6c77row9_col3\" class=\"data row9 col3\" >228.96</td> \n",
       "        <td id=\"T_16a49764_b6f4_11e9_b4cb_e8039acf6c77row9_col4\" class=\"data row9 col4\" >228.96</td> \n",
       "    </tr></tbody> \n",
       "</table> "
      ],
      "text/plain": [
       "<pandas.io.formats.style.Styler at 0x1bf80c464e0>"
      ]
     },
     "execution_count": 298,
     "metadata": {},
     "output_type": "execute_result"
    }
   ],
   "source": [
    "client_avg[['avg_6m','avg_3m', 'avg_1m', 'avg_2w', 'avg_1w']].sort_values('avg_1m', ascending=False).head(10).style.highlight_max(color = 'green', axis=1)"
   ]
  },
  {
   "cell_type": "code",
   "execution_count": 297,
   "metadata": {},
   "outputs": [
    {
     "data": {
      "text/html": [
       "<style  type=\"text/css\" >\n",
       "    #T_f6cd7692_b6f3_11e9_900a_e8039acf6c77row0_col2 {\n",
       "            background-color:  yellow;\n",
       "        }    #T_f6cd7692_b6f3_11e9_900a_e8039acf6c77row1_col2 {\n",
       "            background-color:  yellow;\n",
       "        }    #T_f6cd7692_b6f3_11e9_900a_e8039acf6c77row1_col3 {\n",
       "            background-color:  yellow;\n",
       "        }    #T_f6cd7692_b6f3_11e9_900a_e8039acf6c77row1_col4 {\n",
       "            background-color:  yellow;\n",
       "        }    #T_f6cd7692_b6f3_11e9_900a_e8039acf6c77row2_col0 {\n",
       "            background-color:  yellow;\n",
       "        }    #T_f6cd7692_b6f3_11e9_900a_e8039acf6c77row2_col1 {\n",
       "            background-color:  yellow;\n",
       "        }    #T_f6cd7692_b6f3_11e9_900a_e8039acf6c77row2_col2 {\n",
       "            background-color:  yellow;\n",
       "        }    #T_f6cd7692_b6f3_11e9_900a_e8039acf6c77row2_col3 {\n",
       "            background-color:  yellow;\n",
       "        }    #T_f6cd7692_b6f3_11e9_900a_e8039acf6c77row2_col4 {\n",
       "            background-color:  yellow;\n",
       "        }    #T_f6cd7692_b6f3_11e9_900a_e8039acf6c77row3_col1 {\n",
       "            background-color:  yellow;\n",
       "        }    #T_f6cd7692_b6f3_11e9_900a_e8039acf6c77row3_col2 {\n",
       "            background-color:  yellow;\n",
       "        }    #T_f6cd7692_b6f3_11e9_900a_e8039acf6c77row3_col3 {\n",
       "            background-color:  yellow;\n",
       "        }    #T_f6cd7692_b6f3_11e9_900a_e8039acf6c77row3_col4 {\n",
       "            background-color:  yellow;\n",
       "        }    #T_f6cd7692_b6f3_11e9_900a_e8039acf6c77row4_col0 {\n",
       "            background-color:  yellow;\n",
       "        }    #T_f6cd7692_b6f3_11e9_900a_e8039acf6c77row4_col1 {\n",
       "            background-color:  yellow;\n",
       "        }    #T_f6cd7692_b6f3_11e9_900a_e8039acf6c77row4_col2 {\n",
       "            background-color:  yellow;\n",
       "        }    #T_f6cd7692_b6f3_11e9_900a_e8039acf6c77row4_col3 {\n",
       "            background-color:  yellow;\n",
       "        }    #T_f6cd7692_b6f3_11e9_900a_e8039acf6c77row4_col4 {\n",
       "            background-color:  yellow;\n",
       "        }    #T_f6cd7692_b6f3_11e9_900a_e8039acf6c77row5_col2 {\n",
       "            background-color:  yellow;\n",
       "        }    #T_f6cd7692_b6f3_11e9_900a_e8039acf6c77row6_col0 {\n",
       "            background-color:  yellow;\n",
       "        }    #T_f6cd7692_b6f3_11e9_900a_e8039acf6c77row6_col1 {\n",
       "            background-color:  yellow;\n",
       "        }    #T_f6cd7692_b6f3_11e9_900a_e8039acf6c77row6_col2 {\n",
       "            background-color:  yellow;\n",
       "        }    #T_f6cd7692_b6f3_11e9_900a_e8039acf6c77row6_col3 {\n",
       "            background-color:  yellow;\n",
       "        }    #T_f6cd7692_b6f3_11e9_900a_e8039acf6c77row6_col4 {\n",
       "            background-color:  yellow;\n",
       "        }    #T_f6cd7692_b6f3_11e9_900a_e8039acf6c77row7_col2 {\n",
       "            background-color:  yellow;\n",
       "        }    #T_f6cd7692_b6f3_11e9_900a_e8039acf6c77row8_col2 {\n",
       "            background-color:  yellow;\n",
       "        }    #T_f6cd7692_b6f3_11e9_900a_e8039acf6c77row9_col1 {\n",
       "            background-color:  yellow;\n",
       "        }    #T_f6cd7692_b6f3_11e9_900a_e8039acf6c77row9_col3 {\n",
       "            background-color:  yellow;\n",
       "        }    #T_f6cd7692_b6f3_11e9_900a_e8039acf6c77row9_col4 {\n",
       "            background-color:  yellow;\n",
       "        }</style>  \n",
       "<table id=\"T_f6cd7692_b6f3_11e9_900a_e8039acf6c77\" > \n",
       "<thead>    <tr> \n",
       "        <th class=\"blank\" ></th> \n",
       "        <th class=\"blank level0\" ></th> \n",
       "        <th class=\"col_heading level0 col0\" >avg_6m</th> \n",
       "        <th class=\"col_heading level0 col1\" >avg_3m</th> \n",
       "        <th class=\"col_heading level0 col2\" >avg_1m</th> \n",
       "        <th class=\"col_heading level0 col3\" >avg_2w</th> \n",
       "        <th class=\"col_heading level0 col4\" >avg_1w</th> \n",
       "    </tr>    <tr> \n",
       "        <th class=\"index_name level0\" >CustomerID</th> \n",
       "        <th class=\"index_name level1\" ></th> \n",
       "        <th class=\"blank\" ></th> \n",
       "        <th class=\"blank\" ></th> \n",
       "        <th class=\"blank\" ></th> \n",
       "        <th class=\"blank\" ></th> \n",
       "        <th class=\"blank\" ></th> \n",
       "    </tr></thead> \n",
       "<tbody>    <tr> \n",
       "        <th id=\"T_f6cd7692_b6f3_11e9_900a_e8039acf6c77level0_row0\" class=\"row_heading level0 row0\" >16029.0</th> \n",
       "        <th id=\"T_f6cd7692_b6f3_11e9_900a_e8039acf6c77level1_row0\" class=\"row_heading level1 row0\" >0</th> \n",
       "        <td id=\"T_f6cd7692_b6f3_11e9_900a_e8039acf6c77row0_col0\" class=\"data row0 col0\" >91.5825</td> \n",
       "        <td id=\"T_f6cd7692_b6f3_11e9_900a_e8039acf6c77row0_col1\" class=\"data row0 col1\" >-208.48</td> \n",
       "        <td id=\"T_f6cd7692_b6f3_11e9_900a_e8039acf6c77row0_col2\" class=\"data row0 col2\" >-602.834</td> \n",
       "        <td id=\"T_f6cd7692_b6f3_11e9_900a_e8039acf6c77row0_col3\" class=\"data row0 col3\" >-274.752</td> \n",
       "        <td id=\"T_f6cd7692_b6f3_11e9_900a_e8039acf6c77row0_col4\" class=\"data row0 col4\" >-274.752</td> \n",
       "    </tr>    <tr> \n",
       "        <th id=\"T_f6cd7692_b6f3_11e9_900a_e8039acf6c77level0_row1\" class=\"row_heading level0 row1\" >16716.0</th> \n",
       "        <th id=\"T_f6cd7692_b6f3_11e9_900a_e8039acf6c77level1_row1\" class=\"row_heading level1 row1\" >0</th> \n",
       "        <td id=\"T_f6cd7692_b6f3_11e9_900a_e8039acf6c77row1_col0\" class=\"data row1 col0\" >nan</td> \n",
       "        <td id=\"T_f6cd7692_b6f3_11e9_900a_e8039acf6c77row1_col1\" class=\"data row1 col1\" >nan</td> \n",
       "        <td id=\"T_f6cd7692_b6f3_11e9_900a_e8039acf6c77row1_col2\" class=\"data row1 col2\" >-581.4</td> \n",
       "        <td id=\"T_f6cd7692_b6f3_11e9_900a_e8039acf6c77row1_col3\" class=\"data row1 col3\" >-581.4</td> \n",
       "        <td id=\"T_f6cd7692_b6f3_11e9_900a_e8039acf6c77row1_col4\" class=\"data row1 col4\" >-581.4</td> \n",
       "    </tr>    <tr> \n",
       "        <th id=\"T_f6cd7692_b6f3_11e9_900a_e8039acf6c77level0_row2\" class=\"row_heading level0 row2\" >13564.0</th> \n",
       "        <th id=\"T_f6cd7692_b6f3_11e9_900a_e8039acf6c77level1_row2\" class=\"row_heading level1 row2\" >0</th> \n",
       "        <td id=\"T_f6cd7692_b6f3_11e9_900a_e8039acf6c77row2_col0\" class=\"data row2 col0\" >-550.64</td> \n",
       "        <td id=\"T_f6cd7692_b6f3_11e9_900a_e8039acf6c77row2_col1\" class=\"data row2 col1\" >-550.64</td> \n",
       "        <td id=\"T_f6cd7692_b6f3_11e9_900a_e8039acf6c77row2_col2\" class=\"data row2 col2\" >-550.64</td> \n",
       "        <td id=\"T_f6cd7692_b6f3_11e9_900a_e8039acf6c77row2_col3\" class=\"data row2 col3\" >-550.64</td> \n",
       "        <td id=\"T_f6cd7692_b6f3_11e9_900a_e8039acf6c77row2_col4\" class=\"data row2 col4\" >-550.64</td> \n",
       "    </tr>    <tr> \n",
       "        <th id=\"T_f6cd7692_b6f3_11e9_900a_e8039acf6c77level0_row3\" class=\"row_heading level0 row3\" >16163.0</th> \n",
       "        <th id=\"T_f6cd7692_b6f3_11e9_900a_e8039acf6c77level1_row3\" class=\"row_heading level1 row3\" >0</th> \n",
       "        <td id=\"T_f6cd7692_b6f3_11e9_900a_e8039acf6c77row3_col0\" class=\"data row3 col0\" >nan</td> \n",
       "        <td id=\"T_f6cd7692_b6f3_11e9_900a_e8039acf6c77row3_col1\" class=\"data row3 col1\" >-415</td> \n",
       "        <td id=\"T_f6cd7692_b6f3_11e9_900a_e8039acf6c77row3_col2\" class=\"data row3 col2\" >-415</td> \n",
       "        <td id=\"T_f6cd7692_b6f3_11e9_900a_e8039acf6c77row3_col3\" class=\"data row3 col3\" >-415</td> \n",
       "        <td id=\"T_f6cd7692_b6f3_11e9_900a_e8039acf6c77row3_col4\" class=\"data row3 col4\" >-415</td> \n",
       "    </tr>    <tr> \n",
       "        <th id=\"T_f6cd7692_b6f3_11e9_900a_e8039acf6c77level0_row4\" class=\"row_heading level0 row4\" >13217.0</th> \n",
       "        <th id=\"T_f6cd7692_b6f3_11e9_900a_e8039acf6c77level1_row4\" class=\"row_heading level1 row4\" >0</th> \n",
       "        <td id=\"T_f6cd7692_b6f3_11e9_900a_e8039acf6c77row4_col0\" class=\"data row4 col0\" >-239.04</td> \n",
       "        <td id=\"T_f6cd7692_b6f3_11e9_900a_e8039acf6c77row4_col1\" class=\"data row4 col1\" >-239.04</td> \n",
       "        <td id=\"T_f6cd7692_b6f3_11e9_900a_e8039acf6c77row4_col2\" class=\"data row4 col2\" >-239.04</td> \n",
       "        <td id=\"T_f6cd7692_b6f3_11e9_900a_e8039acf6c77row4_col3\" class=\"data row4 col3\" >-239.04</td> \n",
       "        <td id=\"T_f6cd7692_b6f3_11e9_900a_e8039acf6c77row4_col4\" class=\"data row4 col4\" >-239.04</td> \n",
       "    </tr>    <tr> \n",
       "        <th id=\"T_f6cd7692_b6f3_11e9_900a_e8039acf6c77level0_row5\" class=\"row_heading level0 row5\" >17603.0</th> \n",
       "        <th id=\"T_f6cd7692_b6f3_11e9_900a_e8039acf6c77level1_row5\" class=\"row_heading level1 row5\" >0</th> \n",
       "        <td id=\"T_f6cd7692_b6f3_11e9_900a_e8039acf6c77row5_col0\" class=\"data row5 col0\" >-108.268</td> \n",
       "        <td id=\"T_f6cd7692_b6f3_11e9_900a_e8039acf6c77row5_col1\" class=\"data row5 col1\" >-108.268</td> \n",
       "        <td id=\"T_f6cd7692_b6f3_11e9_900a_e8039acf6c77row5_col2\" class=\"data row5 col2\" >-144.357</td> \n",
       "        <td id=\"T_f6cd7692_b6f3_11e9_900a_e8039acf6c77row5_col3\" class=\"data row5 col3\" >90.7933</td> \n",
       "        <td id=\"T_f6cd7692_b6f3_11e9_900a_e8039acf6c77row5_col4\" class=\"data row5 col4\" >90.7933</td> \n",
       "    </tr>    <tr> \n",
       "        <th id=\"T_f6cd7692_b6f3_11e9_900a_e8039acf6c77level0_row6\" class=\"row_heading level0 row6\" >16546.0</th> \n",
       "        <th id=\"T_f6cd7692_b6f3_11e9_900a_e8039acf6c77level1_row6\" class=\"row_heading level1 row6\" >0</th> \n",
       "        <td id=\"T_f6cd7692_b6f3_11e9_900a_e8039acf6c77row6_col0\" class=\"data row6 col0\" >-103.68</td> \n",
       "        <td id=\"T_f6cd7692_b6f3_11e9_900a_e8039acf6c77row6_col1\" class=\"data row6 col1\" >-103.68</td> \n",
       "        <td id=\"T_f6cd7692_b6f3_11e9_900a_e8039acf6c77row6_col2\" class=\"data row6 col2\" >-103.68</td> \n",
       "        <td id=\"T_f6cd7692_b6f3_11e9_900a_e8039acf6c77row6_col3\" class=\"data row6 col3\" >-103.68</td> \n",
       "        <td id=\"T_f6cd7692_b6f3_11e9_900a_e8039acf6c77row6_col4\" class=\"data row6 col4\" >-103.68</td> \n",
       "    </tr>    <tr> \n",
       "        <th id=\"T_f6cd7692_b6f3_11e9_900a_e8039acf6c77level0_row7\" class=\"row_heading level0 row7\" >13225.0</th> \n",
       "        <th id=\"T_f6cd7692_b6f3_11e9_900a_e8039acf6c77level1_row7\" class=\"row_heading level1 row7\" >0</th> \n",
       "        <td id=\"T_f6cd7692_b6f3_11e9_900a_e8039acf6c77row7_col0\" class=\"data row7 col0\" >177.6</td> \n",
       "        <td id=\"T_f6cd7692_b6f3_11e9_900a_e8039acf6c77row7_col1\" class=\"data row7 col1\" >-48.05</td> \n",
       "        <td id=\"T_f6cd7692_b6f3_11e9_900a_e8039acf6c77row7_col2\" class=\"data row7 col2\" >-96.1</td> \n",
       "        <td id=\"T_f6cd7692_b6f3_11e9_900a_e8039acf6c77row7_col3\" class=\"data row7 col3\" >177.6</td> \n",
       "        <td id=\"T_f6cd7692_b6f3_11e9_900a_e8039acf6c77row7_col4\" class=\"data row7 col4\" >177.6</td> \n",
       "    </tr>    <tr> \n",
       "        <th id=\"T_f6cd7692_b6f3_11e9_900a_e8039acf6c77level0_row8\" class=\"row_heading level0 row8\" >17867.0</th> \n",
       "        <th id=\"T_f6cd7692_b6f3_11e9_900a_e8039acf6c77level1_row8\" class=\"row_heading level1 row8\" >0</th> \n",
       "        <td id=\"T_f6cd7692_b6f3_11e9_900a_e8039acf6c77row8_col0\" class=\"data row8 col0\" >-67.6475</td> \n",
       "        <td id=\"T_f6cd7692_b6f3_11e9_900a_e8039acf6c77row8_col1\" class=\"data row8 col1\" >-59.8978</td> \n",
       "        <td id=\"T_f6cd7692_b6f3_11e9_900a_e8039acf6c77row8_col2\" class=\"data row8 col2\" >-77.0114</td> \n",
       "        <td id=\"T_f6cd7692_b6f3_11e9_900a_e8039acf6c77row8_col3\" class=\"data row8 col3\" >2.91714</td> \n",
       "        <td id=\"T_f6cd7692_b6f3_11e9_900a_e8039acf6c77row8_col4\" class=\"data row8 col4\" >2.91714</td> \n",
       "    </tr>    <tr> \n",
       "        <th id=\"T_f6cd7692_b6f3_11e9_900a_e8039acf6c77level0_row9\" class=\"row_heading level0 row9\" >17152.0</th> \n",
       "        <th id=\"T_f6cd7692_b6f3_11e9_900a_e8039acf6c77level1_row9\" class=\"row_heading level1 row9\" >0</th> \n",
       "        <td id=\"T_f6cd7692_b6f3_11e9_900a_e8039acf6c77row9_col0\" class=\"data row9 col0\" >nan</td> \n",
       "        <td id=\"T_f6cd7692_b6f3_11e9_900a_e8039acf6c77row9_col1\" class=\"data row9 col1\" >-93</td> \n",
       "        <td id=\"T_f6cd7692_b6f3_11e9_900a_e8039acf6c77row9_col2\" class=\"data row9 col2\" >-68.475</td> \n",
       "        <td id=\"T_f6cd7692_b6f3_11e9_900a_e8039acf6c77row9_col3\" class=\"data row9 col3\" >-93</td> \n",
       "        <td id=\"T_f6cd7692_b6f3_11e9_900a_e8039acf6c77row9_col4\" class=\"data row9 col4\" >-93</td> \n",
       "    </tr></tbody> \n",
       "</table> "
      ],
      "text/plain": [
       "<pandas.io.formats.style.Styler at 0x1bf82723518>"
      ]
     },
     "execution_count": 297,
     "metadata": {},
     "output_type": "execute_result"
    }
   ],
   "source": [
    "client_avg[['avg_6m','avg_3m', 'avg_1m', 'avg_2w', 'avg_1w']].sort_values('avg_1m', ascending=True).head(10).style.highlight_min(color = 'yellow', axis=1)"
   ]
  },
  {
   "cell_type": "markdown",
   "metadata": {},
   "source": [
    "#### 5. Распределние продаж по дням недели и часам"
   ]
  },
  {
   "cell_type": "code",
   "execution_count": 246,
   "metadata": {},
   "outputs": [
    {
     "data": {
      "text/plain": [
       "<matplotlib.axes._subplots.AxesSubplot at 0x1bfff969128>"
      ]
     },
     "execution_count": 246,
     "metadata": {},
     "output_type": "execute_result"
    },
    {
     "data": {
      "image/png": "[encoded data removed]",
      "text/plain": [
       "<Figure size 432x288 with 1 Axes>"
      ]
     },
     "metadata": {
      "needs_background": "light"
     },
     "output_type": "display_data"
    }
   ],
   "source": [
    "data.groupby(['day_of_transaction']).sum()[['Sum_position']].sort_values('Sum_position', ascending = False ).plot(kind = 'barh')"
   ]
  },
  {
   "cell_type": "code",
   "execution_count": 248,
   "metadata": {},
   "outputs": [
    {
     "data": {
      "text/plain": [
       "<matplotlib.axes._subplots.AxesSubplot at 0x1bffbf96208>"
      ]
     },
     "execution_count": 248,
     "metadata": {},
     "output_type": "execute_result"
    },
    {
     "data": {
      "image/png": "[encoded data removed]",
      "text/plain": [
       "<Figure size 432x288 with 1 Axes>"
      ]
     },
     "metadata": {
      "needs_background": "light"
     },
     "output_type": "display_data"
    }
   ],
   "source": [
    "data.groupby(['hour_of_transaction']).sum()[['Sum_position']].sort_values('Sum_position', ascending = False ).plot(kind = 'barh')"
   ]
  },
  {
   "cell_type": "markdown",
   "metadata": {},
   "source": [
    "Такое ощущение, что в этом онлайн магазине клиенты - работники организаций, так как основная масса покупок происходит в будние дни и в рабочие часы"
   ]
  }
 ],
 "metadata": {
  "colab": {
   "include_colab_link": true,
   "name": "Untitled8.ipynb",
   "provenance": [],
   "version": "0.3.2"
  },
  "kernelspec": {
   "display_name": "Python 3",
   "language": "python",
   "name": "python3"
  },
  "language_info": {
   "codemirror_mode": {
    "name": "ipython",
    "version": 3
   },
   "file_extension": ".py",
   "mimetype": "text/x-python",
   "name": "python",
   "nbconvert_exporter": "python",
   "pygments_lexer": "ipython3",
   "version": "3.7.1"
  }
 },
 "nbformat": 4,
 "nbformat_minor": 1
}
